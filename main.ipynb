{
 "cells": [
  {
   "cell_type": "markdown",
   "metadata": {
    "collapsed": false,
    "pycharm": {
     "name": "#%% md\n"
    }
   },
   "source": [
    "### TODO:\n",
    "1. ellenőrizni megyéket: lett évről-évre eltérés? --> ha nincs nagy eltérés, hozzuk egy oszlopra\n",
    "2. adatokat aggregálni megye illetve gazdálkodási forma és ágazat kategória szerint\n",
    "3. feature_importance check\n",
    "4. cross-validation\n",
    "5. number of trees to use: plot the training: num trees on x and error on y axis"
   ]
  },
  {
   "cell_type": "code",
   "execution_count": 1,
   "metadata": {
    "pycharm": {
     "name": "#%%\n"
    }
   },
   "outputs": [],
   "source": [
    "import pandas as pd\n",
    "import matplotlib.pyplot as plt\n",
    "import sklearn as sk"
   ]
  },
  {
   "cell_type": "code",
   "execution_count": 15,
   "metadata": {
    "pycharm": {
     "name": "#%%\n"
    }
   },
   "outputs": [],
   "source": [
    "from sklearn.model_selection import train_test_split\n",
    "\n",
    "target_column = 'target_reg'\n",
    "\n",
    "train_df = pd.read_csv('./dataset/train.csv')\n",
    "evaluation_df = pd.read_csv('./dataset/test.csv')\n"
   ]
  },
  {
   "cell_type": "markdown",
   "metadata": {
    "collapsed": false,
    "pycharm": {
     "name": "#%% md\n"
    }
   },
   "source": [
    "# Clean data, reduce features"
   ]
  },
  {
   "cell_type": "code",
   "execution_count": 3,
   "metadata": {
    "collapsed": false,
    "pycharm": {
     "name": "#%%\n"
    }
   },
   "outputs": [],
   "source": [
    "train_df.dropna(inplace=True)"
   ]
  },
  {
   "cell_type": "code",
   "execution_count": 53,
   "metadata": {},
   "outputs": [],
   "source": [
    "COLUMN_GROUPS = [\n",
    "    ['MEGYE_2014', 'MEGYE_2015', 'MEGYE_2016'], \n",
    "    ['SZEKHELY_IR_SZAM_2014', 'SZEKHELY_IR_SZAM_2015', 'SZEKHELY_IR_SZAM_2016'],\n",
    "    ['GAZDALKODASI_FORMA_2014_fo_kategoria', 'GAZDALKODASI_FORMA_2015_fo_kategoria', 'GAZDALKODASI_FORMA_2016_fo_kategoria'],\n",
    "    ['GAZDALKODASI_FORMA_2014_1_alkategoria', 'GAZDALKODASI_FORMA_2015_1_alkategoria', 'GAZDALKODASI_FORMA_2016_1_alkategoria'],\n",
    "    ['GAZDALKODASI_FORMA_2014_2_alkategoria', 'GAZDALKODASI_FORMA_2015_2_alkategoria', 'GAZDALKODASI_FORMA_2016_2_alkategoria'],\n",
    "    ['KKV_BESOROLAS_2014_fo_kategoria', 'KKV_BESOROLAS_2015_fo_kategoria', 'KKV_BESOROLAS_2016_fo_kategoria'],\n",
    "    ['KKV_BESOROLAS_2014_1_alkategoria', 'KKV_BESOROLAS_2015_1_alkategoria', 'KKV_BESOROLAS_2016_1_alkategoria'],\n",
    "    ['KKV_BESOROLAS_2014_2_alkategoria', 'KKV_BESOROLAS_2015_2_alkategoria', 'KKV_BESOROLAS_2016_2_alkategoria'],\n",
    "    ['agazat_2014_fo_kategoria', 'agazat_2015_fo_kategoria', 'agazat_2016_fo_kategoria'],\n",
    "    ['agazat_2014_1_alkategoria', 'agazat_2015_1_alkategoria', 'agazat_2016_1_alkategoria'],\n",
    "    ['agazat_2014_2_alkategoria', 'agazat_2015_2_alkategoria', 'agazat_2016_2_alkategoria'],\n",
    "    ['agazat_2014_3_alkategoria', 'agazat_2015_3_alkategoria', 'agazat_2016_3_alkategoria'],\n",
    "]"
   ]
  },
  {
   "cell_type": "code",
   "execution_count": 59,
   "metadata": {},
   "outputs": [],
   "source": [
    "from itertools import combinations\n",
    "\n",
    "\n",
    "def check_if_difference_in_columns(df, columns):\n",
    "    for pair in combinations(columns, 2):\n",
    "        column_a, column_b = pair[0], pair[1]\n",
    "        differing_number_of_rows = df.loc[df[column_a] != df[column_b]].shape[0]\n",
    "        if differing_number_of_rows > 0:\n",
    "            print(\n",
    "                f'different number of rows: {differing_number_of_rows}',\n",
    "                f'found in columns: {column_a}, {column_b}',\n",
    "                sep=' '\n",
    "            )\n",
    "            return True\n",
    "\n",
    "    return False\n",
    "\n",
    "def check_column_groups_for_difference(df, column_groups):\n",
    "    for group in column_groups:\n",
    "        check_if_difference_in_columns(df, group)\n",
    "\n",
    "\n"
   ]
  },
  {
   "cell_type": "code",
   "execution_count": 60,
   "metadata": {},
   "outputs": [
    {
     "name": "stdout",
     "output_type": "stream",
     "text": [
      "different number of rows: 24 found in columns: KKV_BESOROLAS_2014_fo_kategoria, KKV_BESOROLAS_2015_fo_kategoria\n",
      "different number of rows: 24 found in columns: KKV_BESOROLAS_2014_1_alkategoria, KKV_BESOROLAS_2015_1_alkategoria\n",
      "different number of rows: 24 found in columns: KKV_BESOROLAS_2014_2_alkategoria, KKV_BESOROLAS_2015_2_alkategoria\n",
      "different number of rows: 501 found in columns: agazat_2014_fo_kategoria, agazat_2015_fo_kategoria\n",
      "different number of rows: 604 found in columns: agazat_2014_1_alkategoria, agazat_2015_1_alkategoria\n",
      "different number of rows: 618 found in columns: agazat_2014_2_alkategoria, agazat_2015_2_alkategoria\n",
      "different number of rows: 1969 found in columns: agazat_2014_3_alkategoria, agazat_2015_3_alkategoria\n"
     ]
    }
   ],
   "source": [
    "check_column_groups_for_difference(df=train_df, column_groups=COLUMN_GROUPS)"
   ]
  },
  {
   "cell_type": "code",
   "execution_count": 61,
   "metadata": {},
   "outputs": [
    {
     "name": "stdout",
     "output_type": "stream",
     "text": [
      "different number of rows: 16 found in columns: KKV_BESOROLAS_2014_fo_kategoria, KKV_BESOROLAS_2015_fo_kategoria\n",
      "different number of rows: 16 found in columns: KKV_BESOROLAS_2014_1_alkategoria, KKV_BESOROLAS_2015_1_alkategoria\n",
      "different number of rows: 16 found in columns: KKV_BESOROLAS_2014_2_alkategoria, KKV_BESOROLAS_2015_2_alkategoria\n",
      "different number of rows: 471 found in columns: agazat_2014_fo_kategoria, agazat_2015_fo_kategoria\n",
      "different number of rows: 584 found in columns: agazat_2014_1_alkategoria, agazat_2015_1_alkategoria\n",
      "different number of rows: 607 found in columns: agazat_2014_2_alkategoria, agazat_2015_2_alkategoria\n",
      "different number of rows: 1589 found in columns: agazat_2014_3_alkategoria, agazat_2015_3_alkategoria\n"
     ]
    }
   ],
   "source": [
    "check_column_groups_for_difference(df=evaluation_df, column_groups=COLUMN_GROUPS)"
   ]
  },
  {
   "cell_type": "markdown",
   "metadata": {
    "collapsed": false,
    "pycharm": {
     "name": "#%% md\n"
    }
   },
   "source": [
    "from the 3 megye columns 1 is enough, since there was no change in any of the rows"
   ]
  },
  {
   "cell_type": "code",
   "execution_count": 31,
   "metadata": {
    "collapsed": false,
    "pycharm": {
     "name": "#%%\n"
    }
   },
   "outputs": [],
   "source": [
    "train_df_reduced_features = train_df.copy()\n",
    "\n",
    "train_df_reduced_features.drop(['MEGYE_2015', 'MEGYE_2016'], axis='columns', inplace=True)\n",
    "train_df_reduced_features.rename(columns={'MEGYE_2014': 'megye'}, inplace=True)"
   ]
  },
  {
   "cell_type": "code",
   "execution_count": 32,
   "metadata": {},
   "outputs": [
    {
     "name": "stdout",
     "output_type": "stream",
     "text": [
      "(0, 130)\n",
      "(0, 130)\n",
      "(0, 130)\n"
     ]
    }
   ],
   "source": [
    "print(train_df_reduced_features.loc[train_df_reduced_features['SZEKHELY_IR_SZAM_2014'] != train_df_reduced_features['SZEKHELY_IR_SZAM_2015']].shape)\n",
    "print(train_df_reduced_features.loc[train_df_reduced_features['SZEKHELY_IR_SZAM_2015'] != train_df_reduced_features['SZEKHELY_IR_SZAM_2016']].shape)\n",
    "print(train_df_reduced_features.loc[train_df_reduced_features['SZEKHELY_IR_SZAM_2014'] != train_df_reduced_features['SZEKHELY_IR_SZAM_2016']].shape)\n"
   ]
  },
  {
   "cell_type": "markdown",
   "metadata": {},
   "source": [
    "szekhely columns don't change either, we can keep one"
   ]
  },
  {
   "cell_type": "code",
   "execution_count": 33,
   "metadata": {},
   "outputs": [],
   "source": [
    "train_df_reduced_features.drop(['SZEKHELY_IR_SZAM_2014', 'SZEKHELY_IR_SZAM_2015'], axis='columns', inplace=True)\n",
    "train_df_reduced_features.rename(columns={'SZEKHELY_IR_SZAM_2016': 'iranyito_szam'}, inplace=True)"
   ]
  },
  {
   "cell_type": "markdown",
   "metadata": {
    "collapsed": false,
    "pycharm": {
     "name": "#%% md\n"
    }
   },
   "source": [
    "### target_reg min miért negatív? létezik negatív export? + plottal meg lehetne vizsgálni"
   ]
  },
  {
   "cell_type": "code",
   "execution_count": null,
   "metadata": {
    "collapsed": false,
    "pycharm": {
     "name": "#%%\n"
    }
   },
   "outputs": [],
   "source": [
    "print(train_df.describe())"
   ]
  },
  {
   "cell_type": "code",
   "execution_count": null,
   "metadata": {
    "pycharm": {
     "name": "#%%\n"
    }
   },
   "outputs": [],
   "source": [
    "from sklearn.preprocessing import OneHotEncoder\n",
    "from utils import columns_to_onehotencode\n",
    "\n",
    "encoder = OneHotEncoder(handle_unknown='ignore')\n",
    "\n",
    "encoder_df = pd.DataFrame(encoder.fit_transform(train_df[[*columns_to_onehotencode]]).toarray())\n",
    "train_df.reset_index(inplace=True)\n",
    "encoder_df.reset_index(inplace=True)\n",
    "train_df = pd.concat([train_df, encoder_df], axis='columns')\n",
    "print(train_df.shape)\n",
    "print(train_df.isna().sum().sum())"
   ]
  },
  {
   "cell_type": "markdown",
   "metadata": {
    "collapsed": false,
    "pycharm": {
     "name": "#%% md\n"
    }
   },
   "source": [
    "# Train"
   ]
  },
  {
   "cell_type": "code",
   "execution_count": null,
   "metadata": {
    "pycharm": {
     "name": "#%%\n"
    }
   },
   "outputs": [],
   "source": [
    "target_df = train_df[target_column]\n",
    "train_df.drop([target_column, *columns_to_onehotencode], axis='columns', inplace=True)\n",
    "\n",
    "train_df.columns = train_df.columns.map(str)\n",
    "\n",
    "x_train, x_test, y_train, y_test = train_test_split(train_df, target_df, random_state=42)"
   ]
  },
  {
   "cell_type": "code",
   "execution_count": null,
   "metadata": {
    "pycharm": {
     "name": "#%%\n"
    }
   },
   "outputs": [],
   "source": [
    "from sklearn.ensemble import RandomForestRegressor\n",
    "\n",
    "rf = RandomForestRegressor(n_estimators=50, random_state=42)\n",
    "rf.fit(x_train,y_train)\n",
    "predictions = rf.predict(x_test)"
   ]
  },
  {
   "cell_type": "markdown",
   "metadata": {
    "collapsed": false,
    "pycharm": {
     "name": "#%% md\n"
    }
   },
   "source": [
    "# Evaluate"
   ]
  },
  {
   "cell_type": "code",
   "execution_count": null,
   "metadata": {
    "collapsed": false,
    "pycharm": {
     "name": "#%%\n"
    }
   },
   "outputs": [],
   "source": [
    "from sklearn.metrics import mean_squared_error\n",
    "from sklearn.metrics import mean_absolute_error\n",
    "mse = mean_squared_error(predictions, y_test)\n",
    "mae = mean_absolute_error(predictions, y_test)\n",
    "print(f'mean squared error: {mse}')\n",
    "print(f'mean absolute error: {mae}')"
   ]
  }
 ],
 "metadata": {
  "interpreter": {
   "hash": "93846be68b439b3b4228cce25cd2ff7ada1ea361474b134df07a7198f8f52a9b"
  },
  "kernelspec": {
   "display_name": "Python 3.9.1 64-bit (system)",
   "language": "python",
   "name": "python3"
  },
  "language_info": {
   "codemirror_mode": {
    "name": "ipython",
    "version": 3
   },
   "file_extension": ".py",
   "mimetype": "text/x-python",
   "name": "python",
   "nbconvert_exporter": "python",
   "pygments_lexer": "ipython3",
   "version": "3.9.1"
  },
  "orig_nbformat": 4
 },
 "nbformat": 4,
 "nbformat_minor": 2
}
