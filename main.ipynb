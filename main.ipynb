{
 "cells": [
  {
   "cell_type": "markdown",
   "metadata": {
    "collapsed": false,
    "pycharm": {
     "name": "#%% md\n"
    }
   },
   "source": [
    "### TODO:\n",
    "1. ellenőrizni megyéket: lett évről-évre eltérés? --> ha nincs nagy eltérés, hozzuk egy oszlopra\n",
    "2. adatokat aggregálni megye illetve gazdálkodási forma és ágazat kategória szerint\n",
    "3. feature_importance check\n",
    "4. cross-validation\n",
    "5. number of trees to use: plot the training: num trees on x and error on y axis"
   ]
  },
  {
   "cell_type": "code",
   "execution_count": 1,
   "metadata": {
    "pycharm": {
     "name": "#%%\n"
    }
   },
   "outputs": [],
   "source": [
    "import pandas as pd\n",
    "import matplotlib.pyplot as plt\n",
    "import sklearn as sk"
   ]
  },
  {
   "cell_type": "code",
   "execution_count": 14,
   "metadata": {
    "pycharm": {
     "name": "#%%\n"
    }
   },
   "outputs": [],
   "source": [
    "from sklearn.model_selection import train_test_split\n",
    "\n",
    "target_column = 'target_reg'\n",
    "\n",
    "train_df = pd.read_csv('./dataset/train.csv')\n",
    "evaluation_df = pd.read_csv('./dataset/test.csv')"
   ]
  },
  {
   "cell_type": "markdown",
   "metadata": {
    "collapsed": false,
    "pycharm": {
     "name": "#%% md\n"
    }
   },
   "source": [
    "# Clean data, reduce features"
   ]
  },
  {
   "cell_type": "code",
   "execution_count": 15,
   "metadata": {
    "collapsed": false,
    "pycharm": {
     "name": "#%%\n"
    }
   },
   "outputs": [],
   "source": [
    "train_df.dropna(inplace=True)"
   ]
  },
  {
   "cell_type": "code",
   "execution_count": 16,
   "metadata": {
    "pycharm": {
     "name": "#%%\n"
    }
   },
   "outputs": [],
   "source": [
    "MEGYE_COLUMNS = ['MEGYE_2014', 'MEGYE_2015', 'MEGYE_2016']\n",
    "SZEKHELY_COLUMNS = ['SZEKHELY_IR_SZAM_2014', 'SZEKHELY_IR_SZAM_2015', 'SZEKHELY_IR_SZAM_2016']\n",
    "\n",
    "GAZD_FORMA_FO_KAT_COLUMNS = ['GAZDALKODASI_FORMA_2014_fo_kategoria', 'GAZDALKODASI_FORMA_2015_fo_kategoria', 'GAZDALKODASI_FORMA_2016_fo_kategoria']\n",
    "GAZD_FORMA_1_ALKAT_COLUMNS = ['GAZDALKODASI_FORMA_2014_1_alkategoria', 'GAZDALKODASI_FORMA_2015_1_alkategoria', 'GAZDALKODASI_FORMA_2016_1_alkategoria']\n",
    "GAZD_FORMA_2_ALKAT_COLUMNS = ['GAZDALKODASI_FORMA_2014_2_alkategoria', 'GAZDALKODASI_FORMA_2015_2_alkategoria', 'GAZDALKODASI_FORMA_2016_2_alkategoria']\n",
    "\n",
    "KKV_BESOR_FO_KAT_COLUMNS = ['KKV_BESOROLAS_2014_fo_kategoria', 'KKV_BESOROLAS_2015_fo_kategoria', 'KKV_BESOROLAS_2016_fo_kategoria']\n",
    "KKV_BESOR_1_ALKAT_COLUMNS = ['KKV_BESOROLAS_2014_1_alkategoria', 'KKV_BESOROLAS_2015_1_alkategoria', 'KKV_BESOROLAS_2016_1_alkategoria']\n",
    "KKV_BESOR_2_ALKAT_COLUMNS = ['KKV_BESOROLAS_2014_2_alkategoria', 'KKV_BESOROLAS_2015_2_alkategoria', 'KKV_BESOROLAS_2016_2_alkategoria']\n",
    "\n",
    "AGAZAT_FO_KAT_COLUMNS = ['agazat_2014_fo_kategoria', 'agazat_2015_fo_kategoria', 'agazat_2016_fo_kategoria'] \n",
    "AGAZAT_1_ALKAT_COLUMNS = ['agazat_2014_1_alkategoria', 'agazat_2015_1_alkategoria', 'agazat_2016_1_alkategoria']\n",
    "AGAZAT_2_ALKAT_COLUMNS = ['agazat_2014_2_alkategoria', 'agazat_2015_2_alkategoria', 'agazat_2016_2_alkategoria']\n",
    "AGAZAT_3_ALKAT_COLUMNS = ['agazat_2014_3_alkategoria', 'agazat_2015_3_alkategoria', 'agazat_2016_3_alkategoria']\n",
    "\n",
    "COLUMN_GROUPS = [\n",
    "    MEGYE_COLUMNS, \n",
    "    SZEKHELY_COLUMNS,\n",
    "    GAZD_FORMA_FO_KAT_COLUMNS,\n",
    "    GAZD_FORMA_1_ALKAT_COLUMNS,\n",
    "    GAZD_FORMA_2_ALKAT_COLUMNS,\n",
    "    KKV_BESOR_FO_KAT_COLUMNS,\n",
    "    KKV_BESOR_1_ALKAT_COLUMNS,\n",
    "    KKV_BESOR_2_ALKAT_COLUMNS,\n",
    "    AGAZAT_FO_KAT_COLUMNS,\n",
    "    AGAZAT_1_ALKAT_COLUMNS,\n",
    "    AGAZAT_2_ALKAT_COLUMNS,\n",
    "    AGAZAT_3_ALKAT_COLUMNS,\n",
    "]"
   ]
  },
  {
   "cell_type": "code",
   "execution_count": 17,
   "metadata": {
    "pycharm": {
     "name": "#%%\n"
    }
   },
   "outputs": [],
   "source": [
    "from itertools import combinations\n",
    "\n",
    "\n",
    "def check_if_difference_in_columns(df, columns):\n",
    "    for pair in combinations(columns, 2):\n",
    "        column_a, column_b = pair[0], pair[1]\n",
    "        differing_number_of_rows = df.loc[df[column_a] != df[column_b]].shape[0]\n",
    "        if differing_number_of_rows > 0:\n",
    "            print(\n",
    "                f'different number of rows: {differing_number_of_rows}',\n",
    "                f'found in columns: {column_a}, {column_b}',\n",
    "                sep=' '\n",
    "            )\n",
    "        else:\n",
    "            print(f'no difference in columns: {column_a}, {column_b}')\n",
    "\n",
    "    return False\n",
    "\n",
    "def check_column_groups_for_difference(df, column_groups):\n",
    "    for group in column_groups:\n",
    "        check_if_difference_in_columns(df, group)\n",
    "\n",
    "\n"
   ]
  },
  {
   "cell_type": "code",
   "execution_count": 18,
   "metadata": {
    "pycharm": {
     "name": "#%%\n"
    }
   },
   "outputs": [
    {
     "data": {
      "text/plain": "16"
     },
     "execution_count": 18,
     "metadata": {},
     "output_type": "execute_result"
    }
   ],
   "source": [
    "evaluation_df.loc[evaluation_df['KKV_BESOROLAS_2015_fo_kategoria'] != evaluation_df['KKV_BESOROLAS_2016_fo_kategoria']].shape[0]"
   ]
  },
  {
   "cell_type": "code",
   "execution_count": 19,
   "metadata": {
    "pycharm": {
     "name": "#%%\n"
    }
   },
   "outputs": [
    {
     "name": "stdout",
     "output_type": "stream",
     "text": [
      "no difference in columns: MEGYE_2014, MEGYE_2015\n",
      "no difference in columns: MEGYE_2014, MEGYE_2016\n",
      "no difference in columns: MEGYE_2015, MEGYE_2016\n",
      "no difference in columns: SZEKHELY_IR_SZAM_2014, SZEKHELY_IR_SZAM_2015\n",
      "no difference in columns: SZEKHELY_IR_SZAM_2014, SZEKHELY_IR_SZAM_2016\n",
      "no difference in columns: SZEKHELY_IR_SZAM_2015, SZEKHELY_IR_SZAM_2016\n",
      "no difference in columns: GAZDALKODASI_FORMA_2014_fo_kategoria, GAZDALKODASI_FORMA_2015_fo_kategoria\n",
      "no difference in columns: GAZDALKODASI_FORMA_2014_fo_kategoria, GAZDALKODASI_FORMA_2016_fo_kategoria\n",
      "no difference in columns: GAZDALKODASI_FORMA_2015_fo_kategoria, GAZDALKODASI_FORMA_2016_fo_kategoria\n",
      "no difference in columns: GAZDALKODASI_FORMA_2014_1_alkategoria, GAZDALKODASI_FORMA_2015_1_alkategoria\n",
      "no difference in columns: GAZDALKODASI_FORMA_2014_1_alkategoria, GAZDALKODASI_FORMA_2016_1_alkategoria\n",
      "no difference in columns: GAZDALKODASI_FORMA_2015_1_alkategoria, GAZDALKODASI_FORMA_2016_1_alkategoria\n",
      "no difference in columns: GAZDALKODASI_FORMA_2014_2_alkategoria, GAZDALKODASI_FORMA_2015_2_alkategoria\n",
      "no difference in columns: GAZDALKODASI_FORMA_2014_2_alkategoria, GAZDALKODASI_FORMA_2016_2_alkategoria\n",
      "no difference in columns: GAZDALKODASI_FORMA_2015_2_alkategoria, GAZDALKODASI_FORMA_2016_2_alkategoria\n",
      "no difference in columns: KKV_BESOROLAS_2014_fo_kategoria, KKV_BESOROLAS_2015_fo_kategoria\n",
      "no difference in columns: KKV_BESOROLAS_2014_fo_kategoria, KKV_BESOROLAS_2016_fo_kategoria\n",
      "no difference in columns: KKV_BESOROLAS_2015_fo_kategoria, KKV_BESOROLAS_2016_fo_kategoria\n",
      "no difference in columns: KKV_BESOROLAS_2014_1_alkategoria, KKV_BESOROLAS_2015_1_alkategoria\n",
      "no difference in columns: KKV_BESOROLAS_2014_1_alkategoria, KKV_BESOROLAS_2016_1_alkategoria\n",
      "no difference in columns: KKV_BESOROLAS_2015_1_alkategoria, KKV_BESOROLAS_2016_1_alkategoria\n",
      "no difference in columns: KKV_BESOROLAS_2014_2_alkategoria, KKV_BESOROLAS_2015_2_alkategoria\n",
      "no difference in columns: KKV_BESOROLAS_2014_2_alkategoria, KKV_BESOROLAS_2016_2_alkategoria\n",
      "no difference in columns: KKV_BESOROLAS_2015_2_alkategoria, KKV_BESOROLAS_2016_2_alkategoria\n",
      "different number of rows: 471 found in columns: agazat_2014_fo_kategoria, agazat_2015_fo_kategoria\n",
      "different number of rows: 862 found in columns: agazat_2014_fo_kategoria, agazat_2016_fo_kategoria\n",
      "different number of rows: 454 found in columns: agazat_2015_fo_kategoria, agazat_2016_fo_kategoria\n",
      "different number of rows: 566 found in columns: agazat_2014_1_alkategoria, agazat_2015_1_alkategoria\n",
      "different number of rows: 1056 found in columns: agazat_2014_1_alkategoria, agazat_2016_1_alkategoria\n",
      "different number of rows: 565 found in columns: agazat_2015_1_alkategoria, agazat_2016_1_alkategoria\n",
      "different number of rows: 580 found in columns: agazat_2014_2_alkategoria, agazat_2015_2_alkategoria\n",
      "different number of rows: 1088 found in columns: agazat_2014_2_alkategoria, agazat_2016_2_alkategoria\n",
      "different number of rows: 583 found in columns: agazat_2015_2_alkategoria, agazat_2016_2_alkategoria\n",
      "different number of rows: 571 found in columns: agazat_2014_3_alkategoria, agazat_2015_3_alkategoria\n",
      "different number of rows: 1073 found in columns: agazat_2014_3_alkategoria, agazat_2016_3_alkategoria\n",
      "different number of rows: 572 found in columns: agazat_2015_3_alkategoria, agazat_2016_3_alkategoria\n"
     ]
    }
   ],
   "source": [
    "check_column_groups_for_difference(df=train_df, column_groups=COLUMN_GROUPS)"
   ]
  },
  {
   "cell_type": "code",
   "execution_count": 20,
   "metadata": {
    "pycharm": {
     "name": "#%%\n"
    }
   },
   "outputs": [
    {
     "name": "stdout",
     "output_type": "stream",
     "text": [
      "no difference in columns: MEGYE_2014, MEGYE_2015\n",
      "no difference in columns: MEGYE_2014, MEGYE_2016\n",
      "no difference in columns: MEGYE_2015, MEGYE_2016\n",
      "no difference in columns: SZEKHELY_IR_SZAM_2014, SZEKHELY_IR_SZAM_2015\n",
      "no difference in columns: SZEKHELY_IR_SZAM_2014, SZEKHELY_IR_SZAM_2016\n",
      "no difference in columns: SZEKHELY_IR_SZAM_2015, SZEKHELY_IR_SZAM_2016\n",
      "no difference in columns: GAZDALKODASI_FORMA_2014_fo_kategoria, GAZDALKODASI_FORMA_2015_fo_kategoria\n",
      "no difference in columns: GAZDALKODASI_FORMA_2014_fo_kategoria, GAZDALKODASI_FORMA_2016_fo_kategoria\n",
      "no difference in columns: GAZDALKODASI_FORMA_2015_fo_kategoria, GAZDALKODASI_FORMA_2016_fo_kategoria\n",
      "no difference in columns: GAZDALKODASI_FORMA_2014_1_alkategoria, GAZDALKODASI_FORMA_2015_1_alkategoria\n",
      "no difference in columns: GAZDALKODASI_FORMA_2014_1_alkategoria, GAZDALKODASI_FORMA_2016_1_alkategoria\n",
      "no difference in columns: GAZDALKODASI_FORMA_2015_1_alkategoria, GAZDALKODASI_FORMA_2016_1_alkategoria\n",
      "no difference in columns: GAZDALKODASI_FORMA_2014_2_alkategoria, GAZDALKODASI_FORMA_2015_2_alkategoria\n",
      "no difference in columns: GAZDALKODASI_FORMA_2014_2_alkategoria, GAZDALKODASI_FORMA_2016_2_alkategoria\n",
      "no difference in columns: GAZDALKODASI_FORMA_2015_2_alkategoria, GAZDALKODASI_FORMA_2016_2_alkategoria\n",
      "different number of rows: 16 found in columns: KKV_BESOROLAS_2014_fo_kategoria, KKV_BESOROLAS_2015_fo_kategoria\n",
      "different number of rows: 16 found in columns: KKV_BESOROLAS_2014_fo_kategoria, KKV_BESOROLAS_2016_fo_kategoria\n",
      "different number of rows: 16 found in columns: KKV_BESOROLAS_2015_fo_kategoria, KKV_BESOROLAS_2016_fo_kategoria\n",
      "different number of rows: 16 found in columns: KKV_BESOROLAS_2014_1_alkategoria, KKV_BESOROLAS_2015_1_alkategoria\n",
      "different number of rows: 16 found in columns: KKV_BESOROLAS_2014_1_alkategoria, KKV_BESOROLAS_2016_1_alkategoria\n",
      "different number of rows: 16 found in columns: KKV_BESOROLAS_2015_1_alkategoria, KKV_BESOROLAS_2016_1_alkategoria\n",
      "different number of rows: 16 found in columns: KKV_BESOROLAS_2014_2_alkategoria, KKV_BESOROLAS_2015_2_alkategoria\n",
      "different number of rows: 16 found in columns: KKV_BESOROLAS_2014_2_alkategoria, KKV_BESOROLAS_2016_2_alkategoria\n",
      "different number of rows: 16 found in columns: KKV_BESOROLAS_2015_2_alkategoria, KKV_BESOROLAS_2016_2_alkategoria\n",
      "different number of rows: 471 found in columns: agazat_2014_fo_kategoria, agazat_2015_fo_kategoria\n",
      "different number of rows: 877 found in columns: agazat_2014_fo_kategoria, agazat_2016_fo_kategoria\n",
      "different number of rows: 459 found in columns: agazat_2015_fo_kategoria, agazat_2016_fo_kategoria\n",
      "different number of rows: 584 found in columns: agazat_2014_1_alkategoria, agazat_2015_1_alkategoria\n",
      "different number of rows: 1098 found in columns: agazat_2014_1_alkategoria, agazat_2016_1_alkategoria\n",
      "different number of rows: 581 found in columns: agazat_2015_1_alkategoria, agazat_2016_1_alkategoria\n",
      "different number of rows: 607 found in columns: agazat_2014_2_alkategoria, agazat_2015_2_alkategoria\n",
      "different number of rows: 1130 found in columns: agazat_2014_2_alkategoria, agazat_2016_2_alkategoria\n",
      "different number of rows: 592 found in columns: agazat_2015_2_alkategoria, agazat_2016_2_alkategoria\n",
      "different number of rows: 1589 found in columns: agazat_2014_3_alkategoria, agazat_2015_3_alkategoria\n",
      "different number of rows: 2108 found in columns: agazat_2014_3_alkategoria, agazat_2016_3_alkategoria\n",
      "different number of rows: 1593 found in columns: agazat_2015_3_alkategoria, agazat_2016_3_alkategoria\n"
     ]
    }
   ],
   "source": [
    "check_column_groups_for_difference(df=evaluation_df, column_groups=COLUMN_GROUPS)"
   ]
  },
  {
   "cell_type": "markdown",
   "metadata": {
    "collapsed": false,
    "pycharm": {
     "name": "#%% md\n"
    }
   },
   "source": [
    "since some of the column groups have no difference among them, we can keep one column per group and drop the rest"
   ]
  },
  {
   "cell_type": "code",
   "execution_count": 21,
   "metadata": {
    "pycharm": {
     "name": "#%%\n"
    }
   },
   "outputs": [
    {
     "data": {
      "text/plain": "   id  target_reg  KATEGORIKUS_VALTOZO_2014  KATEGORIKUS_VALTOZO_2015  \\\n0   1     1907229                         0                         0   \n1   2           0                         0                         0   \n2   3           0                         0                         0   \n3   4           0                         0                         0   \n4   5           0                         0                         0   \n\n   KATEGORIKUS_VALTOZO_2016            MEGYE_2014 SZEKHELY_IR_SZAM_2014  \\\n0                         0     Győr-Moson-Sopron             zipcode_1   \n1                         0                  Pest           zipcode_521   \n2                         0                 Fejér            zipcode_30   \n3                         0           Hajdú-Bihar           zipcode_241   \n4                         0  Borsod-Abaúj-Zemplén           zipcode_285   \n\n   aktelh_2014  aktelh_2015  aktelh_2016  aktsajt_2014  aktsajt_2015  \\\n0       457724       586098       643830        535126        849583   \n1           49          720          421             0             0   \n2           80          538          680             0             0   \n3          203          265          232             0             0   \n4            0            0            0             0             0   \n\n   aktsajt_2016  alakul_ev  arbevert_2014  arbevert_2015  arbevert_2016  \\\n0       1234907     1976.0       13983828       12699378       11432950   \n1             0     2005.0          41717          51525          60916   \n2             0     2003.0         181193         146301         156244   \n3             0     2005.0          76856          83338          83230   \n4             0     2005.0          37403          35619          35439   \n\n   arbevexp_2014  arbevexp_2015  arbevexp_2016  befpue_2014  befpue_2015  \\\n0        1382989        1700751        1529118      1855172      1849289   \n1              0              0              0            0            0   \n2              0              0              0            0            0   \n3              0              0              0            0            0   \n4              0              0              0            0            0   \n\n   befpue_2016  begyeb_2014  begyeb_2015  begyeb_2016  celtart_2014  \\\n0      1839898     15456185     15568368     19590889       1490863   \n1            0          104         9346            0             0   \n2            0         7538            0            0             0   \n3            0          403         2219         1136             0   \n4            0          248          274            1             0   \n\n   celtart_2015  celtart_2016  eredadel_2014  eredadel_2015  eredadel_2016  \\\n0       2806727       3665800         939106         773314         703532   \n1             0             0           7723           3361             56   \n2             0             0         119017          67182          76190   \n3             0             0            616            598            239   \n4             0             0          -1702           -423          -1928   \n\n   eredadoz_2014  eredadoz_2015  eredadoz_2016  eredpenz_2014  eredpenz_2015  \\\n0         706406         433306         500046        -145397          35709   \n1           6950           3024            -66             22           -110   \n2         107115          60323          68571           1116            386   \n3            589            545            187          -1209           -991   \n4          -1776           -494          -1998             -1              1   \n\n   eredpenz_2016  eredtar_2014  eredtar_2015  eredtar_2016  ereduzem_2014  \\\n0         -83352      37983621      55695087      89228704       -2661421   \n1           -428             0             0             0           7701   \n2            106             0             0             0         117806   \n3           -323          8501          8059          7734           1608   \n4              0             0           384           990          -1701   \n\n   ereduzem_2015  ereduzem_2016  ertpapir_2014  ertpapir_2015  ertpapir_2016  \\\n0       -2520379         786884              0              0              0   \n1           3471            484              0              0              0   \n2          67126          76085              0              0              0   \n3           1152            562              0              0              0   \n4           -424          -1928              0              0              0   \n\n   hoskot01_2014  hoskot01_2015  hoskot01_2016  hoskot_2014  hoskot_2015  \\\n0         952490         521178        2885261     48333543     45717629   \n1              0           5026           3693            0         5026   \n2              0              0              0            0            0   \n3           4646           2414            183        11233        12030   \n4              0              0              0            0            0   \n\n   hoskot_2016  immat_2014  immat_2015  immat_2016  jetok_2014  jetok_2015  \\\n0     45942043      132219      103981       84122     7520242     7520242   \n1         3693           0           0         338        5497        5497   \n2            0           0           0           0        3301        3301   \n3        13280           0           0           0        3304        3304   \n4            0           0           0           0        3303        3303   \n\n   jetok_2016  kecs_2014  kecs_2015  kecs_2016  keszl_2014  keszl_2015  \\\n0     7520242    5547891    5849322    5686293     1395646     1567766   \n1        5497       2536       1891       3463           0           0   \n2        3301       4112       6862       5454           0           0   \n3        3304       1757       1436       1039        5096        4711   \n4        3303       2135       1862       1853           0           0   \n\n   keszl_2016  kovet_2014  kovet_2015  kovet_2016  letszam_2014  letszam_2015  \\\n0     1798279     9012948     7550810     6199791          1845          1849   \n1           0        5200        6087        5327             7             6   \n2           0        3713        5178        5927            12            14   \n3        5421         126         675         462             5             5   \n4           0        5861        4731        4936             7             5   \n\n   letszam_2016  merlfoo_2014  merlfoo_2015  merlfoo_2016  penzeszk_2014  \\\n0          1845     121166809     145682514     170549985        1181661   \n1             6         32023         44129         40447          23968   \n2            14        305680        314230        520744         139298   \n3             6         32508         31752         32937            929   \n4             5         17135         13995         12986            956   \n\n   penzeszk_2015  penzeszk_2016  ranyag_2014  ranyag_2015  ranyag_2016  \\\n0        3878508        3592889     14700476     12925752     13101480   \n1          27858          26844        19031        35572        45404   \n2         152725         361724        22130        25566        27486   \n3           1338           1457        62932        71772        70367   \n4            797           1437        28044        27880        27018   \n\n   regyeb_2014  regyeb_2015  regyeb_2016  rovkot01_2014  rovkot01_2015  \\\n0      2144006      2135752      1412180        9752906        3854551   \n1         1059         9354         1059           1724           4614   \n2         3652         2978         3020              0              0   \n3          333          304          399              0              1   \n4          386          403         2040           1005            760   \n\n   rovkot01_2016  rovkot_2014  rovkot_2015  rovkot_2016  rszem_2014  \\\n0        5805061     19908755     27579737     17326862    10244187   \n1           3496         1724         5778         3496       11494   \n2              0       120245       123494       261437       41030   \n3             46         4925         3268         3340       10629   \n4           1039        17422        14392        14777        8787   \n\n   rszem_2015  rszem_2016  sajattok_2014  sajattok_2015  sajattok_2016  \\\n0    10726882    11271908       13450028       13883334       14386576   \n1       10583       10506          30300          33324          33258   \n2       43769       44200         185435         190736         259307   \n3       10892       11999           7850           8395           8582   \n4        6172        6457           -287           -782          -2780   \n\n   targyie_2014  targyie_2015  targyie_2016  \\\n0     107131440     130146063     156391175   \n1          2806          9464          7518   \n2        162589        155789        152413   \n3         26155         24763         25364   \n4         10319          8467          6614   \n\n  GAZDALKODASI_FORMA_2014_fo_kategoria GAZDALKODASI_FORMA_2014_1_alkategoria  \\\n0                                    P                                     P   \n1                                    P                                     P   \n2                                    P                                     x   \n3                                    P                                     P   \n4                                    P                                     P   \n\n  GAZDALKODASI_FORMA_2014_2_alkategoria KKV_BESOROLAS_2014_fo_kategoria  \\\n0                                    A9                             7-R   \n1                                     x                               P   \n2                                   w-5                               P   \n3                                     x                               P   \n4                                     x                               P   \n\n  KKV_BESOROLAS_2014_1_alkategoria KKV_BESOROLAS_2014_2_alkategoria  \\\n0                                A                                A   \n1                                P                                x   \n2                              7-R                                A   \n3                                P                                x   \n4                                P                                x   \n\n  KKV_BESOROLAS_2015_fo_kategoria KKV_BESOROLAS_2015_1_alkategoria  \\\n0                             7-R                                A   \n1                               P                                P   \n2                               P                              7-R   \n3                               P                                P   \n4                               P                                P   \n\n  KKV_BESOROLAS_2015_2_alkategoria KKV_BESOROLAS_2016_fo_kategoria  \\\n0                                A                             7-R   \n1                                x                               P   \n2                                A                               P   \n3                                x                               P   \n4                                x                               P   \n\n  KKV_BESOROLAS_2016_1_alkategoria KKV_BESOROLAS_2016_2_alkategoria  \\\n0                                A                                A   \n1                                P                                x   \n2                              7-R                                A   \n3                                P                                x   \n4                                P                                x   \n\n  agazat_2014_fo_kategoria agazat_2014_1_alkategoria  \\\n0                       A9                         9   \n1                      w-5                       w-5   \n2                      w-5                         9   \n3                       A9                       X11   \n4                       A9                       X11   \n\n  agazat_2014_2_alkategoria agazat_2014_3_alkategoria  \\\n0                         P                         A   \n1                       7-R                       7-R   \n2                         P                         A   \n3                       7-R                         P   \n4                       7-R                        A9   \n\n  agazat_2015_fo_kategoria agazat_2015_1_alkategoria  \\\n0                       A9                         9   \n1                      w-5                       w-5   \n2                      w-5                         9   \n3                       A9                       X11   \n4                       A9                       X11   \n\n  agazat_2015_2_alkategoria agazat_2015_3_alkategoria  \\\n0                         P                         A   \n1                       7-R                       7-R   \n2                         P                         A   \n3                       7-R                         P   \n4                       7-R                        A9   \n\n  agazat_2016_fo_kategoria agazat_2016_1_alkategoria  \\\n0                       A9                         9   \n1                      w-5                       w-5   \n2                      w-5                         9   \n3                       A9                       X11   \n4                       A9                       X11   \n\n  agazat_2016_2_alkategoria agazat_2016_3_alkategoria  \n0                         P                         A  \n1                       7-R                       7-R  \n2                         P                         A  \n3                       7-R                         P  \n4                       7-R                        A9  ",
      "text/html": "<div>\n<style scoped>\n    .dataframe tbody tr th:only-of-type {\n        vertical-align: middle;\n    }\n\n    .dataframe tbody tr th {\n        vertical-align: top;\n    }\n\n    .dataframe thead th {\n        text-align: right;\n    }\n</style>\n<table border=\"1\" class=\"dataframe\">\n  <thead>\n    <tr style=\"text-align: right;\">\n      <th></th>\n      <th>id</th>\n      <th>target_reg</th>\n      <th>KATEGORIKUS_VALTOZO_2014</th>\n      <th>KATEGORIKUS_VALTOZO_2015</th>\n      <th>KATEGORIKUS_VALTOZO_2016</th>\n      <th>MEGYE_2014</th>\n      <th>SZEKHELY_IR_SZAM_2014</th>\n      <th>aktelh_2014</th>\n      <th>aktelh_2015</th>\n      <th>aktelh_2016</th>\n      <th>aktsajt_2014</th>\n      <th>aktsajt_2015</th>\n      <th>aktsajt_2016</th>\n      <th>alakul_ev</th>\n      <th>arbevert_2014</th>\n      <th>arbevert_2015</th>\n      <th>arbevert_2016</th>\n      <th>arbevexp_2014</th>\n      <th>arbevexp_2015</th>\n      <th>arbevexp_2016</th>\n      <th>befpue_2014</th>\n      <th>befpue_2015</th>\n      <th>befpue_2016</th>\n      <th>begyeb_2014</th>\n      <th>begyeb_2015</th>\n      <th>begyeb_2016</th>\n      <th>celtart_2014</th>\n      <th>celtart_2015</th>\n      <th>celtart_2016</th>\n      <th>eredadel_2014</th>\n      <th>eredadel_2015</th>\n      <th>eredadel_2016</th>\n      <th>eredadoz_2014</th>\n      <th>eredadoz_2015</th>\n      <th>eredadoz_2016</th>\n      <th>eredpenz_2014</th>\n      <th>eredpenz_2015</th>\n      <th>eredpenz_2016</th>\n      <th>eredtar_2014</th>\n      <th>eredtar_2015</th>\n      <th>eredtar_2016</th>\n      <th>ereduzem_2014</th>\n      <th>ereduzem_2015</th>\n      <th>ereduzem_2016</th>\n      <th>ertpapir_2014</th>\n      <th>ertpapir_2015</th>\n      <th>ertpapir_2016</th>\n      <th>hoskot01_2014</th>\n      <th>hoskot01_2015</th>\n      <th>hoskot01_2016</th>\n      <th>hoskot_2014</th>\n      <th>hoskot_2015</th>\n      <th>hoskot_2016</th>\n      <th>immat_2014</th>\n      <th>immat_2015</th>\n      <th>immat_2016</th>\n      <th>jetok_2014</th>\n      <th>jetok_2015</th>\n      <th>jetok_2016</th>\n      <th>kecs_2014</th>\n      <th>kecs_2015</th>\n      <th>kecs_2016</th>\n      <th>keszl_2014</th>\n      <th>keszl_2015</th>\n      <th>keszl_2016</th>\n      <th>kovet_2014</th>\n      <th>kovet_2015</th>\n      <th>kovet_2016</th>\n      <th>letszam_2014</th>\n      <th>letszam_2015</th>\n      <th>letszam_2016</th>\n      <th>merlfoo_2014</th>\n      <th>merlfoo_2015</th>\n      <th>merlfoo_2016</th>\n      <th>penzeszk_2014</th>\n      <th>penzeszk_2015</th>\n      <th>penzeszk_2016</th>\n      <th>ranyag_2014</th>\n      <th>ranyag_2015</th>\n      <th>ranyag_2016</th>\n      <th>regyeb_2014</th>\n      <th>regyeb_2015</th>\n      <th>regyeb_2016</th>\n      <th>rovkot01_2014</th>\n      <th>rovkot01_2015</th>\n      <th>rovkot01_2016</th>\n      <th>rovkot_2014</th>\n      <th>rovkot_2015</th>\n      <th>rovkot_2016</th>\n      <th>rszem_2014</th>\n      <th>rszem_2015</th>\n      <th>rszem_2016</th>\n      <th>sajattok_2014</th>\n      <th>sajattok_2015</th>\n      <th>sajattok_2016</th>\n      <th>targyie_2014</th>\n      <th>targyie_2015</th>\n      <th>targyie_2016</th>\n      <th>GAZDALKODASI_FORMA_2014_fo_kategoria</th>\n      <th>GAZDALKODASI_FORMA_2014_1_alkategoria</th>\n      <th>GAZDALKODASI_FORMA_2014_2_alkategoria</th>\n      <th>KKV_BESOROLAS_2014_fo_kategoria</th>\n      <th>KKV_BESOROLAS_2014_1_alkategoria</th>\n      <th>KKV_BESOROLAS_2014_2_alkategoria</th>\n      <th>KKV_BESOROLAS_2015_fo_kategoria</th>\n      <th>KKV_BESOROLAS_2015_1_alkategoria</th>\n      <th>KKV_BESOROLAS_2015_2_alkategoria</th>\n      <th>KKV_BESOROLAS_2016_fo_kategoria</th>\n      <th>KKV_BESOROLAS_2016_1_alkategoria</th>\n      <th>KKV_BESOROLAS_2016_2_alkategoria</th>\n      <th>agazat_2014_fo_kategoria</th>\n      <th>agazat_2014_1_alkategoria</th>\n      <th>agazat_2014_2_alkategoria</th>\n      <th>agazat_2014_3_alkategoria</th>\n      <th>agazat_2015_fo_kategoria</th>\n      <th>agazat_2015_1_alkategoria</th>\n      <th>agazat_2015_2_alkategoria</th>\n      <th>agazat_2015_3_alkategoria</th>\n      <th>agazat_2016_fo_kategoria</th>\n      <th>agazat_2016_1_alkategoria</th>\n      <th>agazat_2016_2_alkategoria</th>\n      <th>agazat_2016_3_alkategoria</th>\n    </tr>\n  </thead>\n  <tbody>\n    <tr>\n      <th>0</th>\n      <td>1</td>\n      <td>1907229</td>\n      <td>0</td>\n      <td>0</td>\n      <td>0</td>\n      <td>Győr-Moson-Sopron</td>\n      <td>zipcode_1</td>\n      <td>457724</td>\n      <td>586098</td>\n      <td>643830</td>\n      <td>535126</td>\n      <td>849583</td>\n      <td>1234907</td>\n      <td>1976.0</td>\n      <td>13983828</td>\n      <td>12699378</td>\n      <td>11432950</td>\n      <td>1382989</td>\n      <td>1700751</td>\n      <td>1529118</td>\n      <td>1855172</td>\n      <td>1849289</td>\n      <td>1839898</td>\n      <td>15456185</td>\n      <td>15568368</td>\n      <td>19590889</td>\n      <td>1490863</td>\n      <td>2806727</td>\n      <td>3665800</td>\n      <td>939106</td>\n      <td>773314</td>\n      <td>703532</td>\n      <td>706406</td>\n      <td>433306</td>\n      <td>500046</td>\n      <td>-145397</td>\n      <td>35709</td>\n      <td>-83352</td>\n      <td>37983621</td>\n      <td>55695087</td>\n      <td>89228704</td>\n      <td>-2661421</td>\n      <td>-2520379</td>\n      <td>786884</td>\n      <td>0</td>\n      <td>0</td>\n      <td>0</td>\n      <td>952490</td>\n      <td>521178</td>\n      <td>2885261</td>\n      <td>48333543</td>\n      <td>45717629</td>\n      <td>45942043</td>\n      <td>132219</td>\n      <td>103981</td>\n      <td>84122</td>\n      <td>7520242</td>\n      <td>7520242</td>\n      <td>7520242</td>\n      <td>5547891</td>\n      <td>5849322</td>\n      <td>5686293</td>\n      <td>1395646</td>\n      <td>1567766</td>\n      <td>1798279</td>\n      <td>9012948</td>\n      <td>7550810</td>\n      <td>6199791</td>\n      <td>1845</td>\n      <td>1849</td>\n      <td>1845</td>\n      <td>121166809</td>\n      <td>145682514</td>\n      <td>170549985</td>\n      <td>1181661</td>\n      <td>3878508</td>\n      <td>3592889</td>\n      <td>14700476</td>\n      <td>12925752</td>\n      <td>13101480</td>\n      <td>2144006</td>\n      <td>2135752</td>\n      <td>1412180</td>\n      <td>9752906</td>\n      <td>3854551</td>\n      <td>5805061</td>\n      <td>19908755</td>\n      <td>27579737</td>\n      <td>17326862</td>\n      <td>10244187</td>\n      <td>10726882</td>\n      <td>11271908</td>\n      <td>13450028</td>\n      <td>13883334</td>\n      <td>14386576</td>\n      <td>107131440</td>\n      <td>130146063</td>\n      <td>156391175</td>\n      <td>P</td>\n      <td>P</td>\n      <td>A9</td>\n      <td>7-R</td>\n      <td>A</td>\n      <td>A</td>\n      <td>7-R</td>\n      <td>A</td>\n      <td>A</td>\n      <td>7-R</td>\n      <td>A</td>\n      <td>A</td>\n      <td>A9</td>\n      <td>9</td>\n      <td>P</td>\n      <td>A</td>\n      <td>A9</td>\n      <td>9</td>\n      <td>P</td>\n      <td>A</td>\n      <td>A9</td>\n      <td>9</td>\n      <td>P</td>\n      <td>A</td>\n    </tr>\n    <tr>\n      <th>1</th>\n      <td>2</td>\n      <td>0</td>\n      <td>0</td>\n      <td>0</td>\n      <td>0</td>\n      <td>Pest</td>\n      <td>zipcode_521</td>\n      <td>49</td>\n      <td>720</td>\n      <td>421</td>\n      <td>0</td>\n      <td>0</td>\n      <td>0</td>\n      <td>2005.0</td>\n      <td>41717</td>\n      <td>51525</td>\n      <td>60916</td>\n      <td>0</td>\n      <td>0</td>\n      <td>0</td>\n      <td>0</td>\n      <td>0</td>\n      <td>0</td>\n      <td>104</td>\n      <td>9346</td>\n      <td>0</td>\n      <td>0</td>\n      <td>0</td>\n      <td>0</td>\n      <td>7723</td>\n      <td>3361</td>\n      <td>56</td>\n      <td>6950</td>\n      <td>3024</td>\n      <td>-66</td>\n      <td>22</td>\n      <td>-110</td>\n      <td>-428</td>\n      <td>0</td>\n      <td>0</td>\n      <td>0</td>\n      <td>7701</td>\n      <td>3471</td>\n      <td>484</td>\n      <td>0</td>\n      <td>0</td>\n      <td>0</td>\n      <td>0</td>\n      <td>5026</td>\n      <td>3693</td>\n      <td>0</td>\n      <td>5026</td>\n      <td>3693</td>\n      <td>0</td>\n      <td>0</td>\n      <td>338</td>\n      <td>5497</td>\n      <td>5497</td>\n      <td>5497</td>\n      <td>2536</td>\n      <td>1891</td>\n      <td>3463</td>\n      <td>0</td>\n      <td>0</td>\n      <td>0</td>\n      <td>5200</td>\n      <td>6087</td>\n      <td>5327</td>\n      <td>7</td>\n      <td>6</td>\n      <td>6</td>\n      <td>32023</td>\n      <td>44129</td>\n      <td>40447</td>\n      <td>23968</td>\n      <td>27858</td>\n      <td>26844</td>\n      <td>19031</td>\n      <td>35572</td>\n      <td>45404</td>\n      <td>1059</td>\n      <td>9354</td>\n      <td>1059</td>\n      <td>1724</td>\n      <td>4614</td>\n      <td>3496</td>\n      <td>1724</td>\n      <td>5778</td>\n      <td>3496</td>\n      <td>11494</td>\n      <td>10583</td>\n      <td>10506</td>\n      <td>30300</td>\n      <td>33324</td>\n      <td>33258</td>\n      <td>2806</td>\n      <td>9464</td>\n      <td>7518</td>\n      <td>P</td>\n      <td>P</td>\n      <td>x</td>\n      <td>P</td>\n      <td>P</td>\n      <td>x</td>\n      <td>P</td>\n      <td>P</td>\n      <td>x</td>\n      <td>P</td>\n      <td>P</td>\n      <td>x</td>\n      <td>w-5</td>\n      <td>w-5</td>\n      <td>7-R</td>\n      <td>7-R</td>\n      <td>w-5</td>\n      <td>w-5</td>\n      <td>7-R</td>\n      <td>7-R</td>\n      <td>w-5</td>\n      <td>w-5</td>\n      <td>7-R</td>\n      <td>7-R</td>\n    </tr>\n    <tr>\n      <th>2</th>\n      <td>3</td>\n      <td>0</td>\n      <td>0</td>\n      <td>0</td>\n      <td>0</td>\n      <td>Fejér</td>\n      <td>zipcode_30</td>\n      <td>80</td>\n      <td>538</td>\n      <td>680</td>\n      <td>0</td>\n      <td>0</td>\n      <td>0</td>\n      <td>2003.0</td>\n      <td>181193</td>\n      <td>146301</td>\n      <td>156244</td>\n      <td>0</td>\n      <td>0</td>\n      <td>0</td>\n      <td>0</td>\n      <td>0</td>\n      <td>0</td>\n      <td>7538</td>\n      <td>0</td>\n      <td>0</td>\n      <td>0</td>\n      <td>0</td>\n      <td>0</td>\n      <td>119017</td>\n      <td>67182</td>\n      <td>76190</td>\n      <td>107115</td>\n      <td>60323</td>\n      <td>68571</td>\n      <td>1116</td>\n      <td>386</td>\n      <td>106</td>\n      <td>0</td>\n      <td>0</td>\n      <td>0</td>\n      <td>117806</td>\n      <td>67126</td>\n      <td>76085</td>\n      <td>0</td>\n      <td>0</td>\n      <td>0</td>\n      <td>0</td>\n      <td>0</td>\n      <td>0</td>\n      <td>0</td>\n      <td>0</td>\n      <td>0</td>\n      <td>0</td>\n      <td>0</td>\n      <td>0</td>\n      <td>3301</td>\n      <td>3301</td>\n      <td>3301</td>\n      <td>4112</td>\n      <td>6862</td>\n      <td>5454</td>\n      <td>0</td>\n      <td>0</td>\n      <td>0</td>\n      <td>3713</td>\n      <td>5178</td>\n      <td>5927</td>\n      <td>12</td>\n      <td>14</td>\n      <td>14</td>\n      <td>305680</td>\n      <td>314230</td>\n      <td>520744</td>\n      <td>139298</td>\n      <td>152725</td>\n      <td>361724</td>\n      <td>22130</td>\n      <td>25566</td>\n      <td>27486</td>\n      <td>3652</td>\n      <td>2978</td>\n      <td>3020</td>\n      <td>0</td>\n      <td>0</td>\n      <td>0</td>\n      <td>120245</td>\n      <td>123494</td>\n      <td>261437</td>\n      <td>41030</td>\n      <td>43769</td>\n      <td>44200</td>\n      <td>185435</td>\n      <td>190736</td>\n      <td>259307</td>\n      <td>162589</td>\n      <td>155789</td>\n      <td>152413</td>\n      <td>P</td>\n      <td>x</td>\n      <td>w-5</td>\n      <td>P</td>\n      <td>7-R</td>\n      <td>A</td>\n      <td>P</td>\n      <td>7-R</td>\n      <td>A</td>\n      <td>P</td>\n      <td>7-R</td>\n      <td>A</td>\n      <td>w-5</td>\n      <td>9</td>\n      <td>P</td>\n      <td>A</td>\n      <td>w-5</td>\n      <td>9</td>\n      <td>P</td>\n      <td>A</td>\n      <td>w-5</td>\n      <td>9</td>\n      <td>P</td>\n      <td>A</td>\n    </tr>\n    <tr>\n      <th>3</th>\n      <td>4</td>\n      <td>0</td>\n      <td>0</td>\n      <td>0</td>\n      <td>0</td>\n      <td>Hajdú-Bihar</td>\n      <td>zipcode_241</td>\n      <td>203</td>\n      <td>265</td>\n      <td>232</td>\n      <td>0</td>\n      <td>0</td>\n      <td>0</td>\n      <td>2005.0</td>\n      <td>76856</td>\n      <td>83338</td>\n      <td>83230</td>\n      <td>0</td>\n      <td>0</td>\n      <td>0</td>\n      <td>0</td>\n      <td>0</td>\n      <td>0</td>\n      <td>403</td>\n      <td>2219</td>\n      <td>1136</td>\n      <td>0</td>\n      <td>0</td>\n      <td>0</td>\n      <td>616</td>\n      <td>598</td>\n      <td>239</td>\n      <td>589</td>\n      <td>545</td>\n      <td>187</td>\n      <td>-1209</td>\n      <td>-991</td>\n      <td>-323</td>\n      <td>8501</td>\n      <td>8059</td>\n      <td>7734</td>\n      <td>1608</td>\n      <td>1152</td>\n      <td>562</td>\n      <td>0</td>\n      <td>0</td>\n      <td>0</td>\n      <td>4646</td>\n      <td>2414</td>\n      <td>183</td>\n      <td>11233</td>\n      <td>12030</td>\n      <td>13280</td>\n      <td>0</td>\n      <td>0</td>\n      <td>0</td>\n      <td>3304</td>\n      <td>3304</td>\n      <td>3304</td>\n      <td>1757</td>\n      <td>1436</td>\n      <td>1039</td>\n      <td>5096</td>\n      <td>4711</td>\n      <td>5421</td>\n      <td>126</td>\n      <td>675</td>\n      <td>462</td>\n      <td>5</td>\n      <td>5</td>\n      <td>6</td>\n      <td>32508</td>\n      <td>31752</td>\n      <td>32937</td>\n      <td>929</td>\n      <td>1338</td>\n      <td>1457</td>\n      <td>62932</td>\n      <td>71772</td>\n      <td>70367</td>\n      <td>333</td>\n      <td>304</td>\n      <td>399</td>\n      <td>0</td>\n      <td>1</td>\n      <td>46</td>\n      <td>4925</td>\n      <td>3268</td>\n      <td>3340</td>\n      <td>10629</td>\n      <td>10892</td>\n      <td>11999</td>\n      <td>7850</td>\n      <td>8395</td>\n      <td>8582</td>\n      <td>26155</td>\n      <td>24763</td>\n      <td>25364</td>\n      <td>P</td>\n      <td>P</td>\n      <td>x</td>\n      <td>P</td>\n      <td>P</td>\n      <td>x</td>\n      <td>P</td>\n      <td>P</td>\n      <td>x</td>\n      <td>P</td>\n      <td>P</td>\n      <td>x</td>\n      <td>A9</td>\n      <td>X11</td>\n      <td>7-R</td>\n      <td>P</td>\n      <td>A9</td>\n      <td>X11</td>\n      <td>7-R</td>\n      <td>P</td>\n      <td>A9</td>\n      <td>X11</td>\n      <td>7-R</td>\n      <td>P</td>\n    </tr>\n    <tr>\n      <th>4</th>\n      <td>5</td>\n      <td>0</td>\n      <td>0</td>\n      <td>0</td>\n      <td>0</td>\n      <td>Borsod-Abaúj-Zemplén</td>\n      <td>zipcode_285</td>\n      <td>0</td>\n      <td>0</td>\n      <td>0</td>\n      <td>0</td>\n      <td>0</td>\n      <td>0</td>\n      <td>2005.0</td>\n      <td>37403</td>\n      <td>35619</td>\n      <td>35439</td>\n      <td>0</td>\n      <td>0</td>\n      <td>0</td>\n      <td>0</td>\n      <td>0</td>\n      <td>0</td>\n      <td>248</td>\n      <td>274</td>\n      <td>1</td>\n      <td>0</td>\n      <td>0</td>\n      <td>0</td>\n      <td>-1702</td>\n      <td>-423</td>\n      <td>-1928</td>\n      <td>-1776</td>\n      <td>-494</td>\n      <td>-1998</td>\n      <td>-1</td>\n      <td>1</td>\n      <td>0</td>\n      <td>0</td>\n      <td>384</td>\n      <td>990</td>\n      <td>-1701</td>\n      <td>-424</td>\n      <td>-1928</td>\n      <td>0</td>\n      <td>0</td>\n      <td>0</td>\n      <td>0</td>\n      <td>0</td>\n      <td>0</td>\n      <td>0</td>\n      <td>0</td>\n      <td>0</td>\n      <td>0</td>\n      <td>0</td>\n      <td>0</td>\n      <td>3303</td>\n      <td>3303</td>\n      <td>3303</td>\n      <td>2135</td>\n      <td>1862</td>\n      <td>1853</td>\n      <td>0</td>\n      <td>0</td>\n      <td>0</td>\n      <td>5861</td>\n      <td>4731</td>\n      <td>4936</td>\n      <td>7</td>\n      <td>5</td>\n      <td>5</td>\n      <td>17135</td>\n      <td>13995</td>\n      <td>12986</td>\n      <td>956</td>\n      <td>797</td>\n      <td>1437</td>\n      <td>28044</td>\n      <td>27880</td>\n      <td>27018</td>\n      <td>386</td>\n      <td>403</td>\n      <td>2040</td>\n      <td>1005</td>\n      <td>760</td>\n      <td>1039</td>\n      <td>17422</td>\n      <td>14392</td>\n      <td>14777</td>\n      <td>8787</td>\n      <td>6172</td>\n      <td>6457</td>\n      <td>-287</td>\n      <td>-782</td>\n      <td>-2780</td>\n      <td>10319</td>\n      <td>8467</td>\n      <td>6614</td>\n      <td>P</td>\n      <td>P</td>\n      <td>x</td>\n      <td>P</td>\n      <td>P</td>\n      <td>x</td>\n      <td>P</td>\n      <td>P</td>\n      <td>x</td>\n      <td>P</td>\n      <td>P</td>\n      <td>x</td>\n      <td>A9</td>\n      <td>X11</td>\n      <td>7-R</td>\n      <td>A9</td>\n      <td>A9</td>\n      <td>X11</td>\n      <td>7-R</td>\n      <td>A9</td>\n      <td>A9</td>\n      <td>X11</td>\n      <td>7-R</td>\n      <td>A9</td>\n    </tr>\n  </tbody>\n</table>\n</div>"
     },
     "execution_count": 21,
     "metadata": {},
     "output_type": "execute_result"
    }
   ],
   "source": [
    "train_df_reduced_features = train_df.copy()\n",
    "\n",
    "column_groups_to_reduce = [\n",
    "    MEGYE_COLUMNS,\n",
    "    SZEKHELY_COLUMNS,\n",
    "    GAZD_FORMA_FO_KAT_COLUMNS,\n",
    "    GAZD_FORMA_1_ALKAT_COLUMNS,\n",
    "    GAZD_FORMA_2_ALKAT_COLUMNS\n",
    "]\n",
    "\n",
    "for group in column_groups_to_reduce:\n",
    "    train_df_reduced_features.drop(columns=group[1:], axis='columns', inplace=True)\n",
    "\n",
    "pd.set_option('display.max_columns', None)\n",
    "train_df_reduced_features.head()"
   ]
  },
  {
   "cell_type": "markdown",
   "metadata": {
    "collapsed": false,
    "pycharm": {
     "name": "#%% md\n"
    }
   },
   "source": [
    "### target_reg min miért negatív? létezik negatív export? + plottal meg lehetne vizsgálni"
   ]
  },
  {
   "cell_type": "code",
   "execution_count": 22,
   "metadata": {
    "collapsed": false,
    "pycharm": {
     "name": "#%%\n"
    }
   },
   "outputs": [
    {
     "name": "stdout",
     "output_type": "stream",
     "text": [
      "                 id    target_reg  KATEGORIKUS_VALTOZO_2014  \\\n",
      "count  31745.000000  3.174500e+04              31745.000000   \n",
      "mean   16388.415404  2.469644e+05                  0.081997   \n",
      "std     9573.589176  2.466065e+06                  0.274365   \n",
      "min        1.000000 -1.650300e+04                  0.000000   \n",
      "25%     8139.000000  0.000000e+00                  0.000000   \n",
      "50%    16196.000000  0.000000e+00                  0.000000   \n",
      "75%    24672.000000  7.800000e+01                  0.000000   \n",
      "max    33180.000000  1.047418e+08                  1.000000   \n",
      "\n",
      "       KATEGORIKUS_VALTOZO_2015  KATEGORIKUS_VALTOZO_2016   aktelh_2014  \\\n",
      "count              31745.000000              31745.000000  3.174500e+04   \n",
      "mean                   0.079666                  0.078343  1.644770e+04   \n",
      "std                    0.270780                  0.268715  2.977193e+05   \n",
      "min                    0.000000                  0.000000  0.000000e+00   \n",
      "25%                    0.000000                  0.000000  0.000000e+00   \n",
      "50%                    0.000000                  0.000000  1.030000e+02   \n",
      "75%                    0.000000                  0.000000  1.466000e+03   \n",
      "max                    1.000000                  1.000000  3.757661e+07   \n",
      "\n",
      "        aktelh_2015   aktelh_2016  aktsajt_2014  aktsajt_2015  aktsajt_2016  \\\n",
      "count  3.174500e+04  3.174500e+04  3.174500e+04  3.174500e+04  3.174500e+04   \n",
      "mean   1.746868e+04  1.908416e+04  6.266085e+03  5.236019e+03  7.736462e+03   \n",
      "std    4.305095e+05  4.903217e+05  3.442477e+05  2.225337e+05  4.726807e+05   \n",
      "min    0.000000e+00  0.000000e+00 -2.342817e+06 -4.046128e+06 -4.755754e+06   \n",
      "25%    0.000000e+00  0.000000e+00  0.000000e+00  0.000000e+00  0.000000e+00   \n",
      "50%    1.150000e+02  1.520000e+02  0.000000e+00  0.000000e+00  0.000000e+00   \n",
      "75%    1.463000e+03  1.723000e+03  0.000000e+00  0.000000e+00  0.000000e+00   \n",
      "max    6.837785e+07  7.681369e+07  5.925694e+07  2.886172e+07  8.211345e+07   \n",
      "\n",
      "          alakul_ev  arbevert_2014  arbevert_2015  arbevert_2016  \\\n",
      "count  31745.000000   3.174500e+04   3.174500e+04   3.174500e+04   \n",
      "mean    1999.924870   7.604791e+05   8.131884e+05   8.264970e+05   \n",
      "std        7.206754   3.568883e+06   3.843152e+06   3.920966e+06   \n",
      "min     1973.000000   1.136000e+03   1.103000e+03   1.116000e+03   \n",
      "25%     1993.000000   3.479000e+04   3.668600e+04   3.661500e+04   \n",
      "50%     2002.000000   1.013740e+05   1.085930e+05   1.094740e+05   \n",
      "75%     2007.000000   3.420160e+05   3.606570e+05   3.575980e+05   \n",
      "max     2049.000000   9.748646e+07   1.008127e+08   1.098679e+08   \n",
      "\n",
      "       arbevexp_2014  arbevexp_2015  arbevexp_2016   befpue_2014  \\\n",
      "count   3.174500e+04   3.174500e+04   3.174500e+04  3.174500e+04   \n",
      "mean    1.955610e+05   2.135355e+05   2.232609e+05  9.475226e+04   \n",
      "std     1.967519e+06   2.147885e+06   2.262907e+06  4.946137e+06   \n",
      "min     0.000000e+00  -2.435300e+04  -1.326620e+05  0.000000e+00   \n",
      "25%     0.000000e+00   0.000000e+00   0.000000e+00  0.000000e+00   \n",
      "50%     0.000000e+00   0.000000e+00   0.000000e+00  0.000000e+00   \n",
      "75%     3.200000e+01   9.200000e+01   1.200000e+02  0.000000e+00   \n",
      "max     9.542059e+07   9.052748e+07   1.069952e+08  7.257967e+08   \n",
      "\n",
      "        befpue_2015   befpue_2016   begyeb_2014   begyeb_2015   begyeb_2016  \\\n",
      "count  3.174500e+04  3.174500e+04  3.174500e+04  3.174500e+04  3.174500e+04   \n",
      "mean   8.774008e+04  1.008944e+05  4.297296e+04  5.097088e+04  8.069080e+04   \n",
      "std    4.102128e+06  4.785793e+06  9.543267e+05  1.258897e+06  4.110572e+06   \n",
      "min    0.000000e+00  0.000000e+00  0.000000e+00 -1.730300e+04 -8.981400e+04   \n",
      "25%    0.000000e+00  0.000000e+00  3.500000e+01  3.000000e+01  5.600000e+01   \n",
      "50%    0.000000e+00  0.000000e+00  7.260000e+02  7.870000e+02  1.143000e+03   \n",
      "75%    0.000000e+00  0.000000e+00  5.772000e+03  6.251000e+03  7.874000e+03   \n",
      "max    6.116719e+08  7.411383e+08  1.027726e+08  1.460724e+08  6.907275e+08   \n",
      "\n",
      "       celtart_2014  celtart_2015  celtart_2016  eredadel_2014  eredadel_2015  \\\n",
      "count  3.174500e+04  3.174500e+04  3.174500e+04   3.174500e+04   3.174500e+04   \n",
      "mean   1.322655e+04  1.054260e+04  1.044532e+04   3.561416e+04   4.634705e+04   \n",
      "std    4.009979e+05  2.097578e+05  2.067497e+05   4.593592e+05   4.389334e+05   \n",
      "min    0.000000e+00  0.000000e+00  0.000000e+00  -2.283634e+07  -1.968147e+07   \n",
      "25%    0.000000e+00  0.000000e+00  0.000000e+00   5.890000e+02   7.050000e+02   \n",
      "50%    0.000000e+00  0.000000e+00  0.000000e+00   3.957000e+03   4.593000e+03   \n",
      "75%    0.000000e+00  0.000000e+00  0.000000e+00   1.885500e+04   2.199500e+04   \n",
      "max    4.411474e+07  1.530478e+07  1.449408e+07   2.551690e+07   2.683276e+07   \n",
      "\n",
      "       eredadel_2016  eredadoz_2014  eredadoz_2015  eredadoz_2016  \\\n",
      "count   3.174500e+04   3.174500e+04   3.174500e+04   3.174500e+04   \n",
      "mean    4.500185e+04   3.215519e+04   4.209804e+04   4.056881e+04   \n",
      "std     4.454108e+05   4.455422e+05   4.213745e+05   4.248288e+05   \n",
      "min    -1.568725e+07  -2.283634e+07  -1.968147e+07  -1.568725e+07   \n",
      "25%     6.170000e+02   4.910000e+02   5.680000e+02   4.670000e+02   \n",
      "50%     4.249000e+03   3.563000e+03   4.088000e+03   3.772000e+03   \n",
      "75%     2.094400e+04   1.738600e+04   2.034000e+04   1.916700e+04   \n",
      "max     4.878796e+07   2.512428e+07   2.675999e+07   4.838907e+07   \n",
      "\n",
      "       eredpenz_2014  eredpenz_2015  eredpenz_2016  eredtar_2014  \\\n",
      "count   3.174500e+04   3.174500e+04   3.174500e+04  3.174500e+04   \n",
      "mean   -7.350283e+02  -2.615083e+02  -1.378137e+03  8.882586e+04   \n",
      "std     4.478663e+05   5.051763e+05   4.024945e+05  8.079755e+06   \n",
      "min    -3.676931e+07  -4.820127e+07  -3.362938e+07  0.000000e+00   \n",
      "25%    -9.350000e+02  -9.420000e+02  -9.090000e+02  0.000000e+00   \n",
      "50%    -7.000000e+00  -3.800000e+01  -5.800000e+01  2.460000e+02   \n",
      "75%     3.100000e+01   4.000000e+00   1.000000e+00  5.086000e+03   \n",
      "max     3.571541e+07   3.910796e+07   4.773894e+07  1.423969e+09   \n",
      "\n",
      "       eredtar_2015  eredtar_2016  ereduzem_2014  ereduzem_2015  \\\n",
      "count  3.174500e+04  3.174500e+04   3.174500e+04   3.174500e+04   \n",
      "mean   8.721662e+04  7.676395e+04   3.676922e+04   4.605891e+04   \n",
      "std    7.532439e+06  5.443284e+06   4.731715e+05   5.319207e+05   \n",
      "min    0.000000e+00  0.000000e+00  -2.275324e+07  -2.150858e+07   \n",
      "25%    0.000000e+00  0.000000e+00   5.840000e+02   7.160000e+02   \n",
      "50%    2.410000e+02  2.570000e+02   4.329000e+03   4.941000e+03   \n",
      "75%    4.852000e+03  4.657000e+03   1.974600e+04   2.261700e+04   \n",
      "max    1.334405e+09  9.578379e+08   2.685254e+07   5.355405e+07   \n",
      "\n",
      "       ereduzem_2016  ertpapir_2014  ertpapir_2015  ertpapir_2016  \\\n",
      "count   3.174500e+04   3.174500e+04   3.174500e+04   3.174500e+04   \n",
      "mean    4.630468e+04   1.940217e+04   2.308080e+04   2.476775e+04   \n",
      "std     4.275842e+05   1.118967e+06   1.277101e+06   1.435889e+06   \n",
      "min    -1.674602e+07   0.000000e+00   0.000000e+00   0.000000e+00   \n",
      "25%     7.320000e+02   0.000000e+00   0.000000e+00   0.000000e+00   \n",
      "50%     4.772000e+03   0.000000e+00   0.000000e+00   0.000000e+00   \n",
      "75%     2.204600e+04   0.000000e+00   0.000000e+00   0.000000e+00   \n",
      "max     3.976950e+07   1.549111e+08   1.550745e+08   1.591174e+08   \n",
      "\n",
      "       hoskot01_2014  hoskot01_2015  hoskot01_2016   hoskot_2014  \\\n",
      "count   3.174500e+04   3.174500e+04   3.174500e+04  3.174500e+04   \n",
      "mean    3.530917e+04   3.386404e+04   5.617173e+04  1.987744e+05   \n",
      "std     1.762028e+06   1.703520e+06   2.074374e+06  6.751577e+06   \n",
      "min     0.000000e+00   0.000000e+00   0.000000e+00  0.000000e+00   \n",
      "25%     0.000000e+00   0.000000e+00   0.000000e+00  0.000000e+00   \n",
      "50%     0.000000e+00   0.000000e+00   0.000000e+00  0.000000e+00   \n",
      "75%     0.000000e+00   0.000000e+00   1.799000e+03  8.460000e+03   \n",
      "max     2.743390e+08   2.661855e+08   2.570857e+08  7.486115e+08   \n",
      "\n",
      "        hoskot_2015   hoskot_2016    immat_2014    immat_2015    immat_2016  \\\n",
      "count  3.174500e+04  3.174500e+04  3.174500e+04  3.174500e+04  3.174500e+04   \n",
      "mean   1.829513e+05  1.939847e+05  3.125591e+04  3.130858e+04  2.993746e+04   \n",
      "std    6.639369e+06  6.570703e+06  2.746747e+06  2.690922e+06  2.588008e+06   \n",
      "min    0.000000e+00  0.000000e+00  0.000000e+00  0.000000e+00  0.000000e+00   \n",
      "25%    0.000000e+00  0.000000e+00  0.000000e+00  0.000000e+00  0.000000e+00   \n",
      "50%    0.000000e+00  0.000000e+00  0.000000e+00  0.000000e+00  0.000000e+00   \n",
      "75%    8.993000e+03  9.062000e+03  1.590000e+02  1.670000e+02  1.580000e+02   \n",
      "max    8.645797e+08  8.181855e+08  4.732993e+08  4.632562e+08  4.446778e+08   \n",
      "\n",
      "         jetok_2014    jetok_2015    jetok_2016     kecs_2014     kecs_2015  \\\n",
      "count  3.174500e+04  3.174500e+04  3.174500e+04  3.174500e+04  3.174500e+04   \n",
      "mean   9.690794e+04  1.006088e+05  1.003284e+05  2.655306e+04  2.892717e+04   \n",
      "std    2.181804e+06  2.405616e+06  2.383272e+06  2.524209e+05  2.700832e+05   \n",
      "min    0.000000e+00  0.000000e+00  0.000000e+00  0.000000e+00 -3.900000e+01   \n",
      "25%    3.292000e+03  3.295000e+03  3.297000e+03  6.840000e+02  7.510000e+02   \n",
      "50%    3.303000e+03  3.304000e+03  3.305000e+03  2.374000e+03  2.587000e+03   \n",
      "75%    6.625000e+03  6.933000e+03  7.341000e+03  8.524000e+03  9.327000e+03   \n",
      "max    2.988046e+08  3.396457e+08  3.396457e+08  1.706894e+07  1.900092e+07   \n",
      "\n",
      "          kecs_2016    keszl_2014    keszl_2015    keszl_2016    kovet_2014  \\\n",
      "count  3.174500e+04  3.174500e+04  3.174500e+04  3.174500e+04  3.174500e+04   \n",
      "mean   3.051799e+04  1.260371e+05  1.292975e+05  1.270355e+05  2.792989e+05   \n",
      "std    2.824368e+05  8.410042e+06  7.975492e+06  6.149893e+06  7.134510e+06   \n",
      "min   -4.200000e+01  0.000000e+00  0.000000e+00  0.000000e+00  0.000000e+00   \n",
      "25%    8.070000e+02  0.000000e+00  0.000000e+00  0.000000e+00  2.608000e+03   \n",
      "50%    2.783000e+03  3.387000e+03  3.457000e+03  4.009000e+03  1.373900e+04   \n",
      "75%    1.006000e+04  2.459600e+04  2.615700e+04  2.889000e+04  5.967600e+04   \n",
      "max    1.971979e+07  1.495511e+09  1.416711e+09  1.089511e+09  7.423718e+08   \n",
      "\n",
      "         kovet_2015    kovet_2016  letszam_2014  letszam_2015  letszam_2016  \\\n",
      "count  3.174500e+04  3.174500e+04  31745.000000  31745.000000  31745.000000   \n",
      "mean   2.903519e+05  3.230664e+05     22.746669     23.541912     23.926634   \n",
      "std    8.217722e+06  1.091049e+07    104.289266    111.333014    109.723669   \n",
      "min    0.000000e+00  0.000000e+00      2.000000      2.000000      2.000000   \n",
      "25%    2.641000e+03  2.865000e+03      3.000000      3.000000      3.000000   \n",
      "50%    1.401900e+04  1.505500e+04      6.000000      6.000000      6.000000   \n",
      "75%    6.103600e+04  6.548100e+04     14.000000     15.000000     15.000000   \n",
      "max    9.883011e+08  1.401960e+09   6836.000000   7811.000000   7333.000000   \n",
      "\n",
      "       merlfoo_2014  merlfoo_2015  merlfoo_2016  penzeszk_2014  penzeszk_2015  \\\n",
      "count  3.174500e+04  3.174500e+04  3.174500e+04   3.174500e+04   3.174500e+04   \n",
      "mean   9.300032e+05  9.539560e+05  1.025497e+06   7.879821e+04   7.987647e+04   \n",
      "std    1.636338e+07  1.628821e+07  1.742914e+07   1.730513e+06   1.003183e+06   \n",
      "min    2.000000e+00  1.000000e+00  0.000000e+00   0.000000e+00   0.000000e+00   \n",
      "25%    2.353300e+04  2.590900e+04  2.827500e+04   1.744000e+03   2.112000e+03   \n",
      "50%    7.425100e+04  8.105300e+04  8.765700e+04   6.865000e+03   8.201000e+03   \n",
      "75%    2.655780e+05  2.836200e+05  3.004930e+05   2.511500e+04   3.052400e+04   \n",
      "max    1.636960e+09  1.518290e+09  1.424758e+09   1.921212e+08   9.794607e+07   \n",
      "\n",
      "       penzeszk_2016   ranyag_2014   ranyag_2015   ranyag_2016   regyeb_2014  \\\n",
      "count   3.174500e+04  3.174500e+04  3.174500e+04  3.174500e+04  3.174500e+04   \n",
      "mean    8.755428e+04  5.881539e+05  6.224394e+05  6.303521e+05  5.734232e+04   \n",
      "std     1.373533e+06  2.919442e+06  3.097099e+06  3.176859e+06  1.220346e+06   \n",
      "min     0.000000e+00  0.000000e+00  0.000000e+00  0.000000e+00  0.000000e+00   \n",
      "25%     2.410000e+03  2.067800e+04  2.154200e+04  2.151900e+04  5.730000e+02   \n",
      "50%     8.841000e+03  6.875600e+04  7.323200e+04  7.329900e+04  1.922000e+03   \n",
      "75%     3.238200e+04  2.494990e+05  2.613140e+05  2.576420e+05  8.261000e+03   \n",
      "max     1.572922e+08  8.805991e+07  9.721233e+07  1.098121e+08  1.495994e+08   \n",
      "\n",
      "        regyeb_2015   regyeb_2016  rovkot01_2014  rovkot01_2015  \\\n",
      "count  3.174500e+04  3.174500e+04   3.174500e+04   3.174500e+04   \n",
      "mean   6.307187e+04  9.056681e+04   7.645147e+04   6.958258e+04   \n",
      "std    1.354046e+06  4.136861e+06   1.262762e+06   4.051987e+05   \n",
      "min   -2.804500e+04 -9.160000e+02   0.000000e+00   0.000000e+00   \n",
      "25%    6.030000e+02  6.340000e+02   2.070000e+02   2.180000e+02   \n",
      "50%    2.052000e+03  2.137000e+03   3.913000e+03   3.890000e+03   \n",
      "75%    8.618000e+03  9.350000e+03   2.572200e+04   2.534200e+04   \n",
      "max    1.546675e+08  6.890900e+08   1.997407e+08   2.193934e+07   \n",
      "\n",
      "       rovkot01_2016   rovkot_2014   rovkot_2015   rovkot_2016    rszem_2014  \\\n",
      "count   3.174500e+04  3.174500e+04  3.174500e+04  3.174500e+04  3.174500e+04   \n",
      "mean    7.374418e+04  2.961791e+05  3.149741e+05  3.426193e+05  1.008030e+05   \n",
      "std     4.637534e+05  5.172137e+06  6.051769e+06  9.753687e+06  5.705485e+05   \n",
      "min     0.000000e+00  0.000000e+00  0.000000e+00  0.000000e+00  0.000000e+00   \n",
      "25%     2.420000e+02  6.408000e+03  6.581000e+03  5.696000e+03  6.688000e+03   \n",
      "50%     4.083000e+03  2.310500e+04  2.420200e+04  2.164600e+04  1.459600e+04   \n",
      "75%     2.613800e+04  8.380400e+04  8.736100e+04  7.980800e+04  4.129000e+04   \n",
      "max     4.087089e+07  5.459654e+08  7.578358e+08  1.400803e+09  3.000619e+07   \n",
      "\n",
      "         rszem_2015    rszem_2016  sajattok_2014  sajattok_2015  \\\n",
      "count  3.174500e+04  3.174500e+04   3.174500e+04   3.174500e+04   \n",
      "mean   1.088170e+05  1.171779e+05   3.295408e+05   3.545930e+05   \n",
      "std    6.215008e+05  6.710243e+05   4.388177e+06   4.779873e+06   \n",
      "min    0.000000e+00  0.000000e+00  -3.618369e+06  -6.929417e+06   \n",
      "25%    7.236000e+03  7.699000e+03   7.806000e+03   9.386000e+03   \n",
      "50%    1.578600e+04  1.687800e+04   2.970600e+04   3.419300e+04   \n",
      "75%    4.423500e+04  4.736800e+04   1.164910e+05   1.303350e+05   \n",
      "max    3.198260e+07  3.363947e+07   6.042057e+08   6.629983e+08   \n",
      "\n",
      "       sajattok_2016  targyie_2014  targyie_2015  targyie_2016  \n",
      "count   3.174500e+04  3.174500e+04  3.174500e+04  3.174500e+04  \n",
      "mean    3.980828e+05  2.840110e+05  2.948319e+05  3.131570e+05  \n",
      "std     4.839141e+06  3.668185e+06  3.583047e+06  3.700839e+06  \n",
      "min    -5.352181e+06  0.000000e+00  0.000000e+00  0.000000e+00  \n",
      "25%     1.205500e+04  2.894000e+03  3.294000e+03  3.733000e+03  \n",
      "50%     4.246600e+04  1.680700e+04  1.847200e+04  2.028000e+04  \n",
      "75%     1.557660e+05  7.914600e+04  8.462700e+04  9.104800e+04  \n",
      "max     6.574754e+08  2.956926e+08  2.856892e+08  2.753048e+08  \n"
     ]
    }
   ],
   "source": [
    "print(train_df.describe())"
   ]
  },
  {
   "cell_type": "code",
   "execution_count": 23,
   "metadata": {
    "pycharm": {
     "name": "#%%\n"
    }
   },
   "outputs": [
    {
     "name": "stdout",
     "output_type": "stream",
     "text": [
      "(31745, 6704)\n",
      "0\n"
     ]
    }
   ],
   "source": [
    "from sklearn.preprocessing import OneHotEncoder\n",
    "from utils import columns_to_onehotencode\n",
    "\n",
    "encoder = OneHotEncoder(handle_unknown='ignore')\n",
    "\n",
    "encoder_df = pd.DataFrame(encoder.fit_transform(train_df[[*columns_to_onehotencode]]).toarray())\n",
    "train_df.reset_index(inplace=True)\n",
    "encoder_df.reset_index(inplace=True)\n",
    "train_df = pd.concat([train_df, encoder_df], axis='columns')\n",
    "print(train_df.shape)\n",
    "print(train_df.isna().sum().sum())"
   ]
  },
  {
   "cell_type": "markdown",
   "metadata": {
    "collapsed": false,
    "pycharm": {
     "name": "#%% md\n"
    }
   },
   "source": [
    "# Train"
   ]
  },
  {
   "cell_type": "code",
   "execution_count": 24,
   "metadata": {
    "pycharm": {
     "name": "#%%\n"
    }
   },
   "outputs": [],
   "source": [
    "target_df = train_df[target_column]\n",
    "train_df.drop([target_column, *columns_to_onehotencode], axis='columns', inplace=True)\n",
    "\n",
    "train_df.columns = train_df.columns.map(str)\n",
    "\n",
    "x_train, x_test, y_train, y_test = train_test_split(train_df, target_df, random_state=42)"
   ]
  },
  {
   "cell_type": "code",
   "execution_count": 25,
   "metadata": {
    "pycharm": {
     "name": "#%%\n"
    }
   },
   "outputs": [],
   "source": [
    "from sklearn.ensemble import RandomForestRegressor\n",
    "\n",
    "rf = RandomForestRegressor(n_estimators=75, random_state=42, n_jobs= 2)\n",
    "rf.fit(x_train,y_train)\n",
    "predictions = rf.predict(x_test)"
   ]
  },
  {
   "cell_type": "markdown",
   "source": [
    "# Inspecting feature importance"
   ],
   "metadata": {
    "collapsed": false,
    "pycharm": {
     "name": "#%% md\n"
    }
   }
  },
  {
   "cell_type": "code",
   "execution_count": 26,
   "outputs": [
    {
     "ename": "KeyboardInterrupt",
     "evalue": "",
     "output_type": "error",
     "traceback": [
      "\u001B[1;31m---------------------------------------------------------------------------\u001B[0m",
      "\u001B[1;31mKeyboardInterrupt\u001B[0m                         Traceback (most recent call last)",
      "Input \u001B[1;32mIn [26]\u001B[0m, in \u001B[0;36m<cell line: 3>\u001B[1;34m()\u001B[0m\n\u001B[0;32m      1\u001B[0m \u001B[38;5;28;01mfrom\u001B[39;00m \u001B[38;5;21;01msklearn\u001B[39;00m\u001B[38;5;21;01m.\u001B[39;00m\u001B[38;5;21;01minspection\u001B[39;00m \u001B[38;5;28;01mimport\u001B[39;00m permutation_importance\n\u001B[1;32m----> 3\u001B[0m perm_importance \u001B[38;5;241m=\u001B[39m \u001B[43mpermutation_importance\u001B[49m\u001B[43m(\u001B[49m\u001B[43mrf\u001B[49m\u001B[43m,\u001B[49m\u001B[43m \u001B[49m\u001B[43mx_test\u001B[49m\u001B[43m,\u001B[49m\u001B[43m \u001B[49m\u001B[43my_test\u001B[49m\u001B[43m)\u001B[49m\n\u001B[0;32m      4\u001B[0m sorted_idx \u001B[38;5;241m=\u001B[39m perm_importance\u001B[38;5;241m.\u001B[39mimportances_mean\u001B[38;5;241m.\u001B[39margsort()\n\u001B[0;32m      5\u001B[0m plt\u001B[38;5;241m.\u001B[39mbarh(train_df\u001B[38;5;241m.\u001B[39mfeature_names[sorted_idx], perm_importance\u001B[38;5;241m.\u001B[39mimportances_mean[sorted_idx])\n",
      "File \u001B[1;32mD:\\Data_racing_verseny\\env\\lib\\site-packages\\sklearn\\inspection\\_permutation_importance.py:259\u001B[0m, in \u001B[0;36mpermutation_importance\u001B[1;34m(estimator, X, y, scoring, n_repeats, n_jobs, random_state, sample_weight, max_samples)\u001B[0m\n\u001B[0;32m    255\u001B[0m     scorer \u001B[38;5;241m=\u001B[39m _MultimetricScorer(\u001B[38;5;241m*\u001B[39m\u001B[38;5;241m*\u001B[39mscorers_dict)\n\u001B[0;32m    257\u001B[0m baseline_score \u001B[38;5;241m=\u001B[39m _weights_scorer(scorer, estimator, X, y, sample_weight)\n\u001B[1;32m--> 259\u001B[0m scores \u001B[38;5;241m=\u001B[39m \u001B[43mParallel\u001B[49m\u001B[43m(\u001B[49m\u001B[43mn_jobs\u001B[49m\u001B[38;5;241;43m=\u001B[39;49m\u001B[43mn_jobs\u001B[49m\u001B[43m)\u001B[49m\u001B[43m(\u001B[49m\n\u001B[0;32m    260\u001B[0m \u001B[43m    \u001B[49m\u001B[43mdelayed\u001B[49m\u001B[43m(\u001B[49m\u001B[43m_calculate_permutation_scores\u001B[49m\u001B[43m)\u001B[49m\u001B[43m(\u001B[49m\n\u001B[0;32m    261\u001B[0m \u001B[43m        \u001B[49m\u001B[43mestimator\u001B[49m\u001B[43m,\u001B[49m\n\u001B[0;32m    262\u001B[0m \u001B[43m        \u001B[49m\u001B[43mX\u001B[49m\u001B[43m,\u001B[49m\n\u001B[0;32m    263\u001B[0m \u001B[43m        \u001B[49m\u001B[43my\u001B[49m\u001B[43m,\u001B[49m\n\u001B[0;32m    264\u001B[0m \u001B[43m        \u001B[49m\u001B[43msample_weight\u001B[49m\u001B[43m,\u001B[49m\n\u001B[0;32m    265\u001B[0m \u001B[43m        \u001B[49m\u001B[43mcol_idx\u001B[49m\u001B[43m,\u001B[49m\n\u001B[0;32m    266\u001B[0m \u001B[43m        \u001B[49m\u001B[43mrandom_seed\u001B[49m\u001B[43m,\u001B[49m\n\u001B[0;32m    267\u001B[0m \u001B[43m        \u001B[49m\u001B[43mn_repeats\u001B[49m\u001B[43m,\u001B[49m\n\u001B[0;32m    268\u001B[0m \u001B[43m        \u001B[49m\u001B[43mscorer\u001B[49m\u001B[43m,\u001B[49m\n\u001B[0;32m    269\u001B[0m \u001B[43m        \u001B[49m\u001B[43mmax_samples\u001B[49m\u001B[43m,\u001B[49m\n\u001B[0;32m    270\u001B[0m \u001B[43m    \u001B[49m\u001B[43m)\u001B[49m\n\u001B[0;32m    271\u001B[0m \u001B[43m    \u001B[49m\u001B[38;5;28;43;01mfor\u001B[39;49;00m\u001B[43m \u001B[49m\u001B[43mcol_idx\u001B[49m\u001B[43m \u001B[49m\u001B[38;5;129;43;01min\u001B[39;49;00m\u001B[43m \u001B[49m\u001B[38;5;28;43mrange\u001B[39;49m\u001B[43m(\u001B[49m\u001B[43mX\u001B[49m\u001B[38;5;241;43m.\u001B[39;49m\u001B[43mshape\u001B[49m\u001B[43m[\u001B[49m\u001B[38;5;241;43m1\u001B[39;49m\u001B[43m]\u001B[49m\u001B[43m)\u001B[49m\n\u001B[0;32m    272\u001B[0m \u001B[43m\u001B[49m\u001B[43m)\u001B[49m\n\u001B[0;32m    274\u001B[0m \u001B[38;5;28;01mif\u001B[39;00m \u001B[38;5;28misinstance\u001B[39m(baseline_score, \u001B[38;5;28mdict\u001B[39m):\n\u001B[0;32m    275\u001B[0m     \u001B[38;5;28;01mreturn\u001B[39;00m {\n\u001B[0;32m    276\u001B[0m         name: _create_importances_bunch(\n\u001B[0;32m    277\u001B[0m             baseline_score[name],\n\u001B[1;32m   (...)\u001B[0m\n\u001B[0;32m    281\u001B[0m         \u001B[38;5;28;01mfor\u001B[39;00m name \u001B[38;5;129;01min\u001B[39;00m baseline_score\n\u001B[0;32m    282\u001B[0m     }\n",
      "File \u001B[1;32mD:\\Data_racing_verseny\\env\\lib\\site-packages\\joblib\\parallel.py:1046\u001B[0m, in \u001B[0;36mParallel.__call__\u001B[1;34m(self, iterable)\u001B[0m\n\u001B[0;32m   1043\u001B[0m \u001B[38;5;28;01mif\u001B[39;00m \u001B[38;5;28mself\u001B[39m\u001B[38;5;241m.\u001B[39mdispatch_one_batch(iterator):\n\u001B[0;32m   1044\u001B[0m     \u001B[38;5;28mself\u001B[39m\u001B[38;5;241m.\u001B[39m_iterating \u001B[38;5;241m=\u001B[39m \u001B[38;5;28mself\u001B[39m\u001B[38;5;241m.\u001B[39m_original_iterator \u001B[38;5;129;01mis\u001B[39;00m \u001B[38;5;129;01mnot\u001B[39;00m \u001B[38;5;28;01mNone\u001B[39;00m\n\u001B[1;32m-> 1046\u001B[0m \u001B[38;5;28;01mwhile\u001B[39;00m \u001B[38;5;28;43mself\u001B[39;49m\u001B[38;5;241;43m.\u001B[39;49m\u001B[43mdispatch_one_batch\u001B[49m\u001B[43m(\u001B[49m\u001B[43miterator\u001B[49m\u001B[43m)\u001B[49m:\n\u001B[0;32m   1047\u001B[0m     \u001B[38;5;28;01mpass\u001B[39;00m\n\u001B[0;32m   1049\u001B[0m \u001B[38;5;28;01mif\u001B[39;00m pre_dispatch \u001B[38;5;241m==\u001B[39m \u001B[38;5;124m\"\u001B[39m\u001B[38;5;124mall\u001B[39m\u001B[38;5;124m\"\u001B[39m \u001B[38;5;129;01mor\u001B[39;00m n_jobs \u001B[38;5;241m==\u001B[39m \u001B[38;5;241m1\u001B[39m:\n\u001B[0;32m   1050\u001B[0m     \u001B[38;5;66;03m# The iterable was consumed all at once by the above for loop.\u001B[39;00m\n\u001B[0;32m   1051\u001B[0m     \u001B[38;5;66;03m# No need to wait for async callbacks to trigger to\u001B[39;00m\n\u001B[0;32m   1052\u001B[0m     \u001B[38;5;66;03m# consumption.\u001B[39;00m\n",
      "File \u001B[1;32mD:\\Data_racing_verseny\\env\\lib\\site-packages\\joblib\\parallel.py:861\u001B[0m, in \u001B[0;36mParallel.dispatch_one_batch\u001B[1;34m(self, iterator)\u001B[0m\n\u001B[0;32m    859\u001B[0m     \u001B[38;5;28;01mreturn\u001B[39;00m \u001B[38;5;28;01mFalse\u001B[39;00m\n\u001B[0;32m    860\u001B[0m \u001B[38;5;28;01melse\u001B[39;00m:\n\u001B[1;32m--> 861\u001B[0m     \u001B[38;5;28;43mself\u001B[39;49m\u001B[38;5;241;43m.\u001B[39;49m\u001B[43m_dispatch\u001B[49m\u001B[43m(\u001B[49m\u001B[43mtasks\u001B[49m\u001B[43m)\u001B[49m\n\u001B[0;32m    862\u001B[0m     \u001B[38;5;28;01mreturn\u001B[39;00m \u001B[38;5;28;01mTrue\u001B[39;00m\n",
      "File \u001B[1;32mD:\\Data_racing_verseny\\env\\lib\\site-packages\\joblib\\parallel.py:779\u001B[0m, in \u001B[0;36mParallel._dispatch\u001B[1;34m(self, batch)\u001B[0m\n\u001B[0;32m    777\u001B[0m \u001B[38;5;28;01mwith\u001B[39;00m \u001B[38;5;28mself\u001B[39m\u001B[38;5;241m.\u001B[39m_lock:\n\u001B[0;32m    778\u001B[0m     job_idx \u001B[38;5;241m=\u001B[39m \u001B[38;5;28mlen\u001B[39m(\u001B[38;5;28mself\u001B[39m\u001B[38;5;241m.\u001B[39m_jobs)\n\u001B[1;32m--> 779\u001B[0m     job \u001B[38;5;241m=\u001B[39m \u001B[38;5;28;43mself\u001B[39;49m\u001B[38;5;241;43m.\u001B[39;49m\u001B[43m_backend\u001B[49m\u001B[38;5;241;43m.\u001B[39;49m\u001B[43mapply_async\u001B[49m\u001B[43m(\u001B[49m\u001B[43mbatch\u001B[49m\u001B[43m,\u001B[49m\u001B[43m \u001B[49m\u001B[43mcallback\u001B[49m\u001B[38;5;241;43m=\u001B[39;49m\u001B[43mcb\u001B[49m\u001B[43m)\u001B[49m\n\u001B[0;32m    780\u001B[0m     \u001B[38;5;66;03m# A job can complete so quickly than its callback is\u001B[39;00m\n\u001B[0;32m    781\u001B[0m     \u001B[38;5;66;03m# called before we get here, causing self._jobs to\u001B[39;00m\n\u001B[0;32m    782\u001B[0m     \u001B[38;5;66;03m# grow. To ensure correct results ordering, .insert is\u001B[39;00m\n\u001B[0;32m    783\u001B[0m     \u001B[38;5;66;03m# used (rather than .append) in the following line\u001B[39;00m\n\u001B[0;32m    784\u001B[0m     \u001B[38;5;28mself\u001B[39m\u001B[38;5;241m.\u001B[39m_jobs\u001B[38;5;241m.\u001B[39minsert(job_idx, job)\n",
      "File \u001B[1;32mD:\\Data_racing_verseny\\env\\lib\\site-packages\\joblib\\_parallel_backends.py:208\u001B[0m, in \u001B[0;36mSequentialBackend.apply_async\u001B[1;34m(self, func, callback)\u001B[0m\n\u001B[0;32m    206\u001B[0m \u001B[38;5;28;01mdef\u001B[39;00m \u001B[38;5;21mapply_async\u001B[39m(\u001B[38;5;28mself\u001B[39m, func, callback\u001B[38;5;241m=\u001B[39m\u001B[38;5;28;01mNone\u001B[39;00m):\n\u001B[0;32m    207\u001B[0m     \u001B[38;5;124;03m\"\"\"Schedule a func to be run\"\"\"\u001B[39;00m\n\u001B[1;32m--> 208\u001B[0m     result \u001B[38;5;241m=\u001B[39m \u001B[43mImmediateResult\u001B[49m\u001B[43m(\u001B[49m\u001B[43mfunc\u001B[49m\u001B[43m)\u001B[49m\n\u001B[0;32m    209\u001B[0m     \u001B[38;5;28;01mif\u001B[39;00m callback:\n\u001B[0;32m    210\u001B[0m         callback(result)\n",
      "File \u001B[1;32mD:\\Data_racing_verseny\\env\\lib\\site-packages\\joblib\\_parallel_backends.py:572\u001B[0m, in \u001B[0;36mImmediateResult.__init__\u001B[1;34m(self, batch)\u001B[0m\n\u001B[0;32m    569\u001B[0m \u001B[38;5;28;01mdef\u001B[39;00m \u001B[38;5;21m__init__\u001B[39m(\u001B[38;5;28mself\u001B[39m, batch):\n\u001B[0;32m    570\u001B[0m     \u001B[38;5;66;03m# Don't delay the application, to avoid keeping the input\u001B[39;00m\n\u001B[0;32m    571\u001B[0m     \u001B[38;5;66;03m# arguments in memory\u001B[39;00m\n\u001B[1;32m--> 572\u001B[0m     \u001B[38;5;28mself\u001B[39m\u001B[38;5;241m.\u001B[39mresults \u001B[38;5;241m=\u001B[39m \u001B[43mbatch\u001B[49m\u001B[43m(\u001B[49m\u001B[43m)\u001B[49m\n",
      "File \u001B[1;32mD:\\Data_racing_verseny\\env\\lib\\site-packages\\joblib\\parallel.py:262\u001B[0m, in \u001B[0;36mBatchedCalls.__call__\u001B[1;34m(self)\u001B[0m\n\u001B[0;32m    258\u001B[0m \u001B[38;5;28;01mdef\u001B[39;00m \u001B[38;5;21m__call__\u001B[39m(\u001B[38;5;28mself\u001B[39m):\n\u001B[0;32m    259\u001B[0m     \u001B[38;5;66;03m# Set the default nested backend to self._backend but do not set the\u001B[39;00m\n\u001B[0;32m    260\u001B[0m     \u001B[38;5;66;03m# change the default number of processes to -1\u001B[39;00m\n\u001B[0;32m    261\u001B[0m     \u001B[38;5;28;01mwith\u001B[39;00m parallel_backend(\u001B[38;5;28mself\u001B[39m\u001B[38;5;241m.\u001B[39m_backend, n_jobs\u001B[38;5;241m=\u001B[39m\u001B[38;5;28mself\u001B[39m\u001B[38;5;241m.\u001B[39m_n_jobs):\n\u001B[1;32m--> 262\u001B[0m         \u001B[38;5;28;01mreturn\u001B[39;00m [func(\u001B[38;5;241m*\u001B[39margs, \u001B[38;5;241m*\u001B[39m\u001B[38;5;241m*\u001B[39mkwargs)\n\u001B[0;32m    263\u001B[0m                 \u001B[38;5;28;01mfor\u001B[39;00m func, args, kwargs \u001B[38;5;129;01min\u001B[39;00m \u001B[38;5;28mself\u001B[39m\u001B[38;5;241m.\u001B[39mitems]\n",
      "File \u001B[1;32mD:\\Data_racing_verseny\\env\\lib\\site-packages\\joblib\\parallel.py:262\u001B[0m, in \u001B[0;36m<listcomp>\u001B[1;34m(.0)\u001B[0m\n\u001B[0;32m    258\u001B[0m \u001B[38;5;28;01mdef\u001B[39;00m \u001B[38;5;21m__call__\u001B[39m(\u001B[38;5;28mself\u001B[39m):\n\u001B[0;32m    259\u001B[0m     \u001B[38;5;66;03m# Set the default nested backend to self._backend but do not set the\u001B[39;00m\n\u001B[0;32m    260\u001B[0m     \u001B[38;5;66;03m# change the default number of processes to -1\u001B[39;00m\n\u001B[0;32m    261\u001B[0m     \u001B[38;5;28;01mwith\u001B[39;00m parallel_backend(\u001B[38;5;28mself\u001B[39m\u001B[38;5;241m.\u001B[39m_backend, n_jobs\u001B[38;5;241m=\u001B[39m\u001B[38;5;28mself\u001B[39m\u001B[38;5;241m.\u001B[39m_n_jobs):\n\u001B[1;32m--> 262\u001B[0m         \u001B[38;5;28;01mreturn\u001B[39;00m [func(\u001B[38;5;241m*\u001B[39margs, \u001B[38;5;241m*\u001B[39m\u001B[38;5;241m*\u001B[39mkwargs)\n\u001B[0;32m    263\u001B[0m                 \u001B[38;5;28;01mfor\u001B[39;00m func, args, kwargs \u001B[38;5;129;01min\u001B[39;00m \u001B[38;5;28mself\u001B[39m\u001B[38;5;241m.\u001B[39mitems]\n",
      "File \u001B[1;32mD:\\Data_racing_verseny\\env\\lib\\site-packages\\sklearn\\utils\\fixes.py:117\u001B[0m, in \u001B[0;36m_FuncWrapper.__call__\u001B[1;34m(self, *args, **kwargs)\u001B[0m\n\u001B[0;32m    115\u001B[0m \u001B[38;5;28;01mdef\u001B[39;00m \u001B[38;5;21m__call__\u001B[39m(\u001B[38;5;28mself\u001B[39m, \u001B[38;5;241m*\u001B[39margs, \u001B[38;5;241m*\u001B[39m\u001B[38;5;241m*\u001B[39mkwargs):\n\u001B[0;32m    116\u001B[0m     \u001B[38;5;28;01mwith\u001B[39;00m config_context(\u001B[38;5;241m*\u001B[39m\u001B[38;5;241m*\u001B[39m\u001B[38;5;28mself\u001B[39m\u001B[38;5;241m.\u001B[39mconfig):\n\u001B[1;32m--> 117\u001B[0m         \u001B[38;5;28;01mreturn\u001B[39;00m \u001B[38;5;28mself\u001B[39m\u001B[38;5;241m.\u001B[39mfunction(\u001B[38;5;241m*\u001B[39margs, \u001B[38;5;241m*\u001B[39m\u001B[38;5;241m*\u001B[39mkwargs)\n",
      "File \u001B[1;32mD:\\Data_racing_verseny\\env\\lib\\site-packages\\sklearn\\inspection\\_permutation_importance.py:64\u001B[0m, in \u001B[0;36m_calculate_permutation_scores\u001B[1;34m(estimator, X, y, sample_weight, col_idx, random_state, n_repeats, scorer, max_samples)\u001B[0m\n\u001B[0;32m     62\u001B[0m     \u001B[38;5;28;01melse\u001B[39;00m:\n\u001B[0;32m     63\u001B[0m         X_permuted[:, col_idx] \u001B[38;5;241m=\u001B[39m X_permuted[shuffling_idx, col_idx]\n\u001B[1;32m---> 64\u001B[0m     scores\u001B[38;5;241m.\u001B[39mappend(\u001B[43m_weights_scorer\u001B[49m\u001B[43m(\u001B[49m\u001B[43mscorer\u001B[49m\u001B[43m,\u001B[49m\u001B[43m \u001B[49m\u001B[43mestimator\u001B[49m\u001B[43m,\u001B[49m\u001B[43m \u001B[49m\u001B[43mX_permuted\u001B[49m\u001B[43m,\u001B[49m\u001B[43m \u001B[49m\u001B[43my\u001B[49m\u001B[43m,\u001B[49m\u001B[43m \u001B[49m\u001B[43msample_weight\u001B[49m\u001B[43m)\u001B[49m)\n\u001B[0;32m     66\u001B[0m \u001B[38;5;28;01mif\u001B[39;00m \u001B[38;5;28misinstance\u001B[39m(scores[\u001B[38;5;241m0\u001B[39m], \u001B[38;5;28mdict\u001B[39m):\n\u001B[0;32m     67\u001B[0m     scores \u001B[38;5;241m=\u001B[39m _aggregate_score_dicts(scores)\n",
      "File \u001B[1;32mD:\\Data_racing_verseny\\env\\lib\\site-packages\\sklearn\\inspection\\_permutation_importance.py:19\u001B[0m, in \u001B[0;36m_weights_scorer\u001B[1;34m(scorer, estimator, X, y, sample_weight)\u001B[0m\n\u001B[0;32m     17\u001B[0m \u001B[38;5;28;01mif\u001B[39;00m sample_weight \u001B[38;5;129;01mis\u001B[39;00m \u001B[38;5;129;01mnot\u001B[39;00m \u001B[38;5;28;01mNone\u001B[39;00m:\n\u001B[0;32m     18\u001B[0m     \u001B[38;5;28;01mreturn\u001B[39;00m scorer(estimator, X, y, sample_weight)\n\u001B[1;32m---> 19\u001B[0m \u001B[38;5;28;01mreturn\u001B[39;00m \u001B[43mscorer\u001B[49m\u001B[43m(\u001B[49m\u001B[43mestimator\u001B[49m\u001B[43m,\u001B[49m\u001B[43m \u001B[49m\u001B[43mX\u001B[49m\u001B[43m,\u001B[49m\u001B[43m \u001B[49m\u001B[43my\u001B[49m\u001B[43m)\u001B[49m\n",
      "File \u001B[1;32mD:\\Data_racing_verseny\\env\\lib\\site-packages\\sklearn\\metrics\\_scorer.py:429\u001B[0m, in \u001B[0;36m_passthrough_scorer\u001B[1;34m(estimator, *args, **kwargs)\u001B[0m\n\u001B[0;32m    427\u001B[0m \u001B[38;5;28;01mdef\u001B[39;00m \u001B[38;5;21m_passthrough_scorer\u001B[39m(estimator, \u001B[38;5;241m*\u001B[39margs, \u001B[38;5;241m*\u001B[39m\u001B[38;5;241m*\u001B[39mkwargs):\n\u001B[0;32m    428\u001B[0m     \u001B[38;5;124;03m\"\"\"Function that wraps estimator.score\"\"\"\u001B[39;00m\n\u001B[1;32m--> 429\u001B[0m     \u001B[38;5;28;01mreturn\u001B[39;00m estimator\u001B[38;5;241m.\u001B[39mscore(\u001B[38;5;241m*\u001B[39margs, \u001B[38;5;241m*\u001B[39m\u001B[38;5;241m*\u001B[39mkwargs)\n",
      "File \u001B[1;32mD:\\Data_racing_verseny\\env\\lib\\site-packages\\sklearn\\base.py:720\u001B[0m, in \u001B[0;36mRegressorMixin.score\u001B[1;34m(self, X, y, sample_weight)\u001B[0m\n\u001B[0;32m    678\u001B[0m \u001B[38;5;124;03m\"\"\"Return the coefficient of determination of the prediction.\u001B[39;00m\n\u001B[0;32m    679\u001B[0m \n\u001B[0;32m    680\u001B[0m \u001B[38;5;124;03mThe coefficient of determination :math:`R^2` is defined as\u001B[39;00m\n\u001B[1;32m   (...)\u001B[0m\n\u001B[0;32m    715\u001B[0m \u001B[38;5;124;03m:class:`~sklearn.multioutput.MultiOutputRegressor`).\u001B[39;00m\n\u001B[0;32m    716\u001B[0m \u001B[38;5;124;03m\"\"\"\u001B[39;00m\n\u001B[0;32m    718\u001B[0m \u001B[38;5;28;01mfrom\u001B[39;00m \u001B[38;5;21;01m.\u001B[39;00m\u001B[38;5;21;01mmetrics\u001B[39;00m \u001B[38;5;28;01mimport\u001B[39;00m r2_score\n\u001B[1;32m--> 720\u001B[0m y_pred \u001B[38;5;241m=\u001B[39m \u001B[38;5;28;43mself\u001B[39;49m\u001B[38;5;241;43m.\u001B[39;49m\u001B[43mpredict\u001B[49m\u001B[43m(\u001B[49m\u001B[43mX\u001B[49m\u001B[43m)\u001B[49m\n\u001B[0;32m    721\u001B[0m \u001B[38;5;28;01mreturn\u001B[39;00m r2_score(y, y_pred, sample_weight\u001B[38;5;241m=\u001B[39msample_weight)\n",
      "File \u001B[1;32mD:\\Data_racing_verseny\\env\\lib\\site-packages\\sklearn\\ensemble\\_forest.py:991\u001B[0m, in \u001B[0;36mForestRegressor.predict\u001B[1;34m(self, X)\u001B[0m\n\u001B[0;32m    989\u001B[0m check_is_fitted(\u001B[38;5;28mself\u001B[39m)\n\u001B[0;32m    990\u001B[0m \u001B[38;5;66;03m# Check data\u001B[39;00m\n\u001B[1;32m--> 991\u001B[0m X \u001B[38;5;241m=\u001B[39m \u001B[38;5;28;43mself\u001B[39;49m\u001B[38;5;241;43m.\u001B[39;49m\u001B[43m_validate_X_predict\u001B[49m\u001B[43m(\u001B[49m\u001B[43mX\u001B[49m\u001B[43m)\u001B[49m\n\u001B[0;32m    993\u001B[0m \u001B[38;5;66;03m# Assign chunk of trees to jobs\u001B[39;00m\n\u001B[0;32m    994\u001B[0m n_jobs, _, _ \u001B[38;5;241m=\u001B[39m _partition_estimators(\u001B[38;5;28mself\u001B[39m\u001B[38;5;241m.\u001B[39mn_estimators, \u001B[38;5;28mself\u001B[39m\u001B[38;5;241m.\u001B[39mn_jobs)\n",
      "File \u001B[1;32mD:\\Data_racing_verseny\\env\\lib\\site-packages\\sklearn\\ensemble\\_forest.py:605\u001B[0m, in \u001B[0;36mBaseForest._validate_X_predict\u001B[1;34m(self, X)\u001B[0m\n\u001B[0;32m    602\u001B[0m \u001B[38;5;124;03m\"\"\"\u001B[39;00m\n\u001B[0;32m    603\u001B[0m \u001B[38;5;124;03mValidate X whenever one tries to predict, apply, predict_proba.\"\"\"\u001B[39;00m\n\u001B[0;32m    604\u001B[0m check_is_fitted(\u001B[38;5;28mself\u001B[39m)\n\u001B[1;32m--> 605\u001B[0m X \u001B[38;5;241m=\u001B[39m \u001B[38;5;28;43mself\u001B[39;49m\u001B[38;5;241;43m.\u001B[39;49m\u001B[43m_validate_data\u001B[49m\u001B[43m(\u001B[49m\u001B[43mX\u001B[49m\u001B[43m,\u001B[49m\u001B[43m \u001B[49m\u001B[43mdtype\u001B[49m\u001B[38;5;241;43m=\u001B[39;49m\u001B[43mDTYPE\u001B[49m\u001B[43m,\u001B[49m\u001B[43m \u001B[49m\u001B[43maccept_sparse\u001B[49m\u001B[38;5;241;43m=\u001B[39;49m\u001B[38;5;124;43m\"\u001B[39;49m\u001B[38;5;124;43mcsr\u001B[39;49m\u001B[38;5;124;43m\"\u001B[39;49m\u001B[43m,\u001B[49m\u001B[43m \u001B[49m\u001B[43mreset\u001B[49m\u001B[38;5;241;43m=\u001B[39;49m\u001B[38;5;28;43;01mFalse\u001B[39;49;00m\u001B[43m)\u001B[49m\n\u001B[0;32m    606\u001B[0m \u001B[38;5;28;01mif\u001B[39;00m issparse(X) \u001B[38;5;129;01mand\u001B[39;00m (X\u001B[38;5;241m.\u001B[39mindices\u001B[38;5;241m.\u001B[39mdtype \u001B[38;5;241m!=\u001B[39m np\u001B[38;5;241m.\u001B[39mintc \u001B[38;5;129;01mor\u001B[39;00m X\u001B[38;5;241m.\u001B[39mindptr\u001B[38;5;241m.\u001B[39mdtype \u001B[38;5;241m!=\u001B[39m np\u001B[38;5;241m.\u001B[39mintc):\n\u001B[0;32m    607\u001B[0m     \u001B[38;5;28;01mraise\u001B[39;00m \u001B[38;5;167;01mValueError\u001B[39;00m(\u001B[38;5;124m\"\u001B[39m\u001B[38;5;124mNo support for np.int64 index based sparse matrices\u001B[39m\u001B[38;5;124m\"\u001B[39m)\n",
      "File \u001B[1;32mD:\\Data_racing_verseny\\env\\lib\\site-packages\\sklearn\\base.py:577\u001B[0m, in \u001B[0;36mBaseEstimator._validate_data\u001B[1;34m(self, X, y, reset, validate_separately, **check_params)\u001B[0m\n\u001B[0;32m    575\u001B[0m     \u001B[38;5;28;01mraise\u001B[39;00m \u001B[38;5;167;01mValueError\u001B[39;00m(\u001B[38;5;124m\"\u001B[39m\u001B[38;5;124mValidation should be done on X, y or both.\u001B[39m\u001B[38;5;124m\"\u001B[39m)\n\u001B[0;32m    576\u001B[0m \u001B[38;5;28;01melif\u001B[39;00m \u001B[38;5;129;01mnot\u001B[39;00m no_val_X \u001B[38;5;129;01mand\u001B[39;00m no_val_y:\n\u001B[1;32m--> 577\u001B[0m     X \u001B[38;5;241m=\u001B[39m check_array(X, input_name\u001B[38;5;241m=\u001B[39m\u001B[38;5;124m\"\u001B[39m\u001B[38;5;124mX\u001B[39m\u001B[38;5;124m\"\u001B[39m, \u001B[38;5;241m*\u001B[39m\u001B[38;5;241m*\u001B[39mcheck_params)\n\u001B[0;32m    578\u001B[0m     out \u001B[38;5;241m=\u001B[39m X\n\u001B[0;32m    579\u001B[0m \u001B[38;5;28;01melif\u001B[39;00m no_val_X \u001B[38;5;129;01mand\u001B[39;00m \u001B[38;5;129;01mnot\u001B[39;00m no_val_y:\n",
      "File \u001B[1;32mD:\\Data_racing_verseny\\env\\lib\\site-packages\\sklearn\\utils\\validation.py:757\u001B[0m, in \u001B[0;36mcheck_array\u001B[1;34m(array, accept_sparse, accept_large_sparse, dtype, order, copy, force_all_finite, ensure_2d, allow_nd, ensure_min_samples, ensure_min_features, estimator, input_name)\u001B[0m\n\u001B[0;32m    754\u001B[0m \u001B[38;5;28;01mwith\u001B[39;00m suppress(\u001B[38;5;167;01mImportError\u001B[39;00m):\n\u001B[0;32m    755\u001B[0m     \u001B[38;5;28;01mfrom\u001B[39;00m \u001B[38;5;21;01mpandas\u001B[39;00m\u001B[38;5;21;01m.\u001B[39;00m\u001B[38;5;21;01mapi\u001B[39;00m\u001B[38;5;21;01m.\u001B[39;00m\u001B[38;5;21;01mtypes\u001B[39;00m \u001B[38;5;28;01mimport\u001B[39;00m is_sparse\n\u001B[1;32m--> 757\u001B[0m     \u001B[38;5;28;01mif\u001B[39;00m \u001B[38;5;129;01mnot\u001B[39;00m \u001B[38;5;28mhasattr\u001B[39m(array, \u001B[38;5;124m\"\u001B[39m\u001B[38;5;124msparse\u001B[39m\u001B[38;5;124m\"\u001B[39m) \u001B[38;5;129;01mand\u001B[39;00m \u001B[43marray\u001B[49m\u001B[38;5;241;43m.\u001B[39;49m\u001B[43mdtypes\u001B[49m\u001B[38;5;241;43m.\u001B[39;49m\u001B[43mapply\u001B[49m\u001B[43m(\u001B[49m\u001B[43mis_sparse\u001B[49m\u001B[43m)\u001B[49m\u001B[38;5;241m.\u001B[39many():\n\u001B[0;32m    758\u001B[0m         warnings\u001B[38;5;241m.\u001B[39mwarn(\n\u001B[0;32m    759\u001B[0m             \u001B[38;5;124m\"\u001B[39m\u001B[38;5;124mpandas.DataFrame with sparse columns found.\u001B[39m\u001B[38;5;124m\"\u001B[39m\n\u001B[0;32m    760\u001B[0m             \u001B[38;5;124m\"\u001B[39m\u001B[38;5;124mIt will be converted to a dense numpy array.\u001B[39m\u001B[38;5;124m\"\u001B[39m\n\u001B[0;32m    761\u001B[0m         )\n\u001B[0;32m    763\u001B[0m dtypes_orig \u001B[38;5;241m=\u001B[39m \u001B[38;5;28mlist\u001B[39m(array\u001B[38;5;241m.\u001B[39mdtypes)\n",
      "File \u001B[1;32mD:\\Data_racing_verseny\\env\\lib\\site-packages\\pandas\\core\\series.py:4433\u001B[0m, in \u001B[0;36mSeries.apply\u001B[1;34m(self, func, convert_dtype, args, **kwargs)\u001B[0m\n\u001B[0;32m   4323\u001B[0m \u001B[38;5;28;01mdef\u001B[39;00m \u001B[38;5;21mapply\u001B[39m(\n\u001B[0;32m   4324\u001B[0m     \u001B[38;5;28mself\u001B[39m,\n\u001B[0;32m   4325\u001B[0m     func: AggFuncType,\n\u001B[1;32m   (...)\u001B[0m\n\u001B[0;32m   4328\u001B[0m     \u001B[38;5;241m*\u001B[39m\u001B[38;5;241m*\u001B[39mkwargs,\n\u001B[0;32m   4329\u001B[0m ) \u001B[38;5;241m-\u001B[39m\u001B[38;5;241m>\u001B[39m DataFrame \u001B[38;5;241m|\u001B[39m Series:\n\u001B[0;32m   4330\u001B[0m     \u001B[38;5;124;03m\"\"\"\u001B[39;00m\n\u001B[0;32m   4331\u001B[0m \u001B[38;5;124;03m    Invoke function on values of Series.\u001B[39;00m\n\u001B[0;32m   4332\u001B[0m \n\u001B[1;32m   (...)\u001B[0m\n\u001B[0;32m   4431\u001B[0m \u001B[38;5;124;03m    dtype: float64\u001B[39;00m\n\u001B[0;32m   4432\u001B[0m \u001B[38;5;124;03m    \"\"\"\u001B[39;00m\n\u001B[1;32m-> 4433\u001B[0m     \u001B[38;5;28;01mreturn\u001B[39;00m \u001B[43mSeriesApply\u001B[49m\u001B[43m(\u001B[49m\u001B[38;5;28;43mself\u001B[39;49m\u001B[43m,\u001B[49m\u001B[43m \u001B[49m\u001B[43mfunc\u001B[49m\u001B[43m,\u001B[49m\u001B[43m \u001B[49m\u001B[43mconvert_dtype\u001B[49m\u001B[43m,\u001B[49m\u001B[43m \u001B[49m\u001B[43margs\u001B[49m\u001B[43m,\u001B[49m\u001B[43m \u001B[49m\u001B[43mkwargs\u001B[49m\u001B[43m)\u001B[49m\u001B[38;5;241;43m.\u001B[39;49m\u001B[43mapply\u001B[49m\u001B[43m(\u001B[49m\u001B[43m)\u001B[49m\n",
      "File \u001B[1;32mD:\\Data_racing_verseny\\env\\lib\\site-packages\\pandas\\core\\apply.py:1082\u001B[0m, in \u001B[0;36mSeriesApply.apply\u001B[1;34m(self)\u001B[0m\n\u001B[0;32m   1078\u001B[0m \u001B[38;5;28;01mif\u001B[39;00m \u001B[38;5;28misinstance\u001B[39m(\u001B[38;5;28mself\u001B[39m\u001B[38;5;241m.\u001B[39mf, \u001B[38;5;28mstr\u001B[39m):\n\u001B[0;32m   1079\u001B[0m     \u001B[38;5;66;03m# if we are a string, try to dispatch\u001B[39;00m\n\u001B[0;32m   1080\u001B[0m     \u001B[38;5;28;01mreturn\u001B[39;00m \u001B[38;5;28mself\u001B[39m\u001B[38;5;241m.\u001B[39mapply_str()\n\u001B[1;32m-> 1082\u001B[0m \u001B[38;5;28;01mreturn\u001B[39;00m \u001B[38;5;28;43mself\u001B[39;49m\u001B[38;5;241;43m.\u001B[39;49m\u001B[43mapply_standard\u001B[49m\u001B[43m(\u001B[49m\u001B[43m)\u001B[49m\n",
      "File \u001B[1;32mD:\\Data_racing_verseny\\env\\lib\\site-packages\\pandas\\core\\apply.py:1131\u001B[0m, in \u001B[0;36mSeriesApply.apply_standard\u001B[1;34m(self)\u001B[0m\n\u001B[0;32m   1129\u001B[0m     mapped \u001B[38;5;241m=\u001B[39m obj\u001B[38;5;241m.\u001B[39m_values\u001B[38;5;241m.\u001B[39mmap(f)\n\u001B[0;32m   1130\u001B[0m \u001B[38;5;28;01melse\u001B[39;00m:\n\u001B[1;32m-> 1131\u001B[0m     values \u001B[38;5;241m=\u001B[39m \u001B[43mobj\u001B[49m\u001B[38;5;241;43m.\u001B[39;49m\u001B[43mastype\u001B[49m\u001B[43m(\u001B[49m\u001B[38;5;28;43mobject\u001B[39;49m\u001B[43m)\u001B[49m\u001B[38;5;241m.\u001B[39m_values\n\u001B[0;32m   1132\u001B[0m     \u001B[38;5;66;03m# error: Argument 2 to \"map_infer\" has incompatible type\u001B[39;00m\n\u001B[0;32m   1133\u001B[0m     \u001B[38;5;66;03m# \"Union[Callable[..., Any], str, List[Union[Callable[..., Any], str]],\u001B[39;00m\n\u001B[0;32m   1134\u001B[0m     \u001B[38;5;66;03m# Dict[Hashable, Union[Union[Callable[..., Any], str],\u001B[39;00m\n\u001B[0;32m   1135\u001B[0m     \u001B[38;5;66;03m# List[Union[Callable[..., Any], str]]]]]\"; expected\u001B[39;00m\n\u001B[0;32m   1136\u001B[0m     \u001B[38;5;66;03m# \"Callable[[Any], Any]\"\u001B[39;00m\n\u001B[0;32m   1137\u001B[0m     mapped \u001B[38;5;241m=\u001B[39m lib\u001B[38;5;241m.\u001B[39mmap_infer(\n\u001B[0;32m   1138\u001B[0m         values,\n\u001B[0;32m   1139\u001B[0m         f,  \u001B[38;5;66;03m# type: ignore[arg-type]\u001B[39;00m\n\u001B[0;32m   1140\u001B[0m         convert\u001B[38;5;241m=\u001B[39m\u001B[38;5;28mself\u001B[39m\u001B[38;5;241m.\u001B[39mconvert_dtype,\n\u001B[0;32m   1141\u001B[0m     )\n",
      "File \u001B[1;32mD:\\Data_racing_verseny\\env\\lib\\site-packages\\pandas\\core\\generic.py:5912\u001B[0m, in \u001B[0;36mNDFrame.astype\u001B[1;34m(self, dtype, copy, errors)\u001B[0m\n\u001B[0;32m   5905\u001B[0m     results \u001B[38;5;241m=\u001B[39m [\n\u001B[0;32m   5906\u001B[0m         \u001B[38;5;28mself\u001B[39m\u001B[38;5;241m.\u001B[39miloc[:, i]\u001B[38;5;241m.\u001B[39mastype(dtype, copy\u001B[38;5;241m=\u001B[39mcopy)\n\u001B[0;32m   5907\u001B[0m         \u001B[38;5;28;01mfor\u001B[39;00m i \u001B[38;5;129;01min\u001B[39;00m \u001B[38;5;28mrange\u001B[39m(\u001B[38;5;28mlen\u001B[39m(\u001B[38;5;28mself\u001B[39m\u001B[38;5;241m.\u001B[39mcolumns))\n\u001B[0;32m   5908\u001B[0m     ]\n\u001B[0;32m   5910\u001B[0m \u001B[38;5;28;01melse\u001B[39;00m:\n\u001B[0;32m   5911\u001B[0m     \u001B[38;5;66;03m# else, only a single dtype is given\u001B[39;00m\n\u001B[1;32m-> 5912\u001B[0m     new_data \u001B[38;5;241m=\u001B[39m \u001B[38;5;28;43mself\u001B[39;49m\u001B[38;5;241;43m.\u001B[39;49m\u001B[43m_mgr\u001B[49m\u001B[38;5;241;43m.\u001B[39;49m\u001B[43mastype\u001B[49m\u001B[43m(\u001B[49m\u001B[43mdtype\u001B[49m\u001B[38;5;241;43m=\u001B[39;49m\u001B[43mdtype\u001B[49m\u001B[43m,\u001B[49m\u001B[43m \u001B[49m\u001B[43mcopy\u001B[49m\u001B[38;5;241;43m=\u001B[39;49m\u001B[43mcopy\u001B[49m\u001B[43m,\u001B[49m\u001B[43m \u001B[49m\u001B[43merrors\u001B[49m\u001B[38;5;241;43m=\u001B[39;49m\u001B[43merrors\u001B[49m\u001B[43m)\u001B[49m\n\u001B[0;32m   5913\u001B[0m     \u001B[38;5;28;01mreturn\u001B[39;00m \u001B[38;5;28mself\u001B[39m\u001B[38;5;241m.\u001B[39m_constructor(new_data)\u001B[38;5;241m.\u001B[39m__finalize__(\u001B[38;5;28mself\u001B[39m, method\u001B[38;5;241m=\u001B[39m\u001B[38;5;124m\"\u001B[39m\u001B[38;5;124mastype\u001B[39m\u001B[38;5;124m\"\u001B[39m)\n\u001B[0;32m   5915\u001B[0m \u001B[38;5;66;03m# GH 33113: handle empty frame or series\u001B[39;00m\n",
      "File \u001B[1;32mD:\\Data_racing_verseny\\env\\lib\\site-packages\\pandas\\core\\internals\\managers.py:419\u001B[0m, in \u001B[0;36mBaseBlockManager.astype\u001B[1;34m(self, dtype, copy, errors)\u001B[0m\n\u001B[0;32m    418\u001B[0m \u001B[38;5;28;01mdef\u001B[39;00m \u001B[38;5;21mastype\u001B[39m(\u001B[38;5;28mself\u001B[39m: T, dtype, copy: \u001B[38;5;28mbool\u001B[39m \u001B[38;5;241m=\u001B[39m \u001B[38;5;28;01mFalse\u001B[39;00m, errors: \u001B[38;5;28mstr\u001B[39m \u001B[38;5;241m=\u001B[39m \u001B[38;5;124m\"\u001B[39m\u001B[38;5;124mraise\u001B[39m\u001B[38;5;124m\"\u001B[39m) \u001B[38;5;241m-\u001B[39m\u001B[38;5;241m>\u001B[39m T:\n\u001B[1;32m--> 419\u001B[0m     \u001B[38;5;28;01mreturn\u001B[39;00m \u001B[38;5;28;43mself\u001B[39;49m\u001B[38;5;241;43m.\u001B[39;49m\u001B[43mapply\u001B[49m\u001B[43m(\u001B[49m\u001B[38;5;124;43m\"\u001B[39;49m\u001B[38;5;124;43mastype\u001B[39;49m\u001B[38;5;124;43m\"\u001B[39;49m\u001B[43m,\u001B[49m\u001B[43m \u001B[49m\u001B[43mdtype\u001B[49m\u001B[38;5;241;43m=\u001B[39;49m\u001B[43mdtype\u001B[49m\u001B[43m,\u001B[49m\u001B[43m \u001B[49m\u001B[43mcopy\u001B[49m\u001B[38;5;241;43m=\u001B[39;49m\u001B[43mcopy\u001B[49m\u001B[43m,\u001B[49m\u001B[43m \u001B[49m\u001B[43merrors\u001B[49m\u001B[38;5;241;43m=\u001B[39;49m\u001B[43merrors\u001B[49m\u001B[43m)\u001B[49m\n",
      "File \u001B[1;32mD:\\Data_racing_verseny\\env\\lib\\site-packages\\pandas\\core\\internals\\managers.py:304\u001B[0m, in \u001B[0;36mBaseBlockManager.apply\u001B[1;34m(self, f, align_keys, ignore_failures, **kwargs)\u001B[0m\n\u001B[0;32m    302\u001B[0m         applied \u001B[38;5;241m=\u001B[39m b\u001B[38;5;241m.\u001B[39mapply(f, \u001B[38;5;241m*\u001B[39m\u001B[38;5;241m*\u001B[39mkwargs)\n\u001B[0;32m    303\u001B[0m     \u001B[38;5;28;01melse\u001B[39;00m:\n\u001B[1;32m--> 304\u001B[0m         applied \u001B[38;5;241m=\u001B[39m \u001B[38;5;28mgetattr\u001B[39m(b, f)(\u001B[38;5;241m*\u001B[39m\u001B[38;5;241m*\u001B[39mkwargs)\n\u001B[0;32m    305\u001B[0m \u001B[38;5;28;01mexcept\u001B[39;00m (\u001B[38;5;167;01mTypeError\u001B[39;00m, \u001B[38;5;167;01mNotImplementedError\u001B[39;00m):\n\u001B[0;32m    306\u001B[0m     \u001B[38;5;28;01mif\u001B[39;00m \u001B[38;5;129;01mnot\u001B[39;00m ignore_failures:\n",
      "File \u001B[1;32mD:\\Data_racing_verseny\\env\\lib\\site-packages\\pandas\\core\\internals\\blocks.py:580\u001B[0m, in \u001B[0;36mBlock.astype\u001B[1;34m(self, dtype, copy, errors)\u001B[0m\n\u001B[0;32m    562\u001B[0m \u001B[38;5;124;03m\"\"\"\u001B[39;00m\n\u001B[0;32m    563\u001B[0m \u001B[38;5;124;03mCoerce to the new dtype.\u001B[39;00m\n\u001B[0;32m    564\u001B[0m \n\u001B[1;32m   (...)\u001B[0m\n\u001B[0;32m    576\u001B[0m \u001B[38;5;124;03mBlock\u001B[39;00m\n\u001B[0;32m    577\u001B[0m \u001B[38;5;124;03m\"\"\"\u001B[39;00m\n\u001B[0;32m    578\u001B[0m values \u001B[38;5;241m=\u001B[39m \u001B[38;5;28mself\u001B[39m\u001B[38;5;241m.\u001B[39mvalues\n\u001B[1;32m--> 580\u001B[0m new_values \u001B[38;5;241m=\u001B[39m \u001B[43mastype_array_safe\u001B[49m\u001B[43m(\u001B[49m\u001B[43mvalues\u001B[49m\u001B[43m,\u001B[49m\u001B[43m \u001B[49m\u001B[43mdtype\u001B[49m\u001B[43m,\u001B[49m\u001B[43m \u001B[49m\u001B[43mcopy\u001B[49m\u001B[38;5;241;43m=\u001B[39;49m\u001B[43mcopy\u001B[49m\u001B[43m,\u001B[49m\u001B[43m \u001B[49m\u001B[43merrors\u001B[49m\u001B[38;5;241;43m=\u001B[39;49m\u001B[43merrors\u001B[49m\u001B[43m)\u001B[49m\n\u001B[0;32m    582\u001B[0m new_values \u001B[38;5;241m=\u001B[39m maybe_coerce_values(new_values)\n\u001B[0;32m    583\u001B[0m newb \u001B[38;5;241m=\u001B[39m \u001B[38;5;28mself\u001B[39m\u001B[38;5;241m.\u001B[39mmake_block(new_values)\n",
      "File \u001B[1;32mD:\\Data_racing_verseny\\env\\lib\\site-packages\\pandas\\core\\dtypes\\cast.py:1292\u001B[0m, in \u001B[0;36mastype_array_safe\u001B[1;34m(values, dtype, copy, errors)\u001B[0m\n\u001B[0;32m   1289\u001B[0m     dtype \u001B[38;5;241m=\u001B[39m dtype\u001B[38;5;241m.\u001B[39mnumpy_dtype\n\u001B[0;32m   1291\u001B[0m \u001B[38;5;28;01mtry\u001B[39;00m:\n\u001B[1;32m-> 1292\u001B[0m     new_values \u001B[38;5;241m=\u001B[39m \u001B[43mastype_array\u001B[49m\u001B[43m(\u001B[49m\u001B[43mvalues\u001B[49m\u001B[43m,\u001B[49m\u001B[43m \u001B[49m\u001B[43mdtype\u001B[49m\u001B[43m,\u001B[49m\u001B[43m \u001B[49m\u001B[43mcopy\u001B[49m\u001B[38;5;241;43m=\u001B[39;49m\u001B[43mcopy\u001B[49m\u001B[43m)\u001B[49m\n\u001B[0;32m   1293\u001B[0m \u001B[38;5;28;01mexcept\u001B[39;00m (\u001B[38;5;167;01mValueError\u001B[39;00m, \u001B[38;5;167;01mTypeError\u001B[39;00m):\n\u001B[0;32m   1294\u001B[0m     \u001B[38;5;66;03m# e.g. astype_nansafe can fail on object-dtype of strings\u001B[39;00m\n\u001B[0;32m   1295\u001B[0m     \u001B[38;5;66;03m#  trying to convert to float\u001B[39;00m\n\u001B[0;32m   1296\u001B[0m     \u001B[38;5;28;01mif\u001B[39;00m errors \u001B[38;5;241m==\u001B[39m \u001B[38;5;124m\"\u001B[39m\u001B[38;5;124mignore\u001B[39m\u001B[38;5;124m\"\u001B[39m:\n",
      "File \u001B[1;32mD:\\Data_racing_verseny\\env\\lib\\site-packages\\pandas\\core\\dtypes\\cast.py:1229\u001B[0m, in \u001B[0;36mastype_array\u001B[1;34m(values, dtype, copy)\u001B[0m\n\u001B[0;32m   1227\u001B[0m \u001B[38;5;28;01mif\u001B[39;00m is_dtype_equal(values\u001B[38;5;241m.\u001B[39mdtype, dtype):\n\u001B[0;32m   1228\u001B[0m     \u001B[38;5;28;01mif\u001B[39;00m copy:\n\u001B[1;32m-> 1229\u001B[0m         \u001B[38;5;28;01mreturn\u001B[39;00m \u001B[43mvalues\u001B[49m\u001B[38;5;241;43m.\u001B[39;49m\u001B[43mcopy\u001B[49m\u001B[43m(\u001B[49m\u001B[43m)\u001B[49m\n\u001B[0;32m   1230\u001B[0m     \u001B[38;5;28;01mreturn\u001B[39;00m values\n\u001B[0;32m   1232\u001B[0m \u001B[38;5;28;01mif\u001B[39;00m \u001B[38;5;129;01mnot\u001B[39;00m \u001B[38;5;28misinstance\u001B[39m(values, np\u001B[38;5;241m.\u001B[39mndarray):\n\u001B[0;32m   1233\u001B[0m     \u001B[38;5;66;03m# i.e. ExtensionArray\u001B[39;00m\n",
      "\u001B[1;31mKeyboardInterrupt\u001B[0m: "
     ]
    }
   ],
   "source": [
    "from sklearn.inspection import permutation_importance\n",
    "\n",
    "perm_importance = permutation_importance(rf, x_test, y_test)\n",
    "sorted_idx = perm_importance.importances_mean.argsort()\n",
    "plt.barh(train_df.feature_names[sorted_idx], perm_importance.importances_mean[sorted_idx])\n",
    "plt.xlabel(\"Permutation Importance\")"
   ],
   "metadata": {
    "collapsed": false,
    "pycharm": {
     "name": "#%%\n"
    }
   }
  },
  {
   "cell_type": "markdown",
   "metadata": {
    "collapsed": false,
    "pycharm": {
     "name": "#%% md\n"
    }
   },
   "source": [
    "# Evaluate"
   ]
  },
  {
   "cell_type": "code",
   "execution_count": null,
   "metadata": {
    "collapsed": false,
    "pycharm": {
     "name": "#%%\n"
    }
   },
   "outputs": [],
   "source": [
    "from sklearn.metrics import mean_squared_error\n",
    "from sklearn.metrics import mean_absolute_error\n",
    "mse = mean_squared_error(predictions, y_test)\n",
    "mae = mean_absolute_error(predictions, y_test)\n",
    "print(f'mean squared error: {mse}')\n",
    "print(f'mean absolute error: {mae}')"
   ]
  }
 ],
 "metadata": {
  "interpreter": {
   "hash": "9d93de3655f7b77c56da7a470b810b980c79064ae9aa47bd8aa29bd9f8130ca2"
  },
  "kernelspec": {
   "display_name": "Python 3.9.12 ('data_race_venv')",
   "language": "python",
   "name": "python3"
  },
  "language_info": {
   "codemirror_mode": {
    "name": "ipython",
    "version": 3
   },
   "file_extension": ".py",
   "mimetype": "text/x-python",
   "name": "python",
   "nbconvert_exporter": "python",
   "pygments_lexer": "ipython3",
   "version": "3.9.12"
  },
  "orig_nbformat": 4
 },
 "nbformat": 4,
 "nbformat_minor": 2
}