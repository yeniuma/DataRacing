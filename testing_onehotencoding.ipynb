{
 "cells": [
  {
   "cell_type": "code",
   "execution_count": 18,
   "metadata": {
    "collapsed": true,
    "pycharm": {
     "name": "#%%\n"
    }
   },
   "outputs": [],
   "source": [
    "import pandas as pd\n",
    "from sklearn.preprocessing import OneHotEncoder\n",
    "dataset_path = './dataset'\n",
    "target_column = 'target_reg'\n",
    "\n",
    "df = pd.read_csv(f'{dataset_path}/train.csv')\n",
    "df = pd.DataFrame(df['MEGYE_2014'])"
   ]
  },
  {
   "cell_type": "code",
   "execution_count": 19,
   "outputs": [],
   "source": [
    "from sklearn.preprocessing import OneHotEncoder\n",
    "encoder = OneHotEncoder(handle_unknown='ignore')\n",
    "encoder_df = pd.DataFrame(encoder.fit_transform(df[['MEGYE_2014']]).toarray())"
   ],
   "metadata": {
    "collapsed": false,
    "pycharm": {
     "name": "#%%\n"
    }
   }
  },
  {
   "cell_type": "code",
   "execution_count": 20,
   "outputs": [
    {
     "name": "stdout",
     "output_type": "stream",
     "text": [
      "                   MEGYE_2014    0    1    2    3    4    5    6    7    8  \\\n",
      "0           Győr-Moson-Sopron  0.0  0.0  0.0  0.0  0.0  0.0  0.0  1.0  0.0   \n",
      "1                        Pest  0.0  0.0  0.0  0.0  0.0  0.0  0.0  0.0  0.0   \n",
      "2                       Fejér  0.0  0.0  0.0  0.0  0.0  0.0  1.0  0.0  0.0   \n",
      "3                 Hajdú-Bihar  0.0  0.0  0.0  0.0  0.0  0.0  0.0  0.0  1.0   \n",
      "4        Borsod-Abaúj-Zemplén  0.0  1.0  0.0  0.0  0.0  0.0  0.0  0.0  0.0   \n",
      "...                       ...  ...  ...  ...  ...  ...  ...  ...  ...  ...   \n",
      "33175                   Békés  0.0  0.0  0.0  0.0  1.0  0.0  0.0  0.0  0.0   \n",
      "33176    Jász-Nagykun-Szolnok  0.0  0.0  0.0  0.0  0.0  0.0  0.0  0.0  0.0   \n",
      "33177                Csongrád  0.0  0.0  0.0  0.0  0.0  1.0  0.0  0.0  0.0   \n",
      "33178  Szabolcs-Szatmár-Bereg  0.0  0.0  0.0  0.0  0.0  0.0  0.0  0.0  0.0   \n",
      "33179                Csongrád  0.0  0.0  0.0  0.0  0.0  1.0  0.0  0.0  0.0   \n",
      "\n",
      "       ...   10   11   12   13   14   15   16   17   18   19  \n",
      "0      ...  0.0  0.0  0.0  0.0  0.0  0.0  0.0  0.0  0.0  0.0  \n",
      "1      ...  0.0  0.0  0.0  1.0  0.0  0.0  0.0  0.0  0.0  0.0  \n",
      "2      ...  0.0  0.0  0.0  0.0  0.0  0.0  0.0  0.0  0.0  0.0  \n",
      "3      ...  0.0  0.0  0.0  0.0  0.0  0.0  0.0  0.0  0.0  0.0  \n",
      "4      ...  0.0  0.0  0.0  0.0  0.0  0.0  0.0  0.0  0.0  0.0  \n",
      "...    ...  ...  ...  ...  ...  ...  ...  ...  ...  ...  ...  \n",
      "33175  ...  0.0  0.0  0.0  0.0  0.0  0.0  0.0  0.0  0.0  0.0  \n",
      "33176  ...  1.0  0.0  0.0  0.0  0.0  0.0  0.0  0.0  0.0  0.0  \n",
      "33177  ...  0.0  0.0  0.0  0.0  0.0  0.0  0.0  0.0  0.0  0.0  \n",
      "33178  ...  0.0  0.0  0.0  0.0  0.0  1.0  0.0  0.0  0.0  0.0  \n",
      "33179  ...  0.0  0.0  0.0  0.0  0.0  0.0  0.0  0.0  0.0  0.0  \n",
      "\n",
      "[33180 rows x 21 columns]\n"
     ]
    }
   ],
   "source": [
    "df = pd.concat([df, encoder_df], axis='columns')\n",
    "print(df)"
   ],
   "metadata": {
    "collapsed": false,
    "pycharm": {
     "name": "#%%\n"
    }
   }
  },
  {
   "cell_type": "code",
   "execution_count": 21,
   "outputs": [
    {
     "name": "stdout",
     "output_type": "stream",
     "text": [
      "0\n"
     ]
    }
   ],
   "source": [
    "print(df.isna().sum().sum())"
   ],
   "metadata": {
    "collapsed": false,
    "pycharm": {
     "name": "#%%\n"
    }
   }
  }
 ],
 "metadata": {
  "kernelspec": {
   "display_name": "Python 3",
   "language": "python",
   "name": "python3"
  },
  "language_info": {
   "codemirror_mode": {
    "name": "ipython",
    "version": 2
   },
   "file_extension": ".py",
   "mimetype": "text/x-python",
   "name": "python",
   "nbconvert_exporter": "python",
   "pygments_lexer": "ipython2",
   "version": "2.7.6"
  }
 },
 "nbformat": 4,
 "nbformat_minor": 0
}