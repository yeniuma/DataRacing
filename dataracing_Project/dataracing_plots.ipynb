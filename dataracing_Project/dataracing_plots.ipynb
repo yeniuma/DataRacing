{
 "cells": [
  {
   "cell_type": "code",
   "execution_count": null,
   "metadata": {
    "collapsed": true,
    "pycharm": {
     "name": "#%%\n",
     "is_executing": true
    }
   },
   "outputs": [],
   "source": [
    "import plotly.express as px\n",
    "import pandas as pd"
   ]
  },
  {
   "cell_type": "markdown",
   "source": [
    "# Gaining deeper insights into the dataset"
   ],
   "metadata": {
    "collapsed": false,
    "pycharm": {
     "name": "#%% md\n"
    }
   }
  },
  {
   "cell_type": "code",
   "execution_count": 15,
   "outputs": [],
   "source": [
    "path = 'D:/Data_racing_verseny/data'\n",
    "data_df = pd.read_csv(f'{path}/train.csv')"
   ],
   "metadata": {
    "collapsed": false,
    "pycharm": {
     "name": "#%%\n"
    }
   }
  },
  {
   "cell_type": "markdown",
   "source": [
    "## Plotting mean yearly export revenue per county"
   ],
   "metadata": {
    "collapsed": false,
    "pycharm": {
     "name": "#%% md\n"
    }
   }
  },
  {
   "cell_type": "code",
   "execution_count": 68,
   "outputs": [],
   "source": [
    "plot_df_2014 = data_df[['arbevexp_2014', 'MEGYE_2014']].copy()\n",
    "plot_df_2014 = plot_df_2014.groupby('MEGYE_2014').mean().reset_index()\n",
    "plot_df_2015 = data_df[['arbevexp_2015', 'MEGYE_2015']].copy()\n",
    "plot_df_2015 = plot_df_2015.groupby('MEGYE_2015').mean().reset_index()\n",
    "plot_df_2016 = data_df[['arbevexp_2016', 'MEGYE_2016']].copy()\n",
    "plot_df_2016 = plot_df_2016.groupby('MEGYE_2016').mean().reset_index()\n",
    "target_df = data_df[['target_reg', 'MEGYE_2016']].copy()\n",
    "target_df = target_df.groupby('MEGYE_2016').mean().reset_index()\n",
    "\n",
    "merged_df = pd.concat([plot_df_2014,plot_df_2015,plot_df_2016,target_df], axis = 'columns')\n",
    "merged_df.drop(['MEGYE_2015', 'MEGYE_2016'], axis = 'columns', inplace = True)\n",
    "merged_df.rename(columns = {'MEGYE_2014': 'megye', 'target_reg' : '2017', 'arbevexp_2014' : '2014', 'arbevexp_2015' : '2015', 'arbevexp_2016' : '2016' }, inplace = True)"
   ],
   "metadata": {
    "collapsed": false,
    "pycharm": {
     "name": "#%%\n"
    }
   }
  },
  {
   "cell_type": "code",
   "execution_count": 69,
   "outputs": [
    {
     "name": "stdout",
     "output_type": "stream",
     "text": [
      "                     megye           2014           2015           2016  \\\n",
      "0                  Baranya  101203.822581   98816.284946   95664.282642   \n",
      "1     Borsod-Abaúj-Zemplén   76044.282799   81872.318513   86188.524052   \n",
      "2                 Budapest  257416.950825  274364.831649  290616.363505   \n",
      "3              Bács-Kiskun  185378.865753  196275.499726  210726.653699   \n",
      "4                    Békés  128624.842474  143003.627771  153871.320887   \n",
      "5                 Csongrád   74134.353858   74240.506677   67235.373887   \n",
      "6                    Fejér  135883.965854  184839.998374  180209.743902   \n",
      "7        Győr-Moson-Sopron  207603.412020  218171.147460  210440.154895   \n",
      "8              Hajdú-Bihar   68769.529451   63890.392236   62963.736278   \n",
      "9                    Heves   80177.716547   94030.951079  131011.823022   \n",
      "10    Jász-Nagykun-Szolnok  135451.069414  171060.936009  181623.208243   \n",
      "11       Komárom-Esztergom  288295.076229  298731.369107  299954.776329   \n",
      "12                  Nógrád  171097.463087  175296.275168  180065.332215   \n",
      "13                    Pest  273984.116095  317841.066923  328372.430799   \n",
      "14                  Somogy   44216.931034   46573.753316   51007.221485   \n",
      "15  Szabolcs-Szatmár-Bereg  106884.249141  109720.473368  118085.790378   \n",
      "16                   Tolna  135919.118859  148991.584786  213209.705230   \n",
      "17                     Vas  309637.038071  349361.335025  346138.364213   \n",
      "18                Veszprém  174070.083717  187612.665133  190639.419503   \n",
      "19                    Zala   60052.839228   67422.658092   69551.154341   \n",
      "\n",
      "             2017  \n",
      "0   109384.513057  \n",
      "1    93775.767493  \n",
      "2   318002.599794  \n",
      "3   232108.071233  \n",
      "4   161818.198366  \n",
      "5    80279.225519  \n",
      "6   190266.727642  \n",
      "7   243520.794300  \n",
      "8    72487.091031  \n",
      "9   122947.090647  \n",
      "10  208206.419740  \n",
      "11  315658.589769  \n",
      "12  173075.966443  \n",
      "13  379023.988726  \n",
      "14   50920.793103  \n",
      "15  137533.536942  \n",
      "16  210636.518225  \n",
      "17  371648.852792  \n",
      "18  216950.961362  \n",
      "19   70391.921758  \n"
     ]
    }
   ],
   "source": [
    "print(merged_df)"
   ],
   "metadata": {
    "collapsed": false,
    "pycharm": {
     "name": "#%%\n"
    }
   }
  },
  {
   "cell_type": "code",
   "execution_count": 71,
   "outputs": [
    {
     "data": {
      "application/vnd.plotly.v1+json": {
       "data": [
        {
         "hovertemplate": "Év=2014<br>Megye=%{x}<br>Export bevétel=%{y}<extra></extra>",
         "legendgroup": "2014",
         "marker": {
          "color": "#636efa",
          "symbol": "circle"
         },
         "mode": "markers",
         "name": "2014",
         "orientation": "v",
         "showlegend": true,
         "x": [
          "Baranya",
          "Borsod-Abaúj-Zemplén",
          "Budapest",
          "Bács-Kiskun",
          "Békés",
          "Csongrád",
          "Fejér",
          "Győr-Moson-Sopron",
          "Hajdú-Bihar",
          "Heves",
          "Jász-Nagykun-Szolnok",
          "Komárom-Esztergom",
          "Nógrád",
          "Pest",
          "Somogy",
          "Szabolcs-Szatmár-Bereg",
          "Tolna",
          "Vas",
          "Veszprém",
          "Zala"
         ],
         "xaxis": "x",
         "y": [
          101203.82258064517,
          76044.28279883382,
          257416.95082474226,
          185378.86575342464,
          128624.84247374562,
          74134.35385756676,
          135883.96585365853,
          207603.41201982653,
          68769.52945113789,
          80177.71654676259,
          135451.0694143167,
          288295.0762286861,
          171097.46308724832,
          273984.1160949868,
          44216.93103448276,
          106884.24914089347,
          135919.11885895405,
          309637.03807106597,
          174070.08371665134,
          60052.83922829582
         ],
         "yaxis": "y",
         "type": "scatter"
        },
        {
         "hovertemplate": "Év=2015<br>Megye=%{x}<br>Export bevétel=%{y}<extra></extra>",
         "legendgroup": "2015",
         "marker": {
          "color": "#EF553B",
          "symbol": "circle"
         },
         "mode": "markers",
         "name": "2015",
         "orientation": "v",
         "showlegend": true,
         "x": [
          "Baranya",
          "Borsod-Abaúj-Zemplén",
          "Budapest",
          "Bács-Kiskun",
          "Békés",
          "Csongrád",
          "Fejér",
          "Győr-Moson-Sopron",
          "Hajdú-Bihar",
          "Heves",
          "Jász-Nagykun-Szolnok",
          "Komárom-Esztergom",
          "Nógrád",
          "Pest",
          "Somogy",
          "Szabolcs-Szatmár-Bereg",
          "Tolna",
          "Vas",
          "Veszprém",
          "Zala"
         ],
         "xaxis": "x",
         "y": [
          98816.28494623656,
          81872.31851311954,
          274364.8316494845,
          196275.4997260274,
          143003.62777129523,
          74240.50667655787,
          184839.99837398375,
          218171.1474597274,
          63890.392235609106,
          94030.95107913669,
          171060.9360086768,
          298731.36910732195,
          175296.27516778524,
          317841.0669225234,
          46573.75331564987,
          109720.47336769759,
          148991.5847860539,
          349361.3350253807,
          187612.66513339465,
          67422.65809217577
         ],
         "yaxis": "y",
         "type": "scatter"
        },
        {
         "hovertemplate": "Év=2016<br>Megye=%{x}<br>Export bevétel=%{y}<extra></extra>",
         "legendgroup": "2016",
         "marker": {
          "color": "#00cc96",
          "symbol": "circle"
         },
         "mode": "markers",
         "name": "2016",
         "orientation": "v",
         "showlegend": true,
         "x": [
          "Baranya",
          "Borsod-Abaúj-Zemplén",
          "Budapest",
          "Bács-Kiskun",
          "Békés",
          "Csongrád",
          "Fejér",
          "Győr-Moson-Sopron",
          "Hajdú-Bihar",
          "Heves",
          "Jász-Nagykun-Szolnok",
          "Komárom-Esztergom",
          "Nógrád",
          "Pest",
          "Somogy",
          "Szabolcs-Szatmár-Bereg",
          "Tolna",
          "Vas",
          "Veszprém",
          "Zala"
         ],
         "xaxis": "x",
         "y": [
          95664.28264208909,
          86188.52405247814,
          290616.3635051546,
          210726.65369863014,
          153871.32088681447,
          67235.37388724036,
          180209.74390243902,
          210440.15489467164,
          62963.73627844712,
          131011.82302158274,
          181623.20824295012,
          299954.776328987,
          180065.3322147651,
          328372.4307987527,
          51007.22148541114,
          118085.79037800687,
          213209.70522979397,
          346138.36421319796,
          190639.41950321986,
          69551.15434083602
         ],
         "yaxis": "y",
         "type": "scatter"
        },
        {
         "hovertemplate": "Év=2017<br>Megye=%{x}<br>Export bevétel=%{y}<extra></extra>",
         "legendgroup": "2017",
         "marker": {
          "color": "#ab63fa",
          "symbol": "circle"
         },
         "mode": "markers",
         "name": "2017",
         "orientation": "v",
         "showlegend": true,
         "x": [
          "Baranya",
          "Borsod-Abaúj-Zemplén",
          "Budapest",
          "Bács-Kiskun",
          "Békés",
          "Csongrád",
          "Fejér",
          "Győr-Moson-Sopron",
          "Hajdú-Bihar",
          "Heves",
          "Jász-Nagykun-Szolnok",
          "Komárom-Esztergom",
          "Nógrád",
          "Pest",
          "Somogy",
          "Szabolcs-Szatmár-Bereg",
          "Tolna",
          "Vas",
          "Veszprém",
          "Zala"
         ],
         "xaxis": "x",
         "y": [
          109384.51305683564,
          93775.76749271137,
          318002.5997938144,
          232108.0712328767,
          161818.1983663944,
          80279.22551928784,
          190266.7276422764,
          243520.79429987608,
          72487.09103078983,
          122947.09064748201,
          208206.4197396963,
          315658.58976930793,
          173075.966442953,
          379023.9887263133,
          50920.793103448275,
          137533.53694158077,
          210636.51822503962,
          371648.85279187816,
          216950.96136154555,
          70391.92175777063
         ],
         "yaxis": "y",
         "type": "scatter"
        }
       ],
       "layout": {
        "template": {
         "data": {
          "histogram2dcontour": [
           {
            "type": "histogram2dcontour",
            "colorbar": {
             "outlinewidth": 0,
             "ticks": ""
            },
            "colorscale": [
             [
              0.0,
              "#0d0887"
             ],
             [
              0.1111111111111111,
              "#46039f"
             ],
             [
              0.2222222222222222,
              "#7201a8"
             ],
             [
              0.3333333333333333,
              "#9c179e"
             ],
             [
              0.4444444444444444,
              "#bd3786"
             ],
             [
              0.5555555555555556,
              "#d8576b"
             ],
             [
              0.6666666666666666,
              "#ed7953"
             ],
             [
              0.7777777777777778,
              "#fb9f3a"
             ],
             [
              0.8888888888888888,
              "#fdca26"
             ],
             [
              1.0,
              "#f0f921"
             ]
            ]
           }
          ],
          "choropleth": [
           {
            "type": "choropleth",
            "colorbar": {
             "outlinewidth": 0,
             "ticks": ""
            }
           }
          ],
          "histogram2d": [
           {
            "type": "histogram2d",
            "colorbar": {
             "outlinewidth": 0,
             "ticks": ""
            },
            "colorscale": [
             [
              0.0,
              "#0d0887"
             ],
             [
              0.1111111111111111,
              "#46039f"
             ],
             [
              0.2222222222222222,
              "#7201a8"
             ],
             [
              0.3333333333333333,
              "#9c179e"
             ],
             [
              0.4444444444444444,
              "#bd3786"
             ],
             [
              0.5555555555555556,
              "#d8576b"
             ],
             [
              0.6666666666666666,
              "#ed7953"
             ],
             [
              0.7777777777777778,
              "#fb9f3a"
             ],
             [
              0.8888888888888888,
              "#fdca26"
             ],
             [
              1.0,
              "#f0f921"
             ]
            ]
           }
          ],
          "heatmap": [
           {
            "type": "heatmap",
            "colorbar": {
             "outlinewidth": 0,
             "ticks": ""
            },
            "colorscale": [
             [
              0.0,
              "#0d0887"
             ],
             [
              0.1111111111111111,
              "#46039f"
             ],
             [
              0.2222222222222222,
              "#7201a8"
             ],
             [
              0.3333333333333333,
              "#9c179e"
             ],
             [
              0.4444444444444444,
              "#bd3786"
             ],
             [
              0.5555555555555556,
              "#d8576b"
             ],
             [
              0.6666666666666666,
              "#ed7953"
             ],
             [
              0.7777777777777778,
              "#fb9f3a"
             ],
             [
              0.8888888888888888,
              "#fdca26"
             ],
             [
              1.0,
              "#f0f921"
             ]
            ]
           }
          ],
          "heatmapgl": [
           {
            "type": "heatmapgl",
            "colorbar": {
             "outlinewidth": 0,
             "ticks": ""
            },
            "colorscale": [
             [
              0.0,
              "#0d0887"
             ],
             [
              0.1111111111111111,
              "#46039f"
             ],
             [
              0.2222222222222222,
              "#7201a8"
             ],
             [
              0.3333333333333333,
              "#9c179e"
             ],
             [
              0.4444444444444444,
              "#bd3786"
             ],
             [
              0.5555555555555556,
              "#d8576b"
             ],
             [
              0.6666666666666666,
              "#ed7953"
             ],
             [
              0.7777777777777778,
              "#fb9f3a"
             ],
             [
              0.8888888888888888,
              "#fdca26"
             ],
             [
              1.0,
              "#f0f921"
             ]
            ]
           }
          ],
          "contourcarpet": [
           {
            "type": "contourcarpet",
            "colorbar": {
             "outlinewidth": 0,
             "ticks": ""
            }
           }
          ],
          "contour": [
           {
            "type": "contour",
            "colorbar": {
             "outlinewidth": 0,
             "ticks": ""
            },
            "colorscale": [
             [
              0.0,
              "#0d0887"
             ],
             [
              0.1111111111111111,
              "#46039f"
             ],
             [
              0.2222222222222222,
              "#7201a8"
             ],
             [
              0.3333333333333333,
              "#9c179e"
             ],
             [
              0.4444444444444444,
              "#bd3786"
             ],
             [
              0.5555555555555556,
              "#d8576b"
             ],
             [
              0.6666666666666666,
              "#ed7953"
             ],
             [
              0.7777777777777778,
              "#fb9f3a"
             ],
             [
              0.8888888888888888,
              "#fdca26"
             ],
             [
              1.0,
              "#f0f921"
             ]
            ]
           }
          ],
          "surface": [
           {
            "type": "surface",
            "colorbar": {
             "outlinewidth": 0,
             "ticks": ""
            },
            "colorscale": [
             [
              0.0,
              "#0d0887"
             ],
             [
              0.1111111111111111,
              "#46039f"
             ],
             [
              0.2222222222222222,
              "#7201a8"
             ],
             [
              0.3333333333333333,
              "#9c179e"
             ],
             [
              0.4444444444444444,
              "#bd3786"
             ],
             [
              0.5555555555555556,
              "#d8576b"
             ],
             [
              0.6666666666666666,
              "#ed7953"
             ],
             [
              0.7777777777777778,
              "#fb9f3a"
             ],
             [
              0.8888888888888888,
              "#fdca26"
             ],
             [
              1.0,
              "#f0f921"
             ]
            ]
           }
          ],
          "mesh3d": [
           {
            "type": "mesh3d",
            "colorbar": {
             "outlinewidth": 0,
             "ticks": ""
            }
           }
          ],
          "scatter": [
           {
            "marker": {
             "line": {
              "color": "#283442"
             }
            },
            "type": "scatter"
           }
          ],
          "parcoords": [
           {
            "type": "parcoords",
            "line": {
             "colorbar": {
              "outlinewidth": 0,
              "ticks": ""
             }
            }
           }
          ],
          "scatterpolargl": [
           {
            "type": "scatterpolargl",
            "marker": {
             "colorbar": {
              "outlinewidth": 0,
              "ticks": ""
             }
            }
           }
          ],
          "bar": [
           {
            "error_x": {
             "color": "#f2f5fa"
            },
            "error_y": {
             "color": "#f2f5fa"
            },
            "marker": {
             "line": {
              "color": "rgb(17,17,17)",
              "width": 0.5
             },
             "pattern": {
              "fillmode": "overlay",
              "size": 10,
              "solidity": 0.2
             }
            },
            "type": "bar"
           }
          ],
          "scattergeo": [
           {
            "type": "scattergeo",
            "marker": {
             "colorbar": {
              "outlinewidth": 0,
              "ticks": ""
             }
            }
           }
          ],
          "scatterpolar": [
           {
            "type": "scatterpolar",
            "marker": {
             "colorbar": {
              "outlinewidth": 0,
              "ticks": ""
             }
            }
           }
          ],
          "histogram": [
           {
            "marker": {
             "pattern": {
              "fillmode": "overlay",
              "size": 10,
              "solidity": 0.2
             }
            },
            "type": "histogram"
           }
          ],
          "scattergl": [
           {
            "marker": {
             "line": {
              "color": "#283442"
             }
            },
            "type": "scattergl"
           }
          ],
          "scatter3d": [
           {
            "type": "scatter3d",
            "line": {
             "colorbar": {
              "outlinewidth": 0,
              "ticks": ""
             }
            },
            "marker": {
             "colorbar": {
              "outlinewidth": 0,
              "ticks": ""
             }
            }
           }
          ],
          "scattermapbox": [
           {
            "type": "scattermapbox",
            "marker": {
             "colorbar": {
              "outlinewidth": 0,
              "ticks": ""
             }
            }
           }
          ],
          "scatterternary": [
           {
            "type": "scatterternary",
            "marker": {
             "colorbar": {
              "outlinewidth": 0,
              "ticks": ""
             }
            }
           }
          ],
          "scattercarpet": [
           {
            "type": "scattercarpet",
            "marker": {
             "colorbar": {
              "outlinewidth": 0,
              "ticks": ""
             }
            }
           }
          ],
          "carpet": [
           {
            "aaxis": {
             "endlinecolor": "#A2B1C6",
             "gridcolor": "#506784",
             "linecolor": "#506784",
             "minorgridcolor": "#506784",
             "startlinecolor": "#A2B1C6"
            },
            "baxis": {
             "endlinecolor": "#A2B1C6",
             "gridcolor": "#506784",
             "linecolor": "#506784",
             "minorgridcolor": "#506784",
             "startlinecolor": "#A2B1C6"
            },
            "type": "carpet"
           }
          ],
          "table": [
           {
            "cells": {
             "fill": {
              "color": "#506784"
             },
             "line": {
              "color": "rgb(17,17,17)"
             }
            },
            "header": {
             "fill": {
              "color": "#2a3f5f"
             },
             "line": {
              "color": "rgb(17,17,17)"
             }
            },
            "type": "table"
           }
          ],
          "barpolar": [
           {
            "marker": {
             "line": {
              "color": "rgb(17,17,17)",
              "width": 0.5
             },
             "pattern": {
              "fillmode": "overlay",
              "size": 10,
              "solidity": 0.2
             }
            },
            "type": "barpolar"
           }
          ],
          "pie": [
           {
            "automargin": true,
            "type": "pie"
           }
          ]
         },
         "layout": {
          "autotypenumbers": "strict",
          "colorway": [
           "#636efa",
           "#EF553B",
           "#00cc96",
           "#ab63fa",
           "#FFA15A",
           "#19d3f3",
           "#FF6692",
           "#B6E880",
           "#FF97FF",
           "#FECB52"
          ],
          "font": {
           "color": "#f2f5fa"
          },
          "hovermode": "closest",
          "hoverlabel": {
           "align": "left"
          },
          "paper_bgcolor": "rgb(17,17,17)",
          "plot_bgcolor": "rgb(17,17,17)",
          "polar": {
           "bgcolor": "rgb(17,17,17)",
           "angularaxis": {
            "gridcolor": "#506784",
            "linecolor": "#506784",
            "ticks": ""
           },
           "radialaxis": {
            "gridcolor": "#506784",
            "linecolor": "#506784",
            "ticks": ""
           }
          },
          "ternary": {
           "bgcolor": "rgb(17,17,17)",
           "aaxis": {
            "gridcolor": "#506784",
            "linecolor": "#506784",
            "ticks": ""
           },
           "baxis": {
            "gridcolor": "#506784",
            "linecolor": "#506784",
            "ticks": ""
           },
           "caxis": {
            "gridcolor": "#506784",
            "linecolor": "#506784",
            "ticks": ""
           }
          },
          "coloraxis": {
           "colorbar": {
            "outlinewidth": 0,
            "ticks": ""
           }
          },
          "colorscale": {
           "sequential": [
            [
             0.0,
             "#0d0887"
            ],
            [
             0.1111111111111111,
             "#46039f"
            ],
            [
             0.2222222222222222,
             "#7201a8"
            ],
            [
             0.3333333333333333,
             "#9c179e"
            ],
            [
             0.4444444444444444,
             "#bd3786"
            ],
            [
             0.5555555555555556,
             "#d8576b"
            ],
            [
             0.6666666666666666,
             "#ed7953"
            ],
            [
             0.7777777777777778,
             "#fb9f3a"
            ],
            [
             0.8888888888888888,
             "#fdca26"
            ],
            [
             1.0,
             "#f0f921"
            ]
           ],
           "sequentialminus": [
            [
             0.0,
             "#0d0887"
            ],
            [
             0.1111111111111111,
             "#46039f"
            ],
            [
             0.2222222222222222,
             "#7201a8"
            ],
            [
             0.3333333333333333,
             "#9c179e"
            ],
            [
             0.4444444444444444,
             "#bd3786"
            ],
            [
             0.5555555555555556,
             "#d8576b"
            ],
            [
             0.6666666666666666,
             "#ed7953"
            ],
            [
             0.7777777777777778,
             "#fb9f3a"
            ],
            [
             0.8888888888888888,
             "#fdca26"
            ],
            [
             1.0,
             "#f0f921"
            ]
           ],
           "diverging": [
            [
             0,
             "#8e0152"
            ],
            [
             0.1,
             "#c51b7d"
            ],
            [
             0.2,
             "#de77ae"
            ],
            [
             0.3,
             "#f1b6da"
            ],
            [
             0.4,
             "#fde0ef"
            ],
            [
             0.5,
             "#f7f7f7"
            ],
            [
             0.6,
             "#e6f5d0"
            ],
            [
             0.7,
             "#b8e186"
            ],
            [
             0.8,
             "#7fbc41"
            ],
            [
             0.9,
             "#4d9221"
            ],
            [
             1,
             "#276419"
            ]
           ]
          },
          "xaxis": {
           "gridcolor": "#283442",
           "linecolor": "#506784",
           "ticks": "",
           "title": {
            "standoff": 15
           },
           "zerolinecolor": "#283442",
           "automargin": true,
           "zerolinewidth": 2
          },
          "yaxis": {
           "gridcolor": "#283442",
           "linecolor": "#506784",
           "ticks": "",
           "title": {
            "standoff": 15
           },
           "zerolinecolor": "#283442",
           "automargin": true,
           "zerolinewidth": 2
          },
          "scene": {
           "xaxis": {
            "backgroundcolor": "rgb(17,17,17)",
            "gridcolor": "#506784",
            "linecolor": "#506784",
            "showbackground": true,
            "ticks": "",
            "zerolinecolor": "#C8D4E3",
            "gridwidth": 2
           },
           "yaxis": {
            "backgroundcolor": "rgb(17,17,17)",
            "gridcolor": "#506784",
            "linecolor": "#506784",
            "showbackground": true,
            "ticks": "",
            "zerolinecolor": "#C8D4E3",
            "gridwidth": 2
           },
           "zaxis": {
            "backgroundcolor": "rgb(17,17,17)",
            "gridcolor": "#506784",
            "linecolor": "#506784",
            "showbackground": true,
            "ticks": "",
            "zerolinecolor": "#C8D4E3",
            "gridwidth": 2
           }
          },
          "shapedefaults": {
           "line": {
            "color": "#f2f5fa"
           }
          },
          "annotationdefaults": {
           "arrowcolor": "#f2f5fa",
           "arrowhead": 0,
           "arrowwidth": 1
          },
          "geo": {
           "bgcolor": "rgb(17,17,17)",
           "landcolor": "rgb(17,17,17)",
           "subunitcolor": "#506784",
           "showland": true,
           "showlakes": true,
           "lakecolor": "rgb(17,17,17)"
          },
          "title": {
           "x": 0.05
          },
          "updatemenudefaults": {
           "bgcolor": "#506784",
           "borderwidth": 0
          },
          "sliderdefaults": {
           "bgcolor": "#C8D4E3",
           "borderwidth": 1,
           "bordercolor": "rgb(17,17,17)",
           "tickwidth": 0
          },
          "mapbox": {
           "style": "dark"
          }
         }
        },
        "xaxis": {
         "anchor": "y",
         "domain": [
          0.0,
          1.0
         ],
         "title": {
          "text": "Megye"
         }
        },
        "yaxis": {
         "anchor": "x",
         "domain": [
          0.0,
          1.0
         ],
         "title": {
          "text": "Export bevétel"
         }
        },
        "legend": {
         "title": {
          "text": "Év"
         },
         "tracegroupgap": 0
        },
        "margin": {
         "t": 60
        }
       },
       "config": {
        "plotlyServerURL": "https://plot.ly"
       }
      },
      "text/html": "<div>                            <div id=\"5d624589-2ca1-40f9-bc62-d3781e30bbda\" class=\"plotly-graph-div\" style=\"height:525px; width:100%;\"></div>            <script type=\"text/javascript\">                require([\"plotly\"], function(Plotly) {                    window.PLOTLYENV=window.PLOTLYENV || {};                                    if (document.getElementById(\"5d624589-2ca1-40f9-bc62-d3781e30bbda\")) {                    Plotly.newPlot(                        \"5d624589-2ca1-40f9-bc62-d3781e30bbda\",                        [{\"hovertemplate\":\"\\u00c9v=2014<br>Megye=%{x}<br>Export bev\\u00e9tel=%{y}<extra></extra>\",\"legendgroup\":\"2014\",\"marker\":{\"color\":\"#636efa\",\"symbol\":\"circle\"},\"mode\":\"markers\",\"name\":\"2014\",\"orientation\":\"v\",\"showlegend\":true,\"x\":[\"Baranya\",\"Borsod-Aba\\u00faj-Zempl\\u00e9n\",\"Budapest\",\"B\\u00e1cs-Kiskun\",\"B\\u00e9k\\u00e9s\",\"Csongr\\u00e1d\",\"Fej\\u00e9r\",\"Gy\\u0151r-Moson-Sopron\",\"Hajd\\u00fa-Bihar\",\"Heves\",\"J\\u00e1sz-Nagykun-Szolnok\",\"Kom\\u00e1rom-Esztergom\",\"N\\u00f3gr\\u00e1d\",\"Pest\",\"Somogy\",\"Szabolcs-Szatm\\u00e1r-Bereg\",\"Tolna\",\"Vas\",\"Veszpr\\u00e9m\",\"Zala\"],\"xaxis\":\"x\",\"y\":[101203.82258064517,76044.28279883382,257416.95082474226,185378.86575342464,128624.84247374562,74134.35385756676,135883.96585365853,207603.41201982653,68769.52945113789,80177.71654676259,135451.0694143167,288295.0762286861,171097.46308724832,273984.1160949868,44216.93103448276,106884.24914089347,135919.11885895405,309637.03807106597,174070.08371665134,60052.83922829582],\"yaxis\":\"y\",\"type\":\"scatter\"},{\"hovertemplate\":\"\\u00c9v=2015<br>Megye=%{x}<br>Export bev\\u00e9tel=%{y}<extra></extra>\",\"legendgroup\":\"2015\",\"marker\":{\"color\":\"#EF553B\",\"symbol\":\"circle\"},\"mode\":\"markers\",\"name\":\"2015\",\"orientation\":\"v\",\"showlegend\":true,\"x\":[\"Baranya\",\"Borsod-Aba\\u00faj-Zempl\\u00e9n\",\"Budapest\",\"B\\u00e1cs-Kiskun\",\"B\\u00e9k\\u00e9s\",\"Csongr\\u00e1d\",\"Fej\\u00e9r\",\"Gy\\u0151r-Moson-Sopron\",\"Hajd\\u00fa-Bihar\",\"Heves\",\"J\\u00e1sz-Nagykun-Szolnok\",\"Kom\\u00e1rom-Esztergom\",\"N\\u00f3gr\\u00e1d\",\"Pest\",\"Somogy\",\"Szabolcs-Szatm\\u00e1r-Bereg\",\"Tolna\",\"Vas\",\"Veszpr\\u00e9m\",\"Zala\"],\"xaxis\":\"x\",\"y\":[98816.28494623656,81872.31851311954,274364.8316494845,196275.4997260274,143003.62777129523,74240.50667655787,184839.99837398375,218171.1474597274,63890.392235609106,94030.95107913669,171060.9360086768,298731.36910732195,175296.27516778524,317841.0669225234,46573.75331564987,109720.47336769759,148991.5847860539,349361.3350253807,187612.66513339465,67422.65809217577],\"yaxis\":\"y\",\"type\":\"scatter\"},{\"hovertemplate\":\"\\u00c9v=2016<br>Megye=%{x}<br>Export bev\\u00e9tel=%{y}<extra></extra>\",\"legendgroup\":\"2016\",\"marker\":{\"color\":\"#00cc96\",\"symbol\":\"circle\"},\"mode\":\"markers\",\"name\":\"2016\",\"orientation\":\"v\",\"showlegend\":true,\"x\":[\"Baranya\",\"Borsod-Aba\\u00faj-Zempl\\u00e9n\",\"Budapest\",\"B\\u00e1cs-Kiskun\",\"B\\u00e9k\\u00e9s\",\"Csongr\\u00e1d\",\"Fej\\u00e9r\",\"Gy\\u0151r-Moson-Sopron\",\"Hajd\\u00fa-Bihar\",\"Heves\",\"J\\u00e1sz-Nagykun-Szolnok\",\"Kom\\u00e1rom-Esztergom\",\"N\\u00f3gr\\u00e1d\",\"Pest\",\"Somogy\",\"Szabolcs-Szatm\\u00e1r-Bereg\",\"Tolna\",\"Vas\",\"Veszpr\\u00e9m\",\"Zala\"],\"xaxis\":\"x\",\"y\":[95664.28264208909,86188.52405247814,290616.3635051546,210726.65369863014,153871.32088681447,67235.37388724036,180209.74390243902,210440.15489467164,62963.73627844712,131011.82302158274,181623.20824295012,299954.776328987,180065.3322147651,328372.4307987527,51007.22148541114,118085.79037800687,213209.70522979397,346138.36421319796,190639.41950321986,69551.15434083602],\"yaxis\":\"y\",\"type\":\"scatter\"},{\"hovertemplate\":\"\\u00c9v=2017<br>Megye=%{x}<br>Export bev\\u00e9tel=%{y}<extra></extra>\",\"legendgroup\":\"2017\",\"marker\":{\"color\":\"#ab63fa\",\"symbol\":\"circle\"},\"mode\":\"markers\",\"name\":\"2017\",\"orientation\":\"v\",\"showlegend\":true,\"x\":[\"Baranya\",\"Borsod-Aba\\u00faj-Zempl\\u00e9n\",\"Budapest\",\"B\\u00e1cs-Kiskun\",\"B\\u00e9k\\u00e9s\",\"Csongr\\u00e1d\",\"Fej\\u00e9r\",\"Gy\\u0151r-Moson-Sopron\",\"Hajd\\u00fa-Bihar\",\"Heves\",\"J\\u00e1sz-Nagykun-Szolnok\",\"Kom\\u00e1rom-Esztergom\",\"N\\u00f3gr\\u00e1d\",\"Pest\",\"Somogy\",\"Szabolcs-Szatm\\u00e1r-Bereg\",\"Tolna\",\"Vas\",\"Veszpr\\u00e9m\",\"Zala\"],\"xaxis\":\"x\",\"y\":[109384.51305683564,93775.76749271137,318002.5997938144,232108.0712328767,161818.1983663944,80279.22551928784,190266.7276422764,243520.79429987608,72487.09103078983,122947.09064748201,208206.4197396963,315658.58976930793,173075.966442953,379023.9887263133,50920.793103448275,137533.53694158077,210636.51822503962,371648.85279187816,216950.96136154555,70391.92175777063],\"yaxis\":\"y\",\"type\":\"scatter\"}],                        {\"template\":{\"data\":{\"histogram2dcontour\":[{\"type\":\"histogram2dcontour\",\"colorbar\":{\"outlinewidth\":0,\"ticks\":\"\"},\"colorscale\":[[0.0,\"#0d0887\"],[0.1111111111111111,\"#46039f\"],[0.2222222222222222,\"#7201a8\"],[0.3333333333333333,\"#9c179e\"],[0.4444444444444444,\"#bd3786\"],[0.5555555555555556,\"#d8576b\"],[0.6666666666666666,\"#ed7953\"],[0.7777777777777778,\"#fb9f3a\"],[0.8888888888888888,\"#fdca26\"],[1.0,\"#f0f921\"]]}],\"choropleth\":[{\"type\":\"choropleth\",\"colorbar\":{\"outlinewidth\":0,\"ticks\":\"\"}}],\"histogram2d\":[{\"type\":\"histogram2d\",\"colorbar\":{\"outlinewidth\":0,\"ticks\":\"\"},\"colorscale\":[[0.0,\"#0d0887\"],[0.1111111111111111,\"#46039f\"],[0.2222222222222222,\"#7201a8\"],[0.3333333333333333,\"#9c179e\"],[0.4444444444444444,\"#bd3786\"],[0.5555555555555556,\"#d8576b\"],[0.6666666666666666,\"#ed7953\"],[0.7777777777777778,\"#fb9f3a\"],[0.8888888888888888,\"#fdca26\"],[1.0,\"#f0f921\"]]}],\"heatmap\":[{\"type\":\"heatmap\",\"colorbar\":{\"outlinewidth\":0,\"ticks\":\"\"},\"colorscale\":[[0.0,\"#0d0887\"],[0.1111111111111111,\"#46039f\"],[0.2222222222222222,\"#7201a8\"],[0.3333333333333333,\"#9c179e\"],[0.4444444444444444,\"#bd3786\"],[0.5555555555555556,\"#d8576b\"],[0.6666666666666666,\"#ed7953\"],[0.7777777777777778,\"#fb9f3a\"],[0.8888888888888888,\"#fdca26\"],[1.0,\"#f0f921\"]]}],\"heatmapgl\":[{\"type\":\"heatmapgl\",\"colorbar\":{\"outlinewidth\":0,\"ticks\":\"\"},\"colorscale\":[[0.0,\"#0d0887\"],[0.1111111111111111,\"#46039f\"],[0.2222222222222222,\"#7201a8\"],[0.3333333333333333,\"#9c179e\"],[0.4444444444444444,\"#bd3786\"],[0.5555555555555556,\"#d8576b\"],[0.6666666666666666,\"#ed7953\"],[0.7777777777777778,\"#fb9f3a\"],[0.8888888888888888,\"#fdca26\"],[1.0,\"#f0f921\"]]}],\"contourcarpet\":[{\"type\":\"contourcarpet\",\"colorbar\":{\"outlinewidth\":0,\"ticks\":\"\"}}],\"contour\":[{\"type\":\"contour\",\"colorbar\":{\"outlinewidth\":0,\"ticks\":\"\"},\"colorscale\":[[0.0,\"#0d0887\"],[0.1111111111111111,\"#46039f\"],[0.2222222222222222,\"#7201a8\"],[0.3333333333333333,\"#9c179e\"],[0.4444444444444444,\"#bd3786\"],[0.5555555555555556,\"#d8576b\"],[0.6666666666666666,\"#ed7953\"],[0.7777777777777778,\"#fb9f3a\"],[0.8888888888888888,\"#fdca26\"],[1.0,\"#f0f921\"]]}],\"surface\":[{\"type\":\"surface\",\"colorbar\":{\"outlinewidth\":0,\"ticks\":\"\"},\"colorscale\":[[0.0,\"#0d0887\"],[0.1111111111111111,\"#46039f\"],[0.2222222222222222,\"#7201a8\"],[0.3333333333333333,\"#9c179e\"],[0.4444444444444444,\"#bd3786\"],[0.5555555555555556,\"#d8576b\"],[0.6666666666666666,\"#ed7953\"],[0.7777777777777778,\"#fb9f3a\"],[0.8888888888888888,\"#fdca26\"],[1.0,\"#f0f921\"]]}],\"mesh3d\":[{\"type\":\"mesh3d\",\"colorbar\":{\"outlinewidth\":0,\"ticks\":\"\"}}],\"scatter\":[{\"marker\":{\"line\":{\"color\":\"#283442\"}},\"type\":\"scatter\"}],\"parcoords\":[{\"type\":\"parcoords\",\"line\":{\"colorbar\":{\"outlinewidth\":0,\"ticks\":\"\"}}}],\"scatterpolargl\":[{\"type\":\"scatterpolargl\",\"marker\":{\"colorbar\":{\"outlinewidth\":0,\"ticks\":\"\"}}}],\"bar\":[{\"error_x\":{\"color\":\"#f2f5fa\"},\"error_y\":{\"color\":\"#f2f5fa\"},\"marker\":{\"line\":{\"color\":\"rgb(17,17,17)\",\"width\":0.5},\"pattern\":{\"fillmode\":\"overlay\",\"size\":10,\"solidity\":0.2}},\"type\":\"bar\"}],\"scattergeo\":[{\"type\":\"scattergeo\",\"marker\":{\"colorbar\":{\"outlinewidth\":0,\"ticks\":\"\"}}}],\"scatterpolar\":[{\"type\":\"scatterpolar\",\"marker\":{\"colorbar\":{\"outlinewidth\":0,\"ticks\":\"\"}}}],\"histogram\":[{\"marker\":{\"pattern\":{\"fillmode\":\"overlay\",\"size\":10,\"solidity\":0.2}},\"type\":\"histogram\"}],\"scattergl\":[{\"marker\":{\"line\":{\"color\":\"#283442\"}},\"type\":\"scattergl\"}],\"scatter3d\":[{\"type\":\"scatter3d\",\"line\":{\"colorbar\":{\"outlinewidth\":0,\"ticks\":\"\"}},\"marker\":{\"colorbar\":{\"outlinewidth\":0,\"ticks\":\"\"}}}],\"scattermapbox\":[{\"type\":\"scattermapbox\",\"marker\":{\"colorbar\":{\"outlinewidth\":0,\"ticks\":\"\"}}}],\"scatterternary\":[{\"type\":\"scatterternary\",\"marker\":{\"colorbar\":{\"outlinewidth\":0,\"ticks\":\"\"}}}],\"scattercarpet\":[{\"type\":\"scattercarpet\",\"marker\":{\"colorbar\":{\"outlinewidth\":0,\"ticks\":\"\"}}}],\"carpet\":[{\"aaxis\":{\"endlinecolor\":\"#A2B1C6\",\"gridcolor\":\"#506784\",\"linecolor\":\"#506784\",\"minorgridcolor\":\"#506784\",\"startlinecolor\":\"#A2B1C6\"},\"baxis\":{\"endlinecolor\":\"#A2B1C6\",\"gridcolor\":\"#506784\",\"linecolor\":\"#506784\",\"minorgridcolor\":\"#506784\",\"startlinecolor\":\"#A2B1C6\"},\"type\":\"carpet\"}],\"table\":[{\"cells\":{\"fill\":{\"color\":\"#506784\"},\"line\":{\"color\":\"rgb(17,17,17)\"}},\"header\":{\"fill\":{\"color\":\"#2a3f5f\"},\"line\":{\"color\":\"rgb(17,17,17)\"}},\"type\":\"table\"}],\"barpolar\":[{\"marker\":{\"line\":{\"color\":\"rgb(17,17,17)\",\"width\":0.5},\"pattern\":{\"fillmode\":\"overlay\",\"size\":10,\"solidity\":0.2}},\"type\":\"barpolar\"}],\"pie\":[{\"automargin\":true,\"type\":\"pie\"}]},\"layout\":{\"autotypenumbers\":\"strict\",\"colorway\":[\"#636efa\",\"#EF553B\",\"#00cc96\",\"#ab63fa\",\"#FFA15A\",\"#19d3f3\",\"#FF6692\",\"#B6E880\",\"#FF97FF\",\"#FECB52\"],\"font\":{\"color\":\"#f2f5fa\"},\"hovermode\":\"closest\",\"hoverlabel\":{\"align\":\"left\"},\"paper_bgcolor\":\"rgb(17,17,17)\",\"plot_bgcolor\":\"rgb(17,17,17)\",\"polar\":{\"bgcolor\":\"rgb(17,17,17)\",\"angularaxis\":{\"gridcolor\":\"#506784\",\"linecolor\":\"#506784\",\"ticks\":\"\"},\"radialaxis\":{\"gridcolor\":\"#506784\",\"linecolor\":\"#506784\",\"ticks\":\"\"}},\"ternary\":{\"bgcolor\":\"rgb(17,17,17)\",\"aaxis\":{\"gridcolor\":\"#506784\",\"linecolor\":\"#506784\",\"ticks\":\"\"},\"baxis\":{\"gridcolor\":\"#506784\",\"linecolor\":\"#506784\",\"ticks\":\"\"},\"caxis\":{\"gridcolor\":\"#506784\",\"linecolor\":\"#506784\",\"ticks\":\"\"}},\"coloraxis\":{\"colorbar\":{\"outlinewidth\":0,\"ticks\":\"\"}},\"colorscale\":{\"sequential\":[[0.0,\"#0d0887\"],[0.1111111111111111,\"#46039f\"],[0.2222222222222222,\"#7201a8\"],[0.3333333333333333,\"#9c179e\"],[0.4444444444444444,\"#bd3786\"],[0.5555555555555556,\"#d8576b\"],[0.6666666666666666,\"#ed7953\"],[0.7777777777777778,\"#fb9f3a\"],[0.8888888888888888,\"#fdca26\"],[1.0,\"#f0f921\"]],\"sequentialminus\":[[0.0,\"#0d0887\"],[0.1111111111111111,\"#46039f\"],[0.2222222222222222,\"#7201a8\"],[0.3333333333333333,\"#9c179e\"],[0.4444444444444444,\"#bd3786\"],[0.5555555555555556,\"#d8576b\"],[0.6666666666666666,\"#ed7953\"],[0.7777777777777778,\"#fb9f3a\"],[0.8888888888888888,\"#fdca26\"],[1.0,\"#f0f921\"]],\"diverging\":[[0,\"#8e0152\"],[0.1,\"#c51b7d\"],[0.2,\"#de77ae\"],[0.3,\"#f1b6da\"],[0.4,\"#fde0ef\"],[0.5,\"#f7f7f7\"],[0.6,\"#e6f5d0\"],[0.7,\"#b8e186\"],[0.8,\"#7fbc41\"],[0.9,\"#4d9221\"],[1,\"#276419\"]]},\"xaxis\":{\"gridcolor\":\"#283442\",\"linecolor\":\"#506784\",\"ticks\":\"\",\"title\":{\"standoff\":15},\"zerolinecolor\":\"#283442\",\"automargin\":true,\"zerolinewidth\":2},\"yaxis\":{\"gridcolor\":\"#283442\",\"linecolor\":\"#506784\",\"ticks\":\"\",\"title\":{\"standoff\":15},\"zerolinecolor\":\"#283442\",\"automargin\":true,\"zerolinewidth\":2},\"scene\":{\"xaxis\":{\"backgroundcolor\":\"rgb(17,17,17)\",\"gridcolor\":\"#506784\",\"linecolor\":\"#506784\",\"showbackground\":true,\"ticks\":\"\",\"zerolinecolor\":\"#C8D4E3\",\"gridwidth\":2},\"yaxis\":{\"backgroundcolor\":\"rgb(17,17,17)\",\"gridcolor\":\"#506784\",\"linecolor\":\"#506784\",\"showbackground\":true,\"ticks\":\"\",\"zerolinecolor\":\"#C8D4E3\",\"gridwidth\":2},\"zaxis\":{\"backgroundcolor\":\"rgb(17,17,17)\",\"gridcolor\":\"#506784\",\"linecolor\":\"#506784\",\"showbackground\":true,\"ticks\":\"\",\"zerolinecolor\":\"#C8D4E3\",\"gridwidth\":2}},\"shapedefaults\":{\"line\":{\"color\":\"#f2f5fa\"}},\"annotationdefaults\":{\"arrowcolor\":\"#f2f5fa\",\"arrowhead\":0,\"arrowwidth\":1},\"geo\":{\"bgcolor\":\"rgb(17,17,17)\",\"landcolor\":\"rgb(17,17,17)\",\"subunitcolor\":\"#506784\",\"showland\":true,\"showlakes\":true,\"lakecolor\":\"rgb(17,17,17)\"},\"title\":{\"x\":0.05},\"updatemenudefaults\":{\"bgcolor\":\"#506784\",\"borderwidth\":0},\"sliderdefaults\":{\"bgcolor\":\"#C8D4E3\",\"borderwidth\":1,\"bordercolor\":\"rgb(17,17,17)\",\"tickwidth\":0},\"mapbox\":{\"style\":\"dark\"}}},\"xaxis\":{\"anchor\":\"y\",\"domain\":[0.0,1.0],\"title\":{\"text\":\"Megye\"}},\"yaxis\":{\"anchor\":\"x\",\"domain\":[0.0,1.0],\"title\":{\"text\":\"Export bev\\u00e9tel\"}},\"legend\":{\"title\":{\"text\":\"\\u00c9v\"},\"tracegroupgap\":0},\"margin\":{\"t\":60}},                        {\"responsive\": true}                    ).then(function(){\n                            \nvar gd = document.getElementById('5d624589-2ca1-40f9-bc62-d3781e30bbda');\nvar x = new MutationObserver(function (mutations, observer) {{\n        var display = window.getComputedStyle(gd).display;\n        if (!display || display === 'none') {{\n            console.log([gd, 'removed!']);\n            Plotly.purge(gd);\n            observer.disconnect();\n        }}\n}});\n\n// Listen for the removal of the full notebook cells\nvar notebookContainer = gd.closest('#notebook-container');\nif (notebookContainer) {{\n    x.observe(notebookContainer, {childList: true});\n}}\n\n// Listen for the clearing of the current output cell\nvar outputEl = gd.closest('.output');\nif (outputEl) {{\n    x.observe(outputEl, {childList: true});\n}}\n\n                        })                };                });            </script>        </div>"
     },
     "metadata": {},
     "output_type": "display_data"
    }
   ],
   "source": [
    "exrev_county = px.scatter(merged_df, y = ['2014','2015','2016','2017'], x = 'megye'\n",
    "                          , labels=dict(value = \"Export bevétel\", megye = \"Megye\", variable = \"Év\")\n",
    "                          )\n",
    "exrev_county.show()"
   ],
   "metadata": {
    "collapsed": false,
    "pycharm": {
     "name": "#%%\n"
    }
   }
  }
 ],
 "metadata": {
  "kernelspec": {
   "display_name": "Python 3",
   "language": "python",
   "name": "python3"
  },
  "language_info": {
   "codemirror_mode": {
    "name": "ipython",
    "version": 2
   },
   "file_extension": ".py",
   "mimetype": "text/x-python",
   "name": "python",
   "nbconvert_exporter": "python",
   "pygments_lexer": "ipython2",
   "version": "2.7.6"
  }
 },
 "nbformat": 4,
 "nbformat_minor": 0
}