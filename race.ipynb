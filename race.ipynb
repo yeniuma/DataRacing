{
 "cells": [
  {
   "cell_type": "markdown",
   "source": [
    "### TODO:\n",
    "1. ellenőrizni megyéket: lett évről-évre eltérés? --> ha nincs nagy eltérés, hozzuk egy oszlopra\n",
    "2. adatokat aggregálni megye illetve gazdálkodási forma és ágazat kategória szerint\n",
    "3. feature_importance check\n",
    "4. cross-validation\n",
    "5. number of trees to use: plot the training: num trees on x and error on y axis"
   ],
   "metadata": {
    "collapsed": false,
    "pycharm": {
     "name": "#%% md\n"
    }
   }
  },
  {
   "cell_type": "code",
   "execution_count": 4,
   "metadata": {
    "pycharm": {
     "name": "#%%\n"
    }
   },
   "outputs": [],
   "source": [
    "import pandas as pd\n",
    "import matplotlib.pyplot as plt\n",
    "import sklearn as sk"
   ]
  },
  {
   "cell_type": "code",
   "execution_count": 47,
   "metadata": {
    "pycharm": {
     "name": "#%%\n"
    }
   },
   "outputs": [],
   "source": [
    "from sklearn.model_selection import train_test_split\n",
    "\n",
    "dataset_path = './dataset'\n",
    "target_column = 'target_reg'\n",
    "\n",
    "train_df = pd.read_csv(f'{dataset_path}/train.csv')"
   ]
  },
  {
   "cell_type": "markdown",
   "source": [
    "# Clean data, reduce features"
   ],
   "metadata": {
    "collapsed": false,
    "pycharm": {
     "name": "#%% md\n"
    }
   }
  },
  {
   "cell_type": "code",
   "execution_count": 52,
   "outputs": [],
   "source": [
    "train_df.dropna(inplace=True)"
   ],
   "metadata": {
    "collapsed": false,
    "pycharm": {
     "name": "#%%\n"
    }
   }
  },
  {
   "cell_type": "markdown",
   "source": [
    "from the 3 megye columns 1 is enough, since there was no change in any of the rows"
   ],
   "metadata": {
    "collapsed": false,
    "pycharm": {
     "name": "#%% md\n"
    }
   }
  },
  {
   "cell_type": "code",
   "execution_count": 50,
   "outputs": [],
   "source": [
    "train_df_reduced_features = train_df.drop(['MEGYE_2015', 'MEGYE_2016'], axis='columns')\n",
    "train_df_reduced_features.rename({'MEGYE_2014': 'megye'}, inplace=True)"
   ],
   "metadata": {
    "collapsed": false,
    "pycharm": {
     "name": "#%%\n"
    }
   }
  },
  {
   "cell_type": "markdown",
   "source": [
    "### target_reg min miért negatív? létezik negatív export? + plottal meg lehetne vizsgálni"
   ],
   "metadata": {
    "collapsed": false,
    "pycharm": {
     "name": "#%% md\n"
    }
   }
  },
  {
   "cell_type": "code",
   "execution_count": 5,
   "outputs": [
    {
     "name": "stdout",
     "output_type": "stream",
     "text": [
      "                 id    target_reg  KATEGORIKUS_VALTOZO_2014  \\\n",
      "count  31745.000000  3.174500e+04              31745.000000   \n",
      "mean   16388.415404  2.469644e+05                  0.081997   \n",
      "std     9573.589176  2.466065e+06                  0.274365   \n",
      "min        1.000000 -1.650300e+04                  0.000000   \n",
      "25%     8139.000000  0.000000e+00                  0.000000   \n",
      "50%    16196.000000  0.000000e+00                  0.000000   \n",
      "75%    24672.000000  7.800000e+01                  0.000000   \n",
      "max    33180.000000  1.047418e+08                  1.000000   \n",
      "\n",
      "       KATEGORIKUS_VALTOZO_2015  KATEGORIKUS_VALTOZO_2016   aktelh_2014  \\\n",
      "count              31745.000000              31745.000000  3.174500e+04   \n",
      "mean                   0.079666                  0.078343  1.644770e+04   \n",
      "std                    0.270780                  0.268715  2.977193e+05   \n",
      "min                    0.000000                  0.000000  0.000000e+00   \n",
      "25%                    0.000000                  0.000000  0.000000e+00   \n",
      "50%                    0.000000                  0.000000  1.030000e+02   \n",
      "75%                    0.000000                  0.000000  1.466000e+03   \n",
      "max                    1.000000                  1.000000  3.757661e+07   \n",
      "\n",
      "        aktelh_2015   aktelh_2016  aktsajt_2014  aktsajt_2015  ...  \\\n",
      "count  3.174500e+04  3.174500e+04  3.174500e+04  3.174500e+04  ...   \n",
      "mean   1.746868e+04  1.908416e+04  6.266085e+03  5.236019e+03  ...   \n",
      "std    4.305095e+05  4.903217e+05  3.442477e+05  2.225337e+05  ...   \n",
      "min    0.000000e+00  0.000000e+00 -2.342817e+06 -4.046128e+06  ...   \n",
      "25%    0.000000e+00  0.000000e+00  0.000000e+00  0.000000e+00  ...   \n",
      "50%    1.150000e+02  1.520000e+02  0.000000e+00  0.000000e+00  ...   \n",
      "75%    1.463000e+03  1.723000e+03  0.000000e+00  0.000000e+00  ...   \n",
      "max    6.837785e+07  7.681369e+07  5.925694e+07  2.886172e+07  ...   \n",
      "\n",
      "        rovkot_2016    rszem_2014    rszem_2015    rszem_2016  sajattok_2014  \\\n",
      "count  3.174500e+04  3.174500e+04  3.174500e+04  3.174500e+04   3.174500e+04   \n",
      "mean   3.426193e+05  1.008030e+05  1.088170e+05  1.171779e+05   3.295408e+05   \n",
      "std    9.753687e+06  5.705485e+05  6.215008e+05  6.710243e+05   4.388177e+06   \n",
      "min    0.000000e+00  0.000000e+00  0.000000e+00  0.000000e+00  -3.618369e+06   \n",
      "25%    5.696000e+03  6.688000e+03  7.236000e+03  7.699000e+03   7.806000e+03   \n",
      "50%    2.164600e+04  1.459600e+04  1.578600e+04  1.687800e+04   2.970600e+04   \n",
      "75%    7.980800e+04  4.129000e+04  4.423500e+04  4.736800e+04   1.164910e+05   \n",
      "max    1.400803e+09  3.000619e+07  3.198260e+07  3.363947e+07   6.042057e+08   \n",
      "\n",
      "       sajattok_2015  sajattok_2016  targyie_2014  targyie_2015  targyie_2016  \n",
      "count   3.174500e+04   3.174500e+04  3.174500e+04  3.174500e+04  3.174500e+04  \n",
      "mean    3.545930e+05   3.980828e+05  2.840110e+05  2.948319e+05  3.131570e+05  \n",
      "std     4.779873e+06   4.839141e+06  3.668185e+06  3.583047e+06  3.700839e+06  \n",
      "min    -6.929417e+06  -5.352181e+06  0.000000e+00  0.000000e+00  0.000000e+00  \n",
      "25%     9.386000e+03   1.205500e+04  2.894000e+03  3.294000e+03  3.733000e+03  \n",
      "50%     3.419300e+04   4.246600e+04  1.680700e+04  1.847200e+04  2.028000e+04  \n",
      "75%     1.303350e+05   1.557660e+05  7.914600e+04  8.462700e+04  9.104800e+04  \n",
      "max     6.629983e+08   6.574754e+08  2.956926e+08  2.856892e+08  2.753048e+08  \n",
      "\n",
      "[8 rows x 96 columns]\n"
     ]
    }
   ],
   "source": [
    "print(train_df.describe())"
   ],
   "metadata": {
    "collapsed": false,
    "pycharm": {
     "name": "#%%\n"
    }
   }
  },
  {
   "cell_type": "code",
   "execution_count": 3,
   "metadata": {
    "pycharm": {
     "name": "#%%\n"
    }
   },
   "outputs": [
    {
     "name": "stdout",
     "output_type": "stream",
     "text": [
      "(31745, 6704)\n",
      "0\n"
     ]
    }
   ],
   "source": [
    "from sklearn.preprocessing import OneHotEncoder\n",
    "from utils import columns_to_onehotencode\n",
    "\n",
    "encoder = OneHotEncoder(handle_unknown='ignore')\n",
    "\n",
    "encoder_df = pd.DataFrame(encoder.fit_transform(train_df[[*columns_to_onehotencode]]).toarray())\n",
    "train_df.reset_index(inplace=True)\n",
    "encoder_df.reset_index(inplace=True)\n",
    "train_df = pd.concat([train_df, encoder_df], axis='columns')\n",
    "print(train_df.shape)\n",
    "print(train_df.isna().sum().sum())"
   ]
  },
  {
   "cell_type": "markdown",
   "source": [
    "# Train"
   ],
   "metadata": {
    "collapsed": false,
    "pycharm": {
     "name": "#%% md\n"
    }
   }
  },
  {
   "cell_type": "code",
   "execution_count": 4,
   "metadata": {
    "pycharm": {
     "name": "#%%\n"
    }
   },
   "outputs": [],
   "source": [
    "target_df = train_df[target_column]\n",
    "train_df.drop([target_column, *columns_to_onehotencode], axis='columns', inplace=True)\n",
    "\n",
    "train_df.columns = train_df.columns.map(str)\n",
    "\n",
    "x_train, x_test, y_train, y_test = train_test_split(train_df, target_df, random_state=42)"
   ]
  },
  {
   "cell_type": "code",
   "execution_count": 5,
   "metadata": {
    "pycharm": {
     "name": "#%%\n"
    }
   },
   "outputs": [
    {
     "name": "stdout",
     "output_type": "stream",
     "text": [
      "mean squared error: 287095634850.57904\n"
     ]
    }
   ],
   "source": [
    "from sklearn.ensemble import RandomForestRegressor\n",
    "\n",
    "rf = RandomForestRegressor(n_estimators=50, random_state=42)\n",
    "rf.fit(x_train,y_train)\n",
    "predictions = rf.predict(x_test)"
   ]
  },
  {
   "cell_type": "markdown",
   "source": [
    "# Evaluate"
   ],
   "metadata": {
    "collapsed": false,
    "pycharm": {
     "name": "#%% md\n"
    }
   }
  },
  {
   "cell_type": "code",
   "execution_count": 6,
   "outputs": [
    {
     "name": "stdout",
     "output_type": "stream",
     "text": [
      "mean squared error: 287095634850.57904\n",
      "mean absolute error: 56776.8791306539\n"
     ]
    }
   ],
   "source": [
    "from sklearn.metrics import mean_squared_error\n",
    "from sklearn.metrics import mean_absolute_error\n",
    "mse = mean_squared_error(predictions, y_test)\n",
    "mae = mean_absolute_error(predictions, y_test)\n",
    "print(f'mean squared error: {mse}')\n",
    "print(f'mean absolute error: {mae}')"
   ],
   "metadata": {
    "collapsed": false,
    "pycharm": {
     "name": "#%%\n"
    }
   }
  }
 ],
 "metadata": {
  "interpreter": {
   "hash": "16be790808116331fff687847053eaa3a24ceb69e6e14569bec2ece8f1d8444d"
  },
  "kernelspec": {
   "display_name": "Python 3.9.1 ('base')",
   "language": "python",
   "name": "python3"
  },
  "language_info": {
   "codemirror_mode": {
    "name": "ipython",
    "version": 3
   },
   "file_extension": ".py",
   "mimetype": "text/x-python",
   "name": "python",
   "nbconvert_exporter": "python",
   "pygments_lexer": "ipython3",
   "version": "3.9.1"
  },
  "orig_nbformat": 4
 },
 "nbformat": 4,
 "nbformat_minor": 2
}