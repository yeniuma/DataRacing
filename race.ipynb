{
 "cells": [
  {
   "cell_type": "code",
   "execution_count": 90,
   "metadata": {},
   "outputs": [],
   "source": [
    "import pandas as pd\n",
    "import matplotlib.pyplot as plt\n",
    "import sklearn as sk"
   ]
  },
  {
   "cell_type": "code",
   "execution_count": 91,
   "metadata": {},
   "outputs": [
    {
     "name": "stdout",
     "output_type": "stream",
     "text": [
      "0\n"
     ]
    }
   ],
   "source": [
    "from sklearn.model_selection import train_test_split\n",
    "\n",
    "dataset_path = './dataset'\n",
    "target_column = 'target_reg'\n",
    "\n",
    "train_df = pd.read_csv(f'{dataset_path}/train.csv')\n",
    "train_df.dropna(inplace=True)\n",
    "print(train_df.isnull().sum().sum())\n"
   ]
  },
  {
   "cell_type": "code",
   "execution_count": 92,
   "metadata": {},
   "outputs": [
    {
     "name": "stdout",
     "output_type": "stream",
     "text": [
      "(31745, 6702)\n",
      "8764380\n"
     ]
    }
   ],
   "source": [
    "from sklearn.preprocessing import OneHotEncoder\n",
    "encoder = OneHotEncoder(handle_unknown='ignore')\n",
    "\n",
    "columns_to_onehotencode = [\n",
    "    'MEGYE_2014',\n",
    "    'MEGYE_2015', \n",
    "    'MEGYE_2016', \n",
    "    'SZEKHELY_IR_SZAM_2014', \n",
    "    'SZEKHELY_IR_SZAM_2015', \n",
    "    'SZEKHELY_IR_SZAM_2016', \n",
    "    'GAZDALKODASI_FORMA_2014_fo_kategoria',\n",
    "\t'GAZDALKODASI_FORMA_2014_1_alkategoria',\t\n",
    "    'GAZDALKODASI_FORMA_2014_2_alkategoria',\t\n",
    "    'GAZDALKODASI_FORMA_2015_fo_kategoria',\t\n",
    "    'GAZDALKODASI_FORMA_2015_1_alkategoria',\t\n",
    "    'GAZDALKODASI_FORMA_2015_2_alkategoria',\t\n",
    "    'GAZDALKODASI_FORMA_2016_fo_kategoria',\t\n",
    "    'GAZDALKODASI_FORMA_2016_1_alkategoria',\t\n",
    "    'GAZDALKODASI_FORMA_2016_2_alkategoria',\n",
    "    'KKV_BESOROLAS_2014_fo_kategoria',\n",
    "    'KKV_BESOROLAS_2014_1_alkategoria',\n",
    "    'KKV_BESOROLAS_2014_2_alkategoria',\n",
    "    'KKV_BESOROLAS_2015_fo_kategoria',\n",
    "    'KKV_BESOROLAS_2015_1_alkategoria',\n",
    "    'KKV_BESOROLAS_2015_2_alkategoria',\n",
    "    'KKV_BESOROLAS_2016_fo_kategoria',\n",
    "    'KKV_BESOROLAS_2016_1_alkategoria',\n",
    "    'KKV_BESOROLAS_2016_2_alkategoria',\n",
    "    'agazat_2014_fo_kategoria',\n",
    "    'agazat_2014_1_alkategoria',\n",
    "    'agazat_2014_2_alkategoria',\n",
    "    'agazat_2014_3_alkategoria',\n",
    "    'agazat_2015_fo_kategoria',\n",
    "    'agazat_2015_1_alkategoria',\n",
    "    'agazat_2015_2_alkategoria',\n",
    "    'agazat_2015_3_alkategoria',\n",
    "    'agazat_2016_fo_kategoria',\n",
    "    'agazat_2016_1_alkategoria',\n",
    "    'agazat_2016_2_alkategoria',\n",
    "    'agazat_2016_3_alkategoria'\n",
    "]\n",
    "\n",
    "encoder_df = pd.DataFrame(encoder.fit_transform(train_df[[*columns_to_onehotencode]]).toarray())\n",
    "\n",
    "train_df = train_df.join(encoder_df)\n",
    "train_df.iloc[:1000,:].to_csv('train_df.csv')\n",
    "print(train_df.shape)\n",
    "print(train_df.isnull().sum().sum())"
   ]
  },
  {
   "cell_type": "code",
   "execution_count": 93,
   "metadata": {},
   "outputs": [],
   "source": [
    "target_df = train_df[target_column]\n",
    "train_df.drop([target_column, *columns_to_onehotencode], axis='columns', inplace=True)\n",
    "\n",
    "train_df.columns = train_df.columns.map(str)\n",
    "\n",
    "x_train, x_test, y_train, y_test = train_test_split(train_df, target_df, random_state=42)"
   ]
  },
  {
   "cell_type": "code",
   "execution_count": 94,
   "metadata": {},
   "outputs": [
    {
     "ename": "ValueError",
     "evalue": "Input X contains NaN.\nLinearRegression does not accept missing values encoded as NaN natively. For supervised learning, you might want to consider sklearn.ensemble.HistGradientBoostingClassifier and Regressor which accept missing values encoded as NaNs natively. Alternatively, it is possible to preprocess the data, for instance by using an imputer transformer in a pipeline or drop samples with missing values. See https://scikit-learn.org/stable/modules/impute.html You can find a list of all estimators that handle NaN values at the following page: https://scikit-learn.org/stable/modules/impute.html#estimators-that-handle-nan-values",
     "output_type": "error",
     "traceback": [
      "\u001b[1;31m---------------------------------------------------------------------------\u001b[0m",
      "\u001b[1;31mValueError\u001b[0m                                Traceback (most recent call last)",
      "\u001b[1;32md:\\dev\\data_racing\\race.ipynb Cell 5'\u001b[0m in \u001b[0;36m<cell line: 5>\u001b[1;34m()\u001b[0m\n\u001b[0;32m      <a href='vscode-notebook-cell:/d%3A/dev/data_racing/race.ipynb#ch0000004?line=1'>2</a>\u001b[0m \u001b[39mfrom\u001b[39;00m \u001b[39msklearn\u001b[39;00m\u001b[39m.\u001b[39;00m\u001b[39mmetrics\u001b[39;00m \u001b[39mimport\u001b[39;00m mean_squared_error\n\u001b[0;32m      <a href='vscode-notebook-cell:/d%3A/dev/data_racing/race.ipynb#ch0000004?line=3'>4</a>\u001b[0m lin_reg \u001b[39m=\u001b[39m LinearRegression()\n\u001b[1;32m----> <a href='vscode-notebook-cell:/d%3A/dev/data_racing/race.ipynb#ch0000004?line=4'>5</a>\u001b[0m lin_reg\u001b[39m.\u001b[39;49mfit(x_train, y_train)\n\u001b[0;32m      <a href='vscode-notebook-cell:/d%3A/dev/data_racing/race.ipynb#ch0000004?line=6'>7</a>\u001b[0m predictions \u001b[39m=\u001b[39m lin_reg\u001b[39m.\u001b[39mpredict(x_test)\n\u001b[0;32m      <a href='vscode-notebook-cell:/d%3A/dev/data_racing/race.ipynb#ch0000004?line=8'>9</a>\u001b[0m mse \u001b[39m=\u001b[39m mean_squared_error(predictions, y_test)\n",
      "File \u001b[1;32m~\\Miniconda3\\lib\\site-packages\\sklearn\\linear_model\\_base.py:684\u001b[0m, in \u001b[0;36mLinearRegression.fit\u001b[1;34m(self, X, y, sample_weight)\u001b[0m\n\u001b[0;32m    <a href='file:///c%3A/Users/Holdmedve/Miniconda3/lib/site-packages/sklearn/linear_model/_base.py?line=679'>680</a>\u001b[0m n_jobs_ \u001b[39m=\u001b[39m \u001b[39mself\u001b[39m\u001b[39m.\u001b[39mn_jobs\n\u001b[0;32m    <a href='file:///c%3A/Users/Holdmedve/Miniconda3/lib/site-packages/sklearn/linear_model/_base.py?line=681'>682</a>\u001b[0m accept_sparse \u001b[39m=\u001b[39m \u001b[39mFalse\u001b[39;00m \u001b[39mif\u001b[39;00m \u001b[39mself\u001b[39m\u001b[39m.\u001b[39mpositive \u001b[39melse\u001b[39;00m [\u001b[39m\"\u001b[39m\u001b[39mcsr\u001b[39m\u001b[39m\"\u001b[39m, \u001b[39m\"\u001b[39m\u001b[39mcsc\u001b[39m\u001b[39m\"\u001b[39m, \u001b[39m\"\u001b[39m\u001b[39mcoo\u001b[39m\u001b[39m\"\u001b[39m]\n\u001b[1;32m--> <a href='file:///c%3A/Users/Holdmedve/Miniconda3/lib/site-packages/sklearn/linear_model/_base.py?line=683'>684</a>\u001b[0m X, y \u001b[39m=\u001b[39m \u001b[39mself\u001b[39;49m\u001b[39m.\u001b[39;49m_validate_data(\n\u001b[0;32m    <a href='file:///c%3A/Users/Holdmedve/Miniconda3/lib/site-packages/sklearn/linear_model/_base.py?line=684'>685</a>\u001b[0m     X, y, accept_sparse\u001b[39m=\u001b[39;49maccept_sparse, y_numeric\u001b[39m=\u001b[39;49m\u001b[39mTrue\u001b[39;49;00m, multi_output\u001b[39m=\u001b[39;49m\u001b[39mTrue\u001b[39;49;00m\n\u001b[0;32m    <a href='file:///c%3A/Users/Holdmedve/Miniconda3/lib/site-packages/sklearn/linear_model/_base.py?line=685'>686</a>\u001b[0m )\n\u001b[0;32m    <a href='file:///c%3A/Users/Holdmedve/Miniconda3/lib/site-packages/sklearn/linear_model/_base.py?line=687'>688</a>\u001b[0m sample_weight \u001b[39m=\u001b[39m _check_sample_weight(\n\u001b[0;32m    <a href='file:///c%3A/Users/Holdmedve/Miniconda3/lib/site-packages/sklearn/linear_model/_base.py?line=688'>689</a>\u001b[0m     sample_weight, X, dtype\u001b[39m=\u001b[39mX\u001b[39m.\u001b[39mdtype, only_non_negative\u001b[39m=\u001b[39m\u001b[39mTrue\u001b[39;00m\n\u001b[0;32m    <a href='file:///c%3A/Users/Holdmedve/Miniconda3/lib/site-packages/sklearn/linear_model/_base.py?line=689'>690</a>\u001b[0m )\n\u001b[0;32m    <a href='file:///c%3A/Users/Holdmedve/Miniconda3/lib/site-packages/sklearn/linear_model/_base.py?line=691'>692</a>\u001b[0m X, y, X_offset, y_offset, X_scale \u001b[39m=\u001b[39m _preprocess_data(\n\u001b[0;32m    <a href='file:///c%3A/Users/Holdmedve/Miniconda3/lib/site-packages/sklearn/linear_model/_base.py?line=692'>693</a>\u001b[0m     X,\n\u001b[0;32m    <a href='file:///c%3A/Users/Holdmedve/Miniconda3/lib/site-packages/sklearn/linear_model/_base.py?line=693'>694</a>\u001b[0m     y,\n\u001b[1;32m   (...)\u001b[0m\n\u001b[0;32m    <a href='file:///c%3A/Users/Holdmedve/Miniconda3/lib/site-packages/sklearn/linear_model/_base.py?line=697'>698</a>\u001b[0m     sample_weight\u001b[39m=\u001b[39msample_weight,\n\u001b[0;32m    <a href='file:///c%3A/Users/Holdmedve/Miniconda3/lib/site-packages/sklearn/linear_model/_base.py?line=698'>699</a>\u001b[0m )\n",
      "File \u001b[1;32m~\\Miniconda3\\lib\\site-packages\\sklearn\\base.py:596\u001b[0m, in \u001b[0;36mBaseEstimator._validate_data\u001b[1;34m(self, X, y, reset, validate_separately, **check_params)\u001b[0m\n\u001b[0;32m    <a href='file:///c%3A/Users/Holdmedve/Miniconda3/lib/site-packages/sklearn/base.py?line=593'>594</a>\u001b[0m         y \u001b[39m=\u001b[39m check_array(y, input_name\u001b[39m=\u001b[39m\u001b[39m\"\u001b[39m\u001b[39my\u001b[39m\u001b[39m\"\u001b[39m, \u001b[39m*\u001b[39m\u001b[39m*\u001b[39mcheck_y_params)\n\u001b[0;32m    <a href='file:///c%3A/Users/Holdmedve/Miniconda3/lib/site-packages/sklearn/base.py?line=594'>595</a>\u001b[0m     \u001b[39melse\u001b[39;00m:\n\u001b[1;32m--> <a href='file:///c%3A/Users/Holdmedve/Miniconda3/lib/site-packages/sklearn/base.py?line=595'>596</a>\u001b[0m         X, y \u001b[39m=\u001b[39m check_X_y(X, y, \u001b[39m*\u001b[39m\u001b[39m*\u001b[39mcheck_params)\n\u001b[0;32m    <a href='file:///c%3A/Users/Holdmedve/Miniconda3/lib/site-packages/sklearn/base.py?line=596'>597</a>\u001b[0m     out \u001b[39m=\u001b[39m X, y\n\u001b[0;32m    <a href='file:///c%3A/Users/Holdmedve/Miniconda3/lib/site-packages/sklearn/base.py?line=598'>599</a>\u001b[0m \u001b[39mif\u001b[39;00m \u001b[39mnot\u001b[39;00m no_val_X \u001b[39mand\u001b[39;00m check_params\u001b[39m.\u001b[39mget(\u001b[39m\"\u001b[39m\u001b[39mensure_2d\u001b[39m\u001b[39m\"\u001b[39m, \u001b[39mTrue\u001b[39;00m):\n",
      "File \u001b[1;32m~\\Miniconda3\\lib\\site-packages\\sklearn\\utils\\validation.py:1074\u001b[0m, in \u001b[0;36mcheck_X_y\u001b[1;34m(X, y, accept_sparse, accept_large_sparse, dtype, order, copy, force_all_finite, ensure_2d, allow_nd, multi_output, ensure_min_samples, ensure_min_features, y_numeric, estimator)\u001b[0m\n\u001b[0;32m   <a href='file:///c%3A/Users/Holdmedve/Miniconda3/lib/site-packages/sklearn/utils/validation.py?line=1068'>1069</a>\u001b[0m         estimator_name \u001b[39m=\u001b[39m _check_estimator_name(estimator)\n\u001b[0;32m   <a href='file:///c%3A/Users/Holdmedve/Miniconda3/lib/site-packages/sklearn/utils/validation.py?line=1069'>1070</a>\u001b[0m     \u001b[39mraise\u001b[39;00m \u001b[39mValueError\u001b[39;00m(\n\u001b[0;32m   <a href='file:///c%3A/Users/Holdmedve/Miniconda3/lib/site-packages/sklearn/utils/validation.py?line=1070'>1071</a>\u001b[0m         \u001b[39mf\u001b[39m\u001b[39m\"\u001b[39m\u001b[39m{\u001b[39;00mestimator_name\u001b[39m}\u001b[39;00m\u001b[39m requires y to be passed, but the target y is None\u001b[39m\u001b[39m\"\u001b[39m\n\u001b[0;32m   <a href='file:///c%3A/Users/Holdmedve/Miniconda3/lib/site-packages/sklearn/utils/validation.py?line=1071'>1072</a>\u001b[0m     )\n\u001b[1;32m-> <a href='file:///c%3A/Users/Holdmedve/Miniconda3/lib/site-packages/sklearn/utils/validation.py?line=1073'>1074</a>\u001b[0m X \u001b[39m=\u001b[39m check_array(\n\u001b[0;32m   <a href='file:///c%3A/Users/Holdmedve/Miniconda3/lib/site-packages/sklearn/utils/validation.py?line=1074'>1075</a>\u001b[0m     X,\n\u001b[0;32m   <a href='file:///c%3A/Users/Holdmedve/Miniconda3/lib/site-packages/sklearn/utils/validation.py?line=1075'>1076</a>\u001b[0m     accept_sparse\u001b[39m=\u001b[39;49maccept_sparse,\n\u001b[0;32m   <a href='file:///c%3A/Users/Holdmedve/Miniconda3/lib/site-packages/sklearn/utils/validation.py?line=1076'>1077</a>\u001b[0m     accept_large_sparse\u001b[39m=\u001b[39;49maccept_large_sparse,\n\u001b[0;32m   <a href='file:///c%3A/Users/Holdmedve/Miniconda3/lib/site-packages/sklearn/utils/validation.py?line=1077'>1078</a>\u001b[0m     dtype\u001b[39m=\u001b[39;49mdtype,\n\u001b[0;32m   <a href='file:///c%3A/Users/Holdmedve/Miniconda3/lib/site-packages/sklearn/utils/validation.py?line=1078'>1079</a>\u001b[0m     order\u001b[39m=\u001b[39;49morder,\n\u001b[0;32m   <a href='file:///c%3A/Users/Holdmedve/Miniconda3/lib/site-packages/sklearn/utils/validation.py?line=1079'>1080</a>\u001b[0m     copy\u001b[39m=\u001b[39;49mcopy,\n\u001b[0;32m   <a href='file:///c%3A/Users/Holdmedve/Miniconda3/lib/site-packages/sklearn/utils/validation.py?line=1080'>1081</a>\u001b[0m     force_all_finite\u001b[39m=\u001b[39;49mforce_all_finite,\n\u001b[0;32m   <a href='file:///c%3A/Users/Holdmedve/Miniconda3/lib/site-packages/sklearn/utils/validation.py?line=1081'>1082</a>\u001b[0m     ensure_2d\u001b[39m=\u001b[39;49mensure_2d,\n\u001b[0;32m   <a href='file:///c%3A/Users/Holdmedve/Miniconda3/lib/site-packages/sklearn/utils/validation.py?line=1082'>1083</a>\u001b[0m     allow_nd\u001b[39m=\u001b[39;49mallow_nd,\n\u001b[0;32m   <a href='file:///c%3A/Users/Holdmedve/Miniconda3/lib/site-packages/sklearn/utils/validation.py?line=1083'>1084</a>\u001b[0m     ensure_min_samples\u001b[39m=\u001b[39;49mensure_min_samples,\n\u001b[0;32m   <a href='file:///c%3A/Users/Holdmedve/Miniconda3/lib/site-packages/sklearn/utils/validation.py?line=1084'>1085</a>\u001b[0m     ensure_min_features\u001b[39m=\u001b[39;49mensure_min_features,\n\u001b[0;32m   <a href='file:///c%3A/Users/Holdmedve/Miniconda3/lib/site-packages/sklearn/utils/validation.py?line=1085'>1086</a>\u001b[0m     estimator\u001b[39m=\u001b[39;49mestimator,\n\u001b[0;32m   <a href='file:///c%3A/Users/Holdmedve/Miniconda3/lib/site-packages/sklearn/utils/validation.py?line=1086'>1087</a>\u001b[0m     input_name\u001b[39m=\u001b[39;49m\u001b[39m\"\u001b[39;49m\u001b[39mX\u001b[39;49m\u001b[39m\"\u001b[39;49m,\n\u001b[0;32m   <a href='file:///c%3A/Users/Holdmedve/Miniconda3/lib/site-packages/sklearn/utils/validation.py?line=1087'>1088</a>\u001b[0m )\n\u001b[0;32m   <a href='file:///c%3A/Users/Holdmedve/Miniconda3/lib/site-packages/sklearn/utils/validation.py?line=1089'>1090</a>\u001b[0m y \u001b[39m=\u001b[39m _check_y(y, multi_output\u001b[39m=\u001b[39mmulti_output, y_numeric\u001b[39m=\u001b[39my_numeric, estimator\u001b[39m=\u001b[39mestimator)\n\u001b[0;32m   <a href='file:///c%3A/Users/Holdmedve/Miniconda3/lib/site-packages/sklearn/utils/validation.py?line=1091'>1092</a>\u001b[0m check_consistent_length(X, y)\n",
      "File \u001b[1;32m~\\Miniconda3\\lib\\site-packages\\sklearn\\utils\\validation.py:899\u001b[0m, in \u001b[0;36mcheck_array\u001b[1;34m(array, accept_sparse, accept_large_sparse, dtype, order, copy, force_all_finite, ensure_2d, allow_nd, ensure_min_samples, ensure_min_features, estimator, input_name)\u001b[0m\n\u001b[0;32m    <a href='file:///c%3A/Users/Holdmedve/Miniconda3/lib/site-packages/sklearn/utils/validation.py?line=892'>893</a>\u001b[0m         \u001b[39mraise\u001b[39;00m \u001b[39mValueError\u001b[39;00m(\n\u001b[0;32m    <a href='file:///c%3A/Users/Holdmedve/Miniconda3/lib/site-packages/sklearn/utils/validation.py?line=893'>894</a>\u001b[0m             \u001b[39m\"\u001b[39m\u001b[39mFound array with dim \u001b[39m\u001b[39m%d\u001b[39;00m\u001b[39m. \u001b[39m\u001b[39m%s\u001b[39;00m\u001b[39m expected <= 2.\u001b[39m\u001b[39m\"\u001b[39m\n\u001b[0;32m    <a href='file:///c%3A/Users/Holdmedve/Miniconda3/lib/site-packages/sklearn/utils/validation.py?line=894'>895</a>\u001b[0m             \u001b[39m%\u001b[39m (array\u001b[39m.\u001b[39mndim, estimator_name)\n\u001b[0;32m    <a href='file:///c%3A/Users/Holdmedve/Miniconda3/lib/site-packages/sklearn/utils/validation.py?line=895'>896</a>\u001b[0m         )\n\u001b[0;32m    <a href='file:///c%3A/Users/Holdmedve/Miniconda3/lib/site-packages/sklearn/utils/validation.py?line=897'>898</a>\u001b[0m     \u001b[39mif\u001b[39;00m force_all_finite:\n\u001b[1;32m--> <a href='file:///c%3A/Users/Holdmedve/Miniconda3/lib/site-packages/sklearn/utils/validation.py?line=898'>899</a>\u001b[0m         _assert_all_finite(\n\u001b[0;32m    <a href='file:///c%3A/Users/Holdmedve/Miniconda3/lib/site-packages/sklearn/utils/validation.py?line=899'>900</a>\u001b[0m             array,\n\u001b[0;32m    <a href='file:///c%3A/Users/Holdmedve/Miniconda3/lib/site-packages/sklearn/utils/validation.py?line=900'>901</a>\u001b[0m             input_name\u001b[39m=\u001b[39;49minput_name,\n\u001b[0;32m    <a href='file:///c%3A/Users/Holdmedve/Miniconda3/lib/site-packages/sklearn/utils/validation.py?line=901'>902</a>\u001b[0m             estimator_name\u001b[39m=\u001b[39;49mestimator_name,\n\u001b[0;32m    <a href='file:///c%3A/Users/Holdmedve/Miniconda3/lib/site-packages/sklearn/utils/validation.py?line=902'>903</a>\u001b[0m             allow_nan\u001b[39m=\u001b[39;49mforce_all_finite \u001b[39m==\u001b[39;49m \u001b[39m\"\u001b[39;49m\u001b[39mallow-nan\u001b[39;49m\u001b[39m\"\u001b[39;49m,\n\u001b[0;32m    <a href='file:///c%3A/Users/Holdmedve/Miniconda3/lib/site-packages/sklearn/utils/validation.py?line=903'>904</a>\u001b[0m         )\n\u001b[0;32m    <a href='file:///c%3A/Users/Holdmedve/Miniconda3/lib/site-packages/sklearn/utils/validation.py?line=905'>906</a>\u001b[0m \u001b[39mif\u001b[39;00m ensure_min_samples \u001b[39m>\u001b[39m \u001b[39m0\u001b[39m:\n\u001b[0;32m    <a href='file:///c%3A/Users/Holdmedve/Miniconda3/lib/site-packages/sklearn/utils/validation.py?line=906'>907</a>\u001b[0m     n_samples \u001b[39m=\u001b[39m _num_samples(array)\n",
      "File \u001b[1;32m~\\Miniconda3\\lib\\site-packages\\sklearn\\utils\\validation.py:146\u001b[0m, in \u001b[0;36m_assert_all_finite\u001b[1;34m(X, allow_nan, msg_dtype, estimator_name, input_name)\u001b[0m\n\u001b[0;32m    <a href='file:///c%3A/Users/Holdmedve/Miniconda3/lib/site-packages/sklearn/utils/validation.py?line=123'>124</a>\u001b[0m         \u001b[39mif\u001b[39;00m (\n\u001b[0;32m    <a href='file:///c%3A/Users/Holdmedve/Miniconda3/lib/site-packages/sklearn/utils/validation.py?line=124'>125</a>\u001b[0m             \u001b[39mnot\u001b[39;00m allow_nan\n\u001b[0;32m    <a href='file:///c%3A/Users/Holdmedve/Miniconda3/lib/site-packages/sklearn/utils/validation.py?line=125'>126</a>\u001b[0m             \u001b[39mand\u001b[39;00m estimator_name\n\u001b[1;32m   (...)\u001b[0m\n\u001b[0;32m    <a href='file:///c%3A/Users/Holdmedve/Miniconda3/lib/site-packages/sklearn/utils/validation.py?line=129'>130</a>\u001b[0m             \u001b[39m# Improve the error message on how to handle missing values in\u001b[39;00m\n\u001b[0;32m    <a href='file:///c%3A/Users/Holdmedve/Miniconda3/lib/site-packages/sklearn/utils/validation.py?line=130'>131</a>\u001b[0m             \u001b[39m# scikit-learn.\u001b[39;00m\n\u001b[0;32m    <a href='file:///c%3A/Users/Holdmedve/Miniconda3/lib/site-packages/sklearn/utils/validation.py?line=131'>132</a>\u001b[0m             msg_err \u001b[39m+\u001b[39m\u001b[39m=\u001b[39m (\n\u001b[0;32m    <a href='file:///c%3A/Users/Holdmedve/Miniconda3/lib/site-packages/sklearn/utils/validation.py?line=132'>133</a>\u001b[0m                 \u001b[39mf\u001b[39m\u001b[39m\"\u001b[39m\u001b[39m\\n\u001b[39;00m\u001b[39m{\u001b[39;00mestimator_name\u001b[39m}\u001b[39;00m\u001b[39m does not accept missing values\u001b[39m\u001b[39m\"\u001b[39m\n\u001b[0;32m    <a href='file:///c%3A/Users/Holdmedve/Miniconda3/lib/site-packages/sklearn/utils/validation.py?line=133'>134</a>\u001b[0m                 \u001b[39m\"\u001b[39m\u001b[39m encoded as NaN natively. For supervised learning, you might want\u001b[39m\u001b[39m\"\u001b[39m\n\u001b[1;32m   (...)\u001b[0m\n\u001b[0;32m    <a href='file:///c%3A/Users/Holdmedve/Miniconda3/lib/site-packages/sklearn/utils/validation.py?line=143'>144</a>\u001b[0m                 \u001b[39m\"\u001b[39m\u001b[39m#estimators-that-handle-nan-values\u001b[39m\u001b[39m\"\u001b[39m\n\u001b[0;32m    <a href='file:///c%3A/Users/Holdmedve/Miniconda3/lib/site-packages/sklearn/utils/validation.py?line=144'>145</a>\u001b[0m             )\n\u001b[1;32m--> <a href='file:///c%3A/Users/Holdmedve/Miniconda3/lib/site-packages/sklearn/utils/validation.py?line=145'>146</a>\u001b[0m         \u001b[39mraise\u001b[39;00m \u001b[39mValueError\u001b[39;00m(msg_err)\n\u001b[0;32m    <a href='file:///c%3A/Users/Holdmedve/Miniconda3/lib/site-packages/sklearn/utils/validation.py?line=147'>148</a>\u001b[0m \u001b[39m# for object dtype data, we only check for NaNs (GH-13254)\u001b[39;00m\n\u001b[0;32m    <a href='file:///c%3A/Users/Holdmedve/Miniconda3/lib/site-packages/sklearn/utils/validation.py?line=148'>149</a>\u001b[0m \u001b[39melif\u001b[39;00m X\u001b[39m.\u001b[39mdtype \u001b[39m==\u001b[39m np\u001b[39m.\u001b[39mdtype(\u001b[39m\"\u001b[39m\u001b[39mobject\u001b[39m\u001b[39m\"\u001b[39m) \u001b[39mand\u001b[39;00m \u001b[39mnot\u001b[39;00m allow_nan:\n",
      "\u001b[1;31mValueError\u001b[0m: Input X contains NaN.\nLinearRegression does not accept missing values encoded as NaN natively. For supervised learning, you might want to consider sklearn.ensemble.HistGradientBoostingClassifier and Regressor which accept missing values encoded as NaNs natively. Alternatively, it is possible to preprocess the data, for instance by using an imputer transformer in a pipeline or drop samples with missing values. See https://scikit-learn.org/stable/modules/impute.html You can find a list of all estimators that handle NaN values at the following page: https://scikit-learn.org/stable/modules/impute.html#estimators-that-handle-nan-values"
     ]
    }
   ],
   "source": [
    "from sklearn.linear_model import LinearRegression\n",
    "from sklearn.metrics import mean_squared_error\n",
    "\n",
    "lin_reg = LinearRegression()\n",
    "lin_reg.fit(x_train, y_train)\n",
    "\n",
    "predictions = lin_reg.predict(x_test)\n",
    "\n",
    "mse = mean_squared_error(predictions, y_test)\n",
    "print(f'mean squared error: {mse}')"
   ]
  }
 ],
 "metadata": {
  "interpreter": {
   "hash": "16be790808116331fff687847053eaa3a24ceb69e6e14569bec2ece8f1d8444d"
  },
  "kernelspec": {
   "display_name": "Python 3.9.1 ('base')",
   "language": "python",
   "name": "python3"
  },
  "language_info": {
   "codemirror_mode": {
    "name": "ipython",
    "version": 3
   },
   "file_extension": ".py",
   "mimetype": "text/x-python",
   "name": "python",
   "nbconvert_exporter": "python",
   "pygments_lexer": "ipython3",
   "version": "3.9.1"
  },
  "orig_nbformat": 4
 },
 "nbformat": 4,
 "nbformat_minor": 2
}
